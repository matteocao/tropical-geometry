{
 "cells": [
  {
   "cell_type": "markdown",
   "metadata": {},
   "source": [
    "# Introduction to tropical geometry\n",
    "\n",
    "#### Author: Matteo Caorsi\n",
    "\n",
    "In this notebook I will introduce the basics of tropical geometry from an intuitive perspective rather than focussing on the formalism.\n",
    "\n",
    "## Introduction\n",
    "\n",
    "Tropical geometry attempts to give a combinatorial and simplified description of complex algebraic geometry by substituting $\\mathbb C$ with the tropical semiring $\\bar{ \\mathbb R}$ defined below.\n",
    "\n",
    "Many combinatorial objects (polyhedra, fans, cones,...) will appear out of the tropical vareity and their characteristics will define many of the known algebraic and topological properties of the corresponding complex counterparts."
   ]
  },
  {
   "cell_type": "code",
   "execution_count": 1,
   "metadata": {},
   "outputs": [],
   "source": [
    "# imports\n",
    "import matplotlib.pyplot as plt\n",
    "import numpy as np\n",
    "from matplotlib import collections  as coll"
   ]
  },
  {
   "cell_type": "markdown",
   "metadata": {},
   "source": [
    "## Tropical semiring\n",
    "Let $a,b \\in \\bar{ \\mathbb R}$ where $\\bar{ \\mathbb R} = \\mathbb R \\cap \\{+\\infty\\}$\n",
    "\n",
    "Define the operations is the tropical semiring as:\n",
    " - $a \\oplus b := min(a,b)$\n",
    " - $a \\otimes b := a + b$\n",
    "\n",
    "There is no notion of $\\ominus$, hence the semi-ring structure and not the full ring one.\n",
    "\n",
    "#### Neutral elements:\n",
    "\n",
    " - addition: $+\\infty$\n",
    " - multiplication: $0$\n",
    " \n",
    "These are the neutral elements of the operations, as we can easily check from the defintion."
   ]
  },
  {
   "cell_type": "code",
   "execution_count": 2,
   "metadata": {},
   "outputs": [
    {
     "name": "stdout",
     "output_type": "stream",
     "text": [
      "1\n",
      "5/3\n"
     ]
    }
   ],
   "source": [
    "T = TropicalSemiring(QQ)\n",
    "\n",
    "print(T(1)+T(2))\n",
    "print(T(1)*T(2/3))"
   ]
  },
  {
   "cell_type": "code",
   "execution_count": 3,
   "metadata": {},
   "outputs": [],
   "source": [
    "# Neutral element multiplication\n",
    "T(0)*T(101)\n",
    "assert T(0) == T.one()"
   ]
  },
  {
   "cell_type": "code",
   "execution_count": 4,
   "metadata": {},
   "outputs": [],
   "source": [
    "# Neutral element addition\n",
    "T.infinity() + T(101)\n",
    "assert T.infinity()  == T.zero()"
   ]
  },
  {
   "cell_type": "markdown",
   "metadata": {},
   "source": [
    "## Tropical variety\n",
    "\n",
    "We need first to define the tropicalisation of a polynomial equaltion.\n",
    "\n",
    "Start with the polynomial $f \\in \\mathbb Q[x, y], f = x^2 + 2y^3 + 1$.\n",
    "\n",
    "Then: \n",
    "$$trop(f) = x \\otimes x \\oplus 2 \\otimes y \\otimes y \\otimes y \\oplus 1 = min(2x, 2+2y, 1)$$\n",
    "\n",
    "The above construction generalises to all dimensions.\n",
    "\n",
    "Then, you can define a tropical variety as:\n",
    "$$V(trop(f)) := \\{ w \\in \\bar{ \\mathbb R}^n : trop(f)(w)=\\infty \\text{ or the minimum in } trop(f)(w) \\text{ is attained twice}\\}$$\n",
    "\n",
    "Notice that the above is the *correct* tropical version of $V(f) = \\{x \\in \\mathbb R^n | f(x)=0\\}$"
   ]
  },
  {
   "cell_type": "code",
   "execution_count": 5,
   "metadata": {},
   "outputs": [],
   "source": [
    "# slow plotting algorithm\n",
    "# taken from https://wangweikun.com/math-software/graphing-tropical-curve-in-sagemath/\n",
    "\n",
    "\n",
    "def plot_tropical_curve(trop: str = \"u**2+t**(-1)*w**2+u*w+u+t*w+t**(-1)\", \n",
    "                        maxmin: bool = True, \n",
    "                        color=\"blue\"):\n",
    "    \"\"\"This function plots the tropical curves.\n",
    "    \n",
    "    Args:\n",
    "        trop (str): this is the curve written in the variables\n",
    "            `u`and `w` with paramter `t`. `t` is the parameter\n",
    "            of the Puiseux ring, used to parametrize coefficients\n",
    "            and whose valuation gives the tropicalisation.\n",
    "            Example of curve:\n",
    "            ```\n",
    "            u**2+t**(-1)*w**2+u*w+u+t*w+t**(-1)\n",
    "            ```\n",
    "        maxmin (bool): this flagg is to consider the tropical or the\n",
    "            polar semiring. If `True`, the `min` is used for additions\n",
    "            \n",
    "    Returns:\n",
    "        (list): list of elements to be plotted\n",
    "    \"\"\"\n",
    "    var('xmin, xmax, ymin, ymax')\n",
    "    xmin=-10\n",
    "    xmax=10\n",
    "    ymin=-10\n",
    "    ymax=10\n",
    "    _.<t,u,w> = LaurentPolynomialRing(QQ)\n",
    "    f=eval(trop)\n",
    "    f_exp=f.exponents()\n",
    "    var(\"x, y\")\n",
    "    S=[]\n",
    "    for i in range(len(f_exp)):\n",
    "        if maxmin:\n",
    "            g=f_exp[i][0]-f_exp[i][1]*x-f_exp[i][2]*y  # change + to - if you want to use min instead of max for tropicalization \n",
    "        else:\n",
    "            g=f_exp[i][0]+f_exp[i][1]*x+f_exp[i][2]*y\n",
    "        S.append(g) \n",
    "    Eq=[]\n",
    "    X_lb=[]\n",
    "    X_ub=[]\n",
    "    Y_lb=[]\n",
    "    Y_ub=[]\n",
    "    print(\"plotting tropical curve... \\n\")\n",
    "    for ii in range(0,len(f_exp)-1):\n",
    "        print(ii, \" / \",len(f_exp)-1,end='\\r')\n",
    "        for j in range(ii+1,len(f_exp)):\n",
    "            P=[]\n",
    "            P.append(S[ii]>=S[j])\n",
    "            P.append(S[j]>=S[ii])\n",
    "            for k in range(0,len(f_exp)):\n",
    "                if k!=ii and k!= j:\n",
    "                    P.append(S[ii]>=S[k])\n",
    "            sol=solve_ineq(P,[x,y])\n",
    "            if len(sol)==2:\n",
    "                if str(sol[1][1].lhs())=='x' or str(sol[1][1].rhs())=='x':\n",
    "                    if RealSet(sol[1][1]).contains(xmin)==True: \n",
    "                        X_lb.append(xmin)\n",
    "                        X_ub.append(sol[0][0].rhs())\n",
    "                        Y_lb.append(ymin)\n",
    "                        Y_ub.append(ymax)\n",
    "                        Eq.append(S[ii]-S[j])\n",
    "                    elif RealSet(sol[1][1]).contains(xmax)==True:\n",
    "                        X_lb.append(sol[0][0].rhs())\n",
    "                        X_ub.append(xmax)\n",
    "                        Y_lb.append(ymin)\n",
    "                        Y_ub.append(ymax)\n",
    "                        Eq.append(S[ii]-S[j]) \n",
    "                elif str(sol[1][1].lhs())=='y' or str(sol[1][1].rhs())=='y':\n",
    "                    if RealSet(sol[1][1]).contains(ymin)==True:\n",
    "                        X_lb.append(xmin)\n",
    "                        X_ub.append(xmax)\n",
    "                        Y_lb.append(ymin)\n",
    "                        Y_ub.append(sol[0][1].rhs())\n",
    "                        Eq.append(S[ii]-S[j]) \n",
    "                    elif RealSet(sol[1][1]).contains(ymax)==True:\n",
    "                        X_lb.append(xmin)\n",
    "                        X_ub.append(xmax)\n",
    "                        Y_lb.append(sol[0][1].rhs())\n",
    "                        Y_ub.append(ymax)\n",
    "                        Eq.append(S[ii]-S[j])        \n",
    "            elif len(sol)==3:\n",
    "                if sol[0][1].rhs()==sol[1][1].rhs():\n",
    "                    X_lb.append(min(sol[0][0].rhs(),sol[1][0].rhs()))\n",
    "                    X_ub.append(max(sol[0][0].rhs(),sol[1][0].rhs()))\n",
    "                    Y_lb.append(ymin)\n",
    "                    Y_ub.append(ymax)\n",
    "                    Eq.append(S[ii]-S[j])\n",
    "                else:\n",
    "                    X_lb.append(xmin)\n",
    "                    X_ub.append(xmax)\n",
    "                    Y_lb.append(min(sol[0][1].rhs(),sol[1][1].rhs()))\n",
    "                    Y_ub.append(max(sol[0][1].rhs(),sol[1][1].rhs()))\n",
    "                    Eq.append(S[ii]-S[j])\n",
    "    gr=[]\n",
    "    for jj in range(0,len(Eq)):\n",
    "        ##print(Eq[i])  ## remove # if you want to see the equation of the line\n",
    "        gr.append(implicit_plot(Eq[jj],(x,X_lb[jj],X_ub[jj]),(y,Y_lb[jj],Y_ub[jj]), color=color))\n",
    "    return sum(gr)\n",
    "    \n"
   ]
  },
  {
   "cell_type": "code",
   "execution_count": 6,
   "metadata": {},
   "outputs": [
    {
     "name": "stdout",
     "output_type": "stream",
     "text": [
      "plotting tropical curve... \n",
      "\n",
      "4  /  5\r"
     ]
    },
    {
     "data": {
      "image/png": "[encoded data removed]",
      "text/plain": [
       "Graphics object consisting of 9 graphics primitives"
      ]
     },
     "execution_count": 6,
     "metadata": {},
     "output_type": "execute_result"
    }
   ],
   "source": [
    "plot_tropical_curve()  # with default curve"
   ]
  },
  {
   "cell_type": "markdown",
   "metadata": {},
   "source": [
    "### Tropical line\n",
    "\n",
    "The tropical line (in $\\mathbb Q[x, y]$) is defined as\n",
    "\n",
    "$$l = x \\oplus y \\oplus 0$$"
   ]
  },
  {
   "cell_type": "code",
   "execution_count": 7,
   "metadata": {},
   "outputs": [
    {
     "name": "stdout",
     "output_type": "stream",
     "text": [
      "plotting tropical curve... \n",
      "\n",
      "0  /  2\r",
      "1  /  2\r"
     ]
    },
    {
     "data": {
      "image/png": "[encoded data removed]",
      "text/plain": [
       "Graphics object consisting of 3 graphics primitives"
      ]
     },
     "execution_count": 7,
     "metadata": {},
     "output_type": "execute_result"
    }
   ],
   "source": [
    "line_fig = plot_tropical_curve(\"u + w + t\")  # tropical line\n",
    "line_fig"
   ]
  },
  {
   "cell_type": "markdown",
   "metadata": {},
   "source": [
    "#### Observation\n",
    "\n",
    "A tropical curve -- and also surfaces and more -- do look like *polyhedral complexes*. Such complexes cannot be generic: we will see in the **structure theorem** what properties they must satisfy.\n",
    "\n",
    "In the appendix, we will also see how to associate, to each cell of the polyhedral complex, an equivalence class of ideals (called $in_w(I)$)."
   ]
  },
  {
   "cell_type": "markdown",
   "metadata": {},
   "source": [
    "## Tropical polytope\n",
    "\n",
    "To each tropical variety, it is possible to associate a polytope.\n",
    "\n",
    "Such polytope is the convex hull of the points in the monomial lattice.\n",
    "\n",
    "The monomial lattice of $\\mathbb Q[x_1, ..., x_n]$ is the lattice isomorphic to $\\mathbb Z^n$ in which the coordinates of the point $m$ correspond to the monomial $x^m$, e.g. $m = (1,2,0,3)$ then $x^m = x_1x_2^2x_4^3$. "
   ]
  },
  {
   "cell_type": "code",
   "execution_count": 8,
   "metadata": {},
   "outputs": [],
   "source": [
    "def tropical_polyhedron(f: str = \"u**2 - 2*w**3 + u*w - 1\"):\n",
    "    \"\"\"This functions build the tropical polyhedron\n",
    "    associated to the defining polynomial equation.\n",
    "    \n",
    "    Args:\n",
    "        f (str): polynomial in x,y,t where t is \n",
    "        the Puiseux coefficient, with opposite\n",
    "        sign with respect to thhe valuation\n",
    "        \n",
    "    Returns:\n",
    "        (Polyhedron): the tropical polyhedron\n",
    "    \"\"\"\n",
    "    _.<u, w, t> = LaurentPolynomialRing(QQ)\n",
    "    f_poly = eval(f)\n",
    "    vtx = f_poly.exponents()\n",
    "    hull = Polyhedron(vertices = vtx)\n",
    "    return hull\n",
    "\n",
    "p = tropical_polyhedron()  # with default curve\n"
   ]
  },
  {
   "cell_type": "code",
   "execution_count": 9,
   "metadata": {},
   "outputs": [
    {
     "data": {
      "text/plain": [
       "(A vertex at (0, 0, 0), A vertex at (0, 3, 0), A vertex at (2, 0, 0))"
      ]
     },
     "execution_count": 9,
     "metadata": {},
     "output_type": "execute_result"
    }
   ],
   "source": [
    "p.vertices()  # only the external convex hull is relevant"
   ]
  },
  {
   "cell_type": "markdown",
   "metadata": {},
   "source": [
    "But how do we relate this polytope to the tropical variety?"
   ]
  },
  {
   "cell_type": "code",
   "execution_count": 10,
   "metadata": {},
   "outputs": [
    {
     "data": {
      "text/html": [
       "\n",
       "<iframe srcdoc=\"<!DOCTYPE html>\n",
       "<html>\n",
       "<head>\n",
       "<title></title>\n",
       "<meta charset=&quot;utf-8&quot;>\n",
       "<meta name=viewport content=&quot;width=device-width, user-scalable=no, minimum-scale=1.0, maximum-scale=1.0&quot;>\n",
       "<style>\n",
       "\n",
       "    body { margin: 0px; overflow: hidden; }\n",
       "\n",
       "    #menu-container { position: absolute; bottom: 30px; right: 40px; cursor: default; }\n",
       "\n",
       "    #menu-message { position: absolute; bottom: 0px; right: 0px; white-space: nowrap;\n",
       "                    display: none; background-color: #F5F5F5; padding: 10px; }\n",
       "\n",
       "    #menu-content { position: absolute; bottom: 0px; right: 0px;\n",
       "                    display: none; background-color: #F5F5F5; border-bottom: 1px solid black;\n",
       "                    border-right: 1px solid black; border-left: 1px solid black; }\n",
       "\n",
       "    #menu-content div { border-top: 1px solid black; padding: 10px; white-space: nowrap; }\n",
       "\n",
       "    #menu-content div:hover { background-color: #FEFEFE;; }\n",
       "  \n",
       "</style>\n",
       "</head>\n",
       "\n",
       "<body>\n",
       "\n",
       "<script src=&quot;/nbextensions/threejs/build/three.min.js&quot;></script>\n",
       "<script src=&quot;/nbextensions/threejs/examples/js/controls/OrbitControls.js&quot;></script>\n",
       "<script>\n",
       "  if ( !window.THREE ) document.write(' \\\n",
       "<script src=&quot;https://cdn.jsdelivr.net/gh/mrdoob/three.js@r110/build/three.min.js&quot;><\\/script> \\\n",
       "<script src=&quot;https://cdn.jsdelivr.net/gh/mrdoob/three.js@r110/examples/js/controls/OrbitControls.js&quot;><\\/script> \\\n",
       "            ');\n",
       "</script>\n",
       "        \n",
       "<script>\n",
       "\n",
       "    var scene = new THREE.Scene();\n",
       "\n",
       "    var renderer = new THREE.WebGLRenderer( { antialias: true, preserveDrawingBuffer: true } );\n",
       "    renderer.setPixelRatio( window.devicePixelRatio );\n",
       "    renderer.setSize( window.innerWidth, window.innerHeight );\n",
       "    renderer.setClearColor( 0xffffff, 1 );\n",
       "    document.body.appendChild( renderer.domElement );\n",
       "\n",
       "    var options = {&quot;aspectRatio&quot;: [1.0, 1.0, 1.0], &quot;axes&quot;: false, &quot;axesLabels&quot;: [&quot;x&quot;, &quot;y&quot;, &quot;z&quot;], &quot;decimals&quot;: 2, &quot;frame&quot;: true, &quot;projection&quot;: &quot;perspective&quot;};\n",
       "\n",
       "    // When animations are supported by the viewer, the value 'false'\n",
       "    // will be replaced with an option set in Python by the user\n",
       "    var animate = false; // options.animate;\n",
       "\n",
       "    var b = [{&quot;x&quot;:0.0, &quot;y&quot;:0.0, &quot;z&quot;:-2.0}, {&quot;x&quot;:2.0, &quot;y&quot;:3.0, &quot;z&quot;:1.0}]; // bounds\n",
       "\n",
       "    if ( b[0].x === b[1].x ) {\n",
       "        b[0].x -= 1;\n",
       "        b[1].x += 1;\n",
       "    }\n",
       "    if ( b[0].y === b[1].y ) {\n",
       "        b[0].y -= 1;\n",
       "        b[1].y += 1;\n",
       "    }\n",
       "    if ( b[0].z === b[1].z ) {\n",
       "        b[0].z -= 1;\n",
       "        b[1].z += 1;\n",
       "    }\n",
       "\n",
       "    var rRange = Math.sqrt( Math.pow( b[1].x - b[0].x, 2 )\n",
       "                            + Math.pow( b[1].y - b[0].y, 2 ) );\n",
       "    var xRange = b[1].x - b[0].x;\n",
       "    var yRange = b[1].y - b[0].y;\n",
       "    var zRange = b[1].z - b[0].z;\n",
       "\n",
       "    var ar = options.aspectRatio;\n",
       "    var a = [ ar[0], ar[1], ar[2] ]; // aspect multipliers\n",
       "    var autoAspect = 2.5;\n",
       "    if ( zRange > autoAspect * rRange && a[2] === 1 ) a[2] = autoAspect * rRange / zRange;\n",
       "\n",
       "    // Distance from (xMid,yMid,zMid) to any corner of the bounding box, after applying aspectRatio\n",
       "    var midToCorner = Math.sqrt( a[0]*a[0]*xRange*xRange + a[1]*a[1]*yRange*yRange + a[2]*a[2]*zRange*zRange ) / 2;\n",
       "\n",
       "    var xMid = ( b[0].x + b[1].x ) / 2;\n",
       "    var yMid = ( b[0].y + b[1].y ) / 2;\n",
       "    var zMid = ( b[0].z + b[1].z ) / 2;\n",
       "\n",
       "    var box = new THREE.Geometry();\n",
       "    box.vertices.push( new THREE.Vector3( a[0]*b[0].x, a[1]*b[0].y, a[2]*b[0].z ) );\n",
       "    box.vertices.push( new THREE.Vector3( a[0]*b[1].x, a[1]*b[1].y, a[2]*b[1].z ) );\n",
       "    var boxMesh = new THREE.Line( box );\n",
       "    if ( options.frame ) scene.add( new THREE.BoxHelper( boxMesh, 'black' ) );\n",
       "\n",
       "    if ( options.axesLabels ) {\n",
       "\n",
       "        var d = options.decimals; // decimals\n",
       "        var offsetRatio = 0.1;\n",
       "        var al = options.axesLabels;\n",
       "\n",
       "        var offset = offsetRatio * a[1]*( b[1].y - b[0].y );\n",
       "        var xm = xMid.toFixed(d);\n",
       "        if ( /^-0.?0*$/.test(xm) ) xm = xm.substr(1);\n",
       "        addLabel( al[0] + '=' + xm, a[0]*xMid, a[1]*b[1].y+offset, a[2]*b[0].z );\n",
       "        addLabel( ( b[0].x ).toFixed(d), a[0]*b[0].x, a[1]*b[1].y+offset, a[2]*b[0].z );\n",
       "        addLabel( ( b[1].x ).toFixed(d), a[0]*b[1].x, a[1]*b[1].y+offset, a[2]*b[0].z );\n",
       "\n",
       "        var offset = offsetRatio * a[0]*( b[1].x - b[0].x );\n",
       "        var ym = yMid.toFixed(d);\n",
       "        if ( /^-0.?0*$/.test(ym) ) ym = ym.substr(1);\n",
       "        addLabel( al[1] + '=' + ym, a[0]*b[1].x+offset, a[1]*yMid, a[2]*b[0].z );\n",
       "        addLabel( ( b[0].y ).toFixed(d), a[0]*b[1].x+offset, a[1]*b[0].y, a[2]*b[0].z );\n",
       "        addLabel( ( b[1].y ).toFixed(d), a[0]*b[1].x+offset, a[1]*b[1].y, a[2]*b[0].z );\n",
       "\n",
       "        var offset = offsetRatio * a[1]*( b[1].y - b[0].y );\n",
       "        var zm = zMid.toFixed(d);\n",
       "        if ( /^-0.?0*$/.test(zm) ) zm = zm.substr(1);\n",
       "        addLabel( al[2] + '=' + zm, a[0]*b[1].x, a[1]*b[0].y-offset, a[2]*zMid );\n",
       "        addLabel( ( b[0].z ).toFixed(d), a[0]*b[1].x, a[1]*b[0].y-offset, a[2]*b[0].z );\n",
       "        addLabel( ( b[1].z ).toFixed(d), a[0]*b[1].x, a[1]*b[0].y-offset, a[2]*b[1].z );\n",
       "\n",
       "    }\n",
       "\n",
       "    function addLabel( text, x, y, z, color='black', fontsize=14  ) {\n",
       "\n",
       "        var canvas = document.createElement( 'canvas' );\n",
       "        var pixelRatio = Math.round( window.devicePixelRatio );\n",
       "        canvas.width = 128 * pixelRatio;\n",
       "        canvas.height = 32 * pixelRatio; // powers of two\n",
       "        canvas.style.width = '128px';\n",
       "        canvas.style.height = '32px';\n",
       "\n",
       "        var context = canvas.getContext( '2d' );\n",
       "        context.scale( pixelRatio, pixelRatio );\n",
       "        context.fillStyle = color;\n",
       "        context.font = fontsize + 'px monospace';\n",
       "        context.textAlign = 'center';\n",
       "        context.textBaseline = 'middle';\n",
       "        context.fillText( text, canvas.width/2/pixelRatio, canvas.height/2/pixelRatio );\n",
       "\n",
       "        var texture = new THREE.Texture( canvas );\n",
       "        texture.needsUpdate = true;\n",
       "\n",
       "        var sprite = new THREE.Sprite( new THREE.SpriteMaterial( { map: texture } ) );\n",
       "        sprite.position.set( x, y, z );\n",
       "\n",
       "        // Set the initial scale based on plot size to accomodate orthographic projection.\n",
       "        // For other projections, the scale will get reset each frame based on camera distance.\n",
       "        var scale = midToCorner/2;\n",
       "        sprite.scale.set( scale, scale*.25, 1 ); // ratio of canvas width to height\n",
       "\n",
       "        scene.add( sprite );\n",
       "\n",
       "    }\n",
       "\n",
       "    if ( options.axes ) scene.add( new THREE.AxesHelper( Math.min( a[0]*b[1].x, a[1]*b[1].y, a[2]*b[1].z ) ) );\n",
       "\n",
       "    var camera = createCamera();\n",
       "    camera.up.set( 0, 0, 1 );\n",
       "    camera.position.set( a[0]*(xMid+xRange), a[1]*(yMid+yRange), a[2]*(zMid+zRange) );\n",
       "\n",
       "    function createCamera() {\n",
       "\n",
       "        var aspect = window.innerWidth / window.innerHeight;\n",
       "\n",
       "        if ( options.projection === 'orthographic' ) {\n",
       "            var camera = new THREE.OrthographicCamera( -1, 1, 1, -1, -1000, 1000 );\n",
       "            updateCameraAspect( camera, aspect );\n",
       "            return camera;\n",
       "        }\n",
       "\n",
       "        return new THREE.PerspectiveCamera( 45, aspect, 0.1, 1000 );\n",
       "\n",
       "    }\n",
       "\n",
       "    function updateCameraAspect( camera, aspect ) {\n",
       "\n",
       "        if ( camera.isPerspectiveCamera ) {\n",
       "            camera.aspect = aspect;\n",
       "        } else if ( camera.isOrthographicCamera ) {\n",
       "            // Fit the camera frustum to the bounding box's diagonal so that the entire plot fits\n",
       "            // within at the default zoom level and camera position.\n",
       "            if ( aspect > 1 ) { // Wide window\n",
       "                camera.top = midToCorner;\n",
       "                camera.right = midToCorner * aspect;\n",
       "            } else { // Tall or square window\n",
       "                camera.top = midToCorner / aspect;\n",
       "                camera.right = midToCorner;\n",
       "            }\n",
       "            camera.bottom = -camera.top;\n",
       "            camera.left = -camera.right;\n",
       "        }\n",
       "\n",
       "        camera.updateProjectionMatrix();\n",
       "\n",
       "    }\n",
       "\n",
       "    var lights = [{&quot;x&quot;:-5, &quot;y&quot;:3, &quot;z&quot;:0, &quot;color&quot;:&quot;#7f7f7f&quot;, &quot;parent&quot;:&quot;camera&quot;}];\n",
       "    for ( var i=0 ; i < lights.length ; i++ ) {\n",
       "        var light = new THREE.DirectionalLight( lights[i].color, 1 );\n",
       "        light.position.set( a[0]*lights[i].x, a[1]*lights[i].y, a[2]*lights[i].z );\n",
       "        if ( lights[i].parent === 'camera' ) {\n",
       "            light.target.position.set( a[0]*xMid, a[1]*yMid, a[2]*zMid );\n",
       "            scene.add( light.target );\n",
       "            camera.add( light );\n",
       "        } else scene.add( light );\n",
       "    }\n",
       "    scene.add( camera );\n",
       "\n",
       "    var ambient = {&quot;color&quot;:&quot;#7f7f7f&quot;};\n",
       "    scene.add( new THREE.AmbientLight( ambient.color, 1 ) );\n",
       "\n",
       "    var controls = new THREE.OrbitControls( camera, renderer.domElement );\n",
       "    controls.target.set( a[0]*xMid, a[1]*yMid, a[2]*zMid );\n",
       "    controls.addEventListener( 'change', function() { if ( !animate ) render(); } );\n",
       "\n",
       "    window.addEventListener( 'resize', function() {\n",
       "        \n",
       "        renderer.setSize( window.innerWidth, window.innerHeight );\n",
       "        updateCameraAspect( camera, window.innerWidth / window.innerHeight );\n",
       "        if ( !animate ) render();\n",
       "        \n",
       "    } );\n",
       "\n",
       "    var texts = [];\n",
       "    for ( var i=0 ; i < texts.length ; i++ )\n",
       "        addLabel( texts[i].text, a[0]*texts[i].x, a[1]*texts[i].y, a[2]*texts[i].z, texts[i].color );\n",
       "\n",
       "    var points = [{&quot;point&quot;: [0.0, 0.0, -1.0], &quot;size&quot;: 5.0, &quot;color&quot;: &quot;#0000ff&quot;, &quot;opacity&quot;: 1.0}, {&quot;point&quot;: [0.0, 3.0, -2.0], &quot;size&quot;: 5.0, &quot;color&quot;: &quot;#0000ff&quot;, &quot;opacity&quot;: 1.0}, {&quot;point&quot;: [1.0, 1.0, 1.0], &quot;size&quot;: 5.0, &quot;color&quot;: &quot;#0000ff&quot;, &quot;opacity&quot;: 1.0}, {&quot;point&quot;: [2.0, 0.0, 1.0], &quot;size&quot;: 5.0, &quot;color&quot;: &quot;#0000ff&quot;, &quot;opacity&quot;: 1.0}];\n",
       "    for ( var i=0 ; i < points.length ; i++ ) addPoint( points[i] );\n",
       "\n",
       "    function addPoint( json ) {\n",
       "\n",
       "        var geometry = new THREE.Geometry();\n",
       "        var v = json.point;\n",
       "        geometry.vertices.push( new THREE.Vector3( a[0]*v[0], a[1]*v[1], a[2]*v[2] ) );\n",
       "\n",
       "        var canvas = document.createElement( 'canvas' );\n",
       "        canvas.width = 128;\n",
       "        canvas.height = 128;\n",
       "\n",
       "        var context = canvas.getContext( '2d' );\n",
       "        context.arc( 64, 64, 64, 0, 2 * Math.PI );\n",
       "        context.fillStyle = json.color;\n",
       "        context.fill();\n",
       "\n",
       "        var texture = new THREE.Texture( canvas );\n",
       "        texture.needsUpdate = true;\n",
       "\n",
       "        var transparent = json.opacity < 1 ? true : false;\n",
       "        var size = camera.isOrthographicCamera ? json.size : json.size/100;\n",
       "        var material = new THREE.PointsMaterial( { size: size, map: texture,\n",
       "                                                   transparent: transparent, opacity: json.opacity,\n",
       "                                                   alphaTest: .1 } );\n",
       "\n",
       "        var c = new THREE.Vector3();\n",
       "        geometry.computeBoundingBox();\n",
       "        geometry.boundingBox.getCenter( c );\n",
       "        geometry.translate( -c.x, -c.y, -c.z );\n",
       "\n",
       "        var mesh = new THREE.Points( geometry, material );\n",
       "        mesh.position.set( c.x, c.y, c.z );\n",
       "        scene.add( mesh );\n",
       "\n",
       "    }\n",
       "\n",
       "    var lines = [{&quot;points&quot;: [[0.0, 0.0, -1.0], [0.0, 3.0, -2.0]], &quot;color&quot;: &quot;#0000ff&quot;, &quot;opacity&quot;: 1.0, &quot;linewidth&quot;: 1.0}, {&quot;points&quot;: [[0.0, 0.0, -1.0], [1.0, 1.0, 1.0]], &quot;color&quot;: &quot;#0000ff&quot;, &quot;opacity&quot;: 1.0, &quot;linewidth&quot;: 1.0}, {&quot;points&quot;: [[0.0, 0.0, -1.0], [2.0, 0.0, 1.0]], &quot;color&quot;: &quot;#0000ff&quot;, &quot;opacity&quot;: 1.0, &quot;linewidth&quot;: 1.0}, {&quot;points&quot;: [[0.0, 3.0, -2.0], [1.0, 1.0, 1.0]], &quot;color&quot;: &quot;#0000ff&quot;, &quot;opacity&quot;: 1.0, &quot;linewidth&quot;: 1.0}, {&quot;points&quot;: [[0.0, 3.0, -2.0], [2.0, 0.0, 1.0]], &quot;color&quot;: &quot;#0000ff&quot;, &quot;opacity&quot;: 1.0, &quot;linewidth&quot;: 1.0}, {&quot;points&quot;: [[1.0, 1.0, 1.0], [2.0, 0.0, 1.0]], &quot;color&quot;: &quot;#0000ff&quot;, &quot;opacity&quot;: 1.0, &quot;linewidth&quot;: 1.0}];\n",
       "    for ( var i=0 ; i < lines.length ; i++ ) addLine( lines[i] );\n",
       "\n",
       "    function addLine( json ) {\n",
       "\n",
       "        var geometry = new THREE.Geometry();\n",
       "        for ( var i=0 ; i < json.points.length ; i++ ) {\n",
       "            var v = json.points[i];\n",
       "            geometry.vertices.push( new THREE.Vector3( a[0]*v[0], a[1]*v[1], a[2]*v[2] ) );\n",
       "        }\n",
       "\n",
       "        var transparent = json.opacity < 1 ? true : false;\n",
       "        var material = new THREE.LineBasicMaterial( { color: json.color, linewidth: json.linewidth,\n",
       "                                                      transparent: transparent, opacity: json.opacity } );\n",
       "\n",
       "        var c = new THREE.Vector3();\n",
       "        geometry.computeBoundingBox();\n",
       "        geometry.boundingBox.getCenter( c );\n",
       "        geometry.translate( -c.x, -c.y, -c.z );\n",
       "\n",
       "        var mesh = new THREE.Line( geometry, material );\n",
       "        mesh.position.set( c.x, c.y, c.z );\n",
       "        scene.add( mesh );\n",
       "\n",
       "    }\n",
       "\n",
       "    var surfaces = [{&quot;vertices&quot;: [{&quot;x&quot;: 0.0, &quot;y&quot;: 0.0, &quot;z&quot;: -1.0}, {&quot;x&quot;: 0.0, &quot;y&quot;: 3.0, &quot;z&quot;: -2.0}, {&quot;x&quot;: 1.0, &quot;y&quot;: 1.0, &quot;z&quot;: 1.0}, {&quot;x&quot;: 2.0, &quot;y&quot;: 0.0, &quot;z&quot;: 1.0}], &quot;faces&quot;: [[1, 0, 2], [3, 0, 1], [2, 0, 3], [3, 1, 2]], &quot;color&quot;: &quot;#008000&quot;, &quot;opacity&quot;: 1.0}];\n",
       "    for ( var i=0 ; i < surfaces.length ; i++ ) addSurface( surfaces[i] );\n",
       "\n",
       "    function addSurface( json ) {\n",
       "\n",
       "        var useFaceColors = 'faceColors' in json ? true : false;\n",
       "\n",
       "        var geometry = new THREE.Geometry();\n",
       "        for ( var i=0 ; i < json.vertices.length ; i++ ) {\n",
       "            var v = json.vertices[i];\n",
       "            geometry.vertices.push( new THREE.Vector3( a[0]*v.x, a[1]*v.y, a[2]*v.z ) );\n",
       "        }\n",
       "        for ( var i=0 ; i < json.faces.length ; i++ ) {\n",
       "            var f = json.faces[i];\n",
       "            for ( var j=0 ; j < f.length - 2 ; j++ ) {\n",
       "                var face = new THREE.Face3( f[0], f[j+1], f[j+2] );\n",
       "                if ( useFaceColors ) face.color.set( json.faceColors[i] );\n",
       "                geometry.faces.push( face );\n",
       "            }\n",
       "        }\n",
       "        geometry.computeVertexNormals();\n",
       "\n",
       "        var side = json.singleSide ? THREE.FrontSide : THREE.DoubleSide;\n",
       "        var transparent = json.opacity < 1 ? true : false;\n",
       "\n",
       "        var material = new THREE.MeshPhongMaterial( { side: side,\n",
       "                                     color: useFaceColors ? 'white' : json.color,\n",
       "                                     vertexColors: useFaceColors ? THREE.FaceColors : THREE.NoColors,\n",
       "                                     transparent: transparent, opacity: json.opacity,\n",
       "                                     shininess: 20, flatShading: json.useFlatShading } );\n",
       "\n",
       "        var c = new THREE.Vector3();\n",
       "        geometry.computeBoundingBox();\n",
       "        geometry.boundingBox.getCenter( c );\n",
       "        geometry.translate( -c.x, -c.y, -c.z );\n",
       "\n",
       "        var mesh = new THREE.Mesh( geometry, material );\n",
       "        mesh.position.set( c.x, c.y, c.z );\n",
       "        if ( transparent && json.renderOrder ) mesh.renderOrder = json.renderOrder;\n",
       "        scene.add( mesh );\n",
       "\n",
       "        if ( json.showMeshGrid ) {\n",
       "\n",
       "            var geometry = new THREE.Geometry();\n",
       "\n",
       "            for ( var i=0 ; i < json.faces.length ; i++ ) {\n",
       "                var f = json.faces[i];\n",
       "                for ( var j=0 ; j < f.length ; j++ ) {\n",
       "                    var k = j === f.length-1 ? 0 : j+1;\n",
       "                    var v1 = json.vertices[f[j]];\n",
       "                    var v2 = json.vertices[f[k]];\n",
       "                    // vertices in opposite directions on neighboring faces\n",
       "                    var nudge = f[j] < f[k] ? .0005*zRange : -.0005*zRange;\n",
       "                    geometry.vertices.push( new THREE.Vector3( a[0]*v1.x, a[1]*v1.y, a[2]*(v1.z+nudge) ) );\n",
       "                    geometry.vertices.push( new THREE.Vector3( a[0]*v2.x, a[1]*v2.y, a[2]*(v2.z+nudge) ) );\n",
       "                }\n",
       "            }\n",
       "\n",
       "            var material = new THREE.LineBasicMaterial( { color: 'black', linewidth: 1 } );\n",
       "\n",
       "            var c = new THREE.Vector3();\n",
       "            geometry.computeBoundingBox();\n",
       "            geometry.boundingBox.getCenter( c );\n",
       "            geometry.translate( -c.x, -c.y, -c.z );\n",
       "\n",
       "            var mesh = new THREE.LineSegments( geometry, material );\n",
       "            mesh.position.set( c.x, c.y, c.z );\n",
       "            scene.add( mesh );\n",
       "\n",
       "        }\n",
       "\n",
       "    }\n",
       "\n",
       "    var scratch = new THREE.Vector3();\n",
       "\n",
       "    function render() {\n",
       "\n",
       "        if ( animate ) requestAnimationFrame( render );\n",
       "        renderer.render( scene, camera );\n",
       "\n",
       "        // Resize text based on distance from camera.\n",
       "        // Not neccessary for orthographic due to the nature of the projection (preserves sizes).\n",
       "        if ( !camera.isOrthographicCamera ) {\n",
       "            for ( var i=0 ; i < scene.children.length ; i++ ) {\n",
       "                if ( scene.children[i].type === 'Sprite' ) {\n",
       "                    var sprite = scene.children[i];\n",
       "                    var adjust = scratch.addVectors( sprite.position, scene.position )\n",
       "                                    .sub( camera.position ).length() / 5;\n",
       "                    sprite.scale.set( adjust, .25*adjust, 1 ); // ratio of canvas width to height\n",
       "                }\n",
       "            }\n",
       "        }\n",
       "    }\n",
       "    \n",
       "    render();\n",
       "    controls.update();\n",
       "    if ( !animate ) render();\n",
       "\n",
       "\n",
       "    // menu functions\n",
       "\n",
       "    function toggleMenu() {\n",
       "\n",
       "        var m = document.getElementById( 'menu-content' );\n",
       "        if ( m.style.display === 'block' ) m.style.display = 'none'\n",
       "        else m.style.display = 'block';\n",
       "\n",
       "    }\n",
       "\n",
       "\n",
       "    function saveAsPNG() {\n",
       "\n",
       "        var a = document.body.appendChild( document.createElement( 'a' ) );\n",
       "        a.href = renderer.domElement.toDataURL( 'image/png' );\n",
       "        a.download = 'screenshot';\n",
       "        a.click();\n",
       "\n",
       "    }\n",
       "\n",
       "    function saveAsHTML() {\n",
       "\n",
       "        toggleMenu(); // otherwise visible in output\n",
       "        event.stopPropagation();\n",
       "\n",
       "        var blob = new Blob( [ '<!DOCTYPE html>\\n' + document.documentElement.outerHTML ] );\n",
       "        var a = document.body.appendChild( document.createElement( 'a' ) );\n",
       "        a.href = window.URL.createObjectURL( blob );\n",
       "        a.download = 'graphic.html';\n",
       "        a.click();\n",
       "\n",
       "    }\n",
       "\n",
       "    function getViewpoint() {\n",
       "\n",
       "        function roundTo( x, n ) { return +x.toFixed(n); }\n",
       "\n",
       "        var v = camera.quaternion.inverse();\n",
       "        var r = Math.sqrt( v.x*v.x + v.y*v.y + v.z*v.z );\n",
       "        var axis = [ roundTo( v.x / r, 4 ), roundTo( v.y / r, 4 ), roundTo( v.z / r, 4 ) ];\n",
       "        var angle = roundTo( 2 * Math.atan2( r, v.w ) * 180 / Math.PI, 2 );\n",
       "\n",
       "        var textArea = document.createElement( 'textarea' );\n",
       "        textArea.textContent = JSON.stringify( axis ) + ',' + angle;\n",
       "        textArea.style.csstext = 'position: absolute; top: -100%';\n",
       "        document.body.append( textArea );\n",
       "        textArea.select();\n",
       "        document.execCommand( 'copy' );\n",
       "\n",
       "        var m = document.getElementById( 'menu-message' );\n",
       "        m.innerHTML = 'Viewpoint copied to clipboard';\n",
       "        m.style.display = 'block';\n",
       "        setTimeout( function() { m.style.display = 'none'; }, 2000 );\n",
       "\n",
       "    }\n",
       "\n",
       "</script>\n",
       "\n",
       "<div id=&quot;menu-container&quot; onclick=&quot;toggleMenu()&quot;>&#x24d8;\n",
       "<div id=&quot;menu-message&quot;></div>\n",
       "<div id=&quot;menu-content&quot;>\n",
       "<div onclick=&quot;saveAsPNG()&quot;>Save as PNG</div>\n",
       "<div onclick=&quot;saveAsHTML()&quot;>Save as HTML</div>\n",
       "<div onclick=&quot;getViewpoint()&quot;>Get Viewpoint</div>\n",
       "<div>Close Menu</div>\n",
       "</div></div>\n",
       "\n",
       "</body>\n",
       "</html>\n",
       "\"\n",
       "        width=\"100%\"\n",
       "        height=\"400\"\n",
       "        style=\"border: 0;\">\n",
       "</iframe>\n"
      ],
      "text/plain": [
       "Graphics3d Object"
      ]
     },
     "execution_count": 10,
     "metadata": {},
     "output_type": "execute_result"
    }
   ],
   "source": [
    "# We use the t-coefficients adding an additional dimension\n",
    "f = \"u**2 - 2*w**3 + u*w - 1\"\n",
    "_.<u, w> = LaurentPolynomialRing(QQ)\n",
    "f_poly = eval(f)\n",
    "vtx3 = np.hstack((np.array(f_poly.exponents()),np.array(f_poly.coefficients()).reshape(-1,1)))\n",
    "hull3 = Polyhedron(vertices = vtx3)\n",
    "hull3.plot()\n"
   ]
  },
  {
   "cell_type": "code",
   "execution_count": 11,
   "metadata": {},
   "outputs": [
    {
     "data": {
      "image/png": "[encoded data removed]",
      "text/plain": [
       "<Figure size 432x288 with 1 Axes>"
      ]
     },
     "metadata": {},
     "output_type": "display_data"
    }
   ],
   "source": [
    "\n",
    "def plot_2d_refinement(hull3):\n",
    "    \"\"\"Function to plot the 2D projection\n",
    "    of the 3D polytope associated to the tropical\n",
    "    curve.\n",
    "    \n",
    "    Args:\n",
    "        hull3 (Polyhedron): 3D polyhedron with the first \n",
    "            two coordinates being the exponential and the\n",
    "            third one being the coefficient.\n",
    "\n",
    "    \"\"\"\n",
    "    edges = hull3.bounded_edges()\n",
    "\n",
    "    lines = []\n",
    "    for edge in edges:\n",
    "        lines.append((edge[0].vector().list()[:2], edge[1].vector().list()[:2]))\n",
    "\n",
    "    lc = coll.LineCollection(lines, linewidths=2)\n",
    "    fig, ax = plt.subplots()\n",
    "    ax.add_collection(lc)\n",
    "    ax.autoscale()\n",
    "    ax.margins(0.1)\n",
    "    ax.set_aspect(1)\n",
    "    return fig\n",
    "\n",
    "plot_2d_refinement(hull3);"
   ]
  },
  {
   "cell_type": "markdown",
   "metadata": {},
   "source": [
    "### Duality with polytopes\n",
    "\n",
    "As one can notice, the 2D elements in the interior of the refined polytope, do match with the number of points in the tropical plot.\n",
    "\n",
    "Also the segments connecting the points in the tropical plot, do correspond in 1:1 to the edges of the refined polytope.\n",
    "\n",
    "This is in general a theorem: the polytope whose vertices are the exponents and the coefficients contain all the information about tropical varieties.\n"
   ]
  },
  {
   "cell_type": "code",
   "execution_count": 12,
   "metadata": {},
   "outputs": [
    {
     "name": "stdout",
     "output_type": "stream",
     "text": [
      "plotting tropical curve... \n",
      "\n",
      "2  /  3\r"
     ]
    },
    {
     "data": {
      "image/png": "[encoded data removed]",
      "text/plain": [
       "<Figure size 432x288 with 1 Axes>"
      ]
     },
     "metadata": {},
     "output_type": "display_data"
    }
   ],
   "source": [
    "ff = \"t*u**2 + t**(-2)*w**3 + t*u*w + t**(-1)\"  # elliptic curve!\n",
    "fig_g1 = plot_tropical_curve(ff, False)\n",
    "fig2 = plot_2d_refinement(tropical_polyhedron(ff));\n"
   ]
  },
  {
   "cell_type": "code",
   "execution_count": 13,
   "metadata": {},
   "outputs": [
    {
     "data": {
      "image/png": "[encoded data removed]",
      "text/plain": [
       "Graphics object consisting of 6 graphics primitives"
      ]
     },
     "execution_count": 13,
     "metadata": {},
     "output_type": "execute_result"
    }
   ],
   "source": [
    "fig_g1"
   ]
  },
  {
   "cell_type": "markdown",
   "metadata": {},
   "source": [
    "## Genus of a curve\n",
    "\n",
    "The genus of a curve represents the number of holes of the curve. The basic example in standard algebraic geometries of curves of genus 0 is the 2-sphere $\\mathbb S^2$. For genus 1, one usually draws a torus $\\mathbb T^2 = \\mathbb S^1 \\times \\mathbb S^1$.\n",
    "\n",
    "It is possible to see the genus also in tropical geometry: just cound the number of cycles in the tropical curve to get the genus of such curve. \n",
    "\n",
    "In terms of dual polytopes, the genus is *the number of interior points*!\n",
    "\n",
    "Check the example below.\n"
   ]
  },
  {
   "cell_type": "code",
   "execution_count": 14,
   "metadata": {},
   "outputs": [
    {
     "data": {
      "image/png": "[encoded data removed]",
      "text/plain": [
       "Graphics object consisting of 3 graphics primitives"
      ]
     },
     "metadata": {},
     "output_type": "display_data"
    },
    {
     "data": {
      "image/png": "[encoded data removed]",
      "text/plain": [
       "Graphics object consisting of 6 graphics primitives"
      ]
     },
     "execution_count": 14,
     "metadata": {},
     "output_type": "execute_result"
    }
   ],
   "source": [
    "# genus = 0, a line\n",
    "line_fig.show()\n",
    "# genus = 1, an elliptic curve\n",
    "fig_g1"
   ]
  },
  {
   "cell_type": "markdown",
   "metadata": {},
   "source": [
    "## Puiseux coefficients\n",
    "\n",
    "\n",
    "We have already seen how to tropicalise a polynomial. There is a more general approach: it uses valueations.\n",
    "    \n",
    "In a nutshell, this is the formula: let $f = \\sum_i a_i x^{m_i}, m_i \\in \\mathbb Z^n$, then\n",
    "$$trop(f) = \\bigoplus val(a_i)\\otimes x^{\\otimes m_i}$$\n",
    "\n",
    "What is the most general valuation, in particular that one that makes it natural to describe the polytope associated to a tropical variety? The valuation is the valuation that takes $t^a \\in \\mathbb C\\{\\{t\\}\\}$ the *Puiseaux field* to $a$, i.e. $val(t^a) = a$\n",
    "\n",
    "Hence, we can conside as the **canonical tropicalisation** of the polynomial $f = x^2 + 2y^3 + xy -1$ is $\\mathbb Q[x,y]$ the tropicalisation of $f = t^1x^2 + t^2y^3 + t^1xy + t^{-1}$ in $\\mathbb C\\{\\{t\\}\\}[x, y]$\n",
    "\n"
   ]
  },
  {
   "cell_type": "code",
   "execution_count": 15,
   "metadata": {
    "scrolled": false
   },
   "outputs": [
    {
     "name": "stdout",
     "output_type": "stream",
     "text": [
      "forget:  [1, 2]\n",
      "forget:  [1, 3]\n",
      "forget:  [2, 3]\n",
      "forget:  [1, 4]\n",
      "forget:  [2, 4]\n",
      "forget:  [3, 4]\n"
     ]
    },
    {
     "data": {
      "image/png": "[encoded data removed]",
      "text/plain": [
       "<Figure size 432x288 with 1 Axes>"
      ]
     },
     "metadata": {},
     "output_type": "display_data"
    }
   ],
   "source": [
    "# using the puiseux ring, we can create a faster plotting function\n",
    "\n",
    "def plot_tropical_curve_from_intersection(I):\n",
    "    \"\"\"This function is much faster than the previous \n",
    "    tropical curve plot, but it requires the use of Puiseux\n",
    "    coefficients and also itersection with `t=-1`.\n",
    "    \n",
    "    Args:\n",
    "        I (ideal of QQ[t,x,y]): this is the equation defining\n",
    "            the tropical curve. Do not forget to also multiply\n",
    "            by the factor `(t+1)` to make sure that you are\n",
    "            intersecting with the `t = -1` hyperplane. Please\n",
    "            check the examples in this notebook thoroughly and\n",
    "            notice the presence of `*(t+1)` and the opposite\n",
    "            valuation\n",
    "            \n",
    "    Returns:\n",
    "        (matplolib.pyplot.Figure): the plot of the curve\n",
    "    \"\"\"\n",
    "    gf = I.groebner_fan()\n",
    "    pf = gf.tropical_intersection()\n",
    "    rs = pf.rays()\n",
    "    mc = pf.maximal_cones()\n",
    "    pts = dict()\n",
    "    directions = dict()\n",
    "    for i, r in enumerate(rs):\n",
    "        if r[0] == -1:\n",
    "            pts[i] = np.array([r[1], r[2]])\n",
    "        elif r[0] == 0:\n",
    "            directions[i] = np.array([r[1], r[2]])\n",
    "    # build lines\n",
    "    # print(pts.values())\n",
    "    # print(directions)\n",
    "    lines = []\n",
    "    do_loop = True\n",
    "    try:\n",
    "        mc[2]\n",
    "    except KeyError:\n",
    "        do_loop = False\n",
    "    if do_loop:\n",
    "        for pair in mc[2]:\n",
    "            # print(pair)\n",
    "            try:\n",
    "                lines.append([pts[pair[0]], pts[pair[1]]])\n",
    "            except KeyError:\n",
    "                try:\n",
    "                    lines.append([pts[pair[1]] + 3*directions[pair[0]], pts[pair[1]]])\n",
    "                except KeyError:\n",
    "                    try:\n",
    "                        lines.append([pts[pair[0]] + 3*directions[pair[1]], pts[pair[0]]])\n",
    "                    except KeyError:\n",
    "                        print(\"forget: \" , pair)\n",
    "    else:\n",
    "        lines = [[[0,0], -3*directions[0]], [[0,0], -3*directions[1]], [[0,0], -3*directions[2]]]\n",
    "\n",
    "    lc = coll.LineCollection(lines, linewidths=2)\n",
    "    fig, ax = plt.subplots()\n",
    "    ax.add_collection(lc)\n",
    "    try:\n",
    "        ax.scatter(*zip(*pts.values()))\n",
    "    except TypeError:\n",
    "        pass\n",
    "    for jj in pts.keys():\n",
    "        ax.annotate(str(jj), (pts[jj][0], pts[jj][1]))\n",
    "    ax.autoscale()\n",
    "    ax.margins(0.1)\n",
    "    ax.grid()\n",
    "    ax.set_aspect(1)\n",
    "    return fig\n",
    "    \n",
    "    \n",
    "Rt.<t,x,y> = QQ[]\n",
    "# f = 1x + 1y + 0\n",
    "# f = f/1\n",
    "f = Rt.ideal([(x + y + t)*(t+1)])\n",
    "# t is the variable in the Puiseux ring\n",
    "fig = plot_tropical_curve_from_intersection(f)\n"
   ]
  },
  {
   "cell_type": "code",
   "execution_count": 16,
   "metadata": {
    "scrolled": false
   },
   "outputs": [
    {
     "name": "stdout",
     "output_type": "stream",
     "text": [
      "forget:  [4, 5]\n",
      "forget:  [4, 6]\n",
      "forget:  [5, 6]\n",
      "forget:  [4, 7]\n",
      "forget:  [5, 7]\n",
      "forget:  [6, 7]\n"
     ]
    },
    {
     "data": {
      "image/png": "[encoded data removed]",
      "text/plain": [
       "<Figure size 432x288 with 1 Axes>"
      ]
     },
     "metadata": {},
     "output_type": "display_data"
    }
   ],
   "source": [
    "\n",
    "f2 = Rt.ideal([(t^2*x^2+t*x*y+t^2*y^2+x+y+t^2)*(t+1)])\n",
    "plot_tropical_curve_from_intersection(f2);"
   ]
  },
  {
   "cell_type": "markdown",
   "metadata": {},
   "source": [
    "## Amoebas\n",
    "\n",
    "When you consider a point $(x,y) \\in (\\mathbb C^*)^2$, you can map it via the logaritm to $\\mathbb R^2$ in the following way:\n",
    "$$ (x,y) \\mapsto (\\log(|x|), \\log(|y|))$$\n",
    "For a polynomial $f \\in \\mathbb C[x,y]$, the image of $V(f) := \\{ f = 0 \\}$ under the logarithmic map is called **Amoeba**. You will notice that it is closely related to the tropical curve (using the `max` and not the `min` addition)!"
   ]
  },
  {
   "cell_type": "code",
   "execution_count": 17,
   "metadata": {},
   "outputs": [],
   "source": [
    "\n",
    "# slow code, modified from https://wangweikun.com/math-software/tropical-amoeba-in-sagemath/\n",
    "def plot_amoeba(string, base=2.71828182845905):\n",
    "    \"\"\"This functions plots the amoeba of a polynomial\n",
    "\n",
    "    Args:\n",
    "        string (str): this is the definition of the \n",
    "            polynomial with variables t,u,w, where t\n",
    "            are the Puiseux coefficients\n",
    "        base (float): the base of the logarithm\n",
    "\n",
    "    Returns:\n",
    "        (matplotli.pyplot.Figure): the plot of the\n",
    "            amoeba\n",
    "\n",
    "    \"\"\"\n",
    "    xmin=-5\n",
    "    xmax=5\n",
    "    ymin=-5\n",
    "    ymax=5\n",
    "    grid_step=200\n",
    "    angle_step=50\n",
    "    var('t,u,w')\n",
    "    t=base\n",
    "    f=eval(string)\n",
    "    x_grid_step=(xmax-xmin)/grid_step\n",
    "    y_grid_step=(ymax-ymin)/grid_step\n",
    "    List_points=[]\n",
    "    print(\"plotting the amoeba:\")\n",
    "    for j1 in range(1, grid_step):\n",
    "        print(j1, \" / \", grid_step, \"     \", end='\\r')\n",
    "        r1=xmin+j1*x_grid_step\n",
    "        for k1 in range(0, angle_step):\n",
    "            theta1=(k1/angle_step)*2*3.141592653589*sqrt(-1)\n",
    "            z1=t**r1*exp(theta1)\n",
    "            g1=f.substitute(u=z1)\n",
    "            S1=g1.roots(w,ring=ComplexField(prec=10), multiplicities=False)\n",
    "            for l1 in S1:\n",
    "                ab_log1=log(abs(l1), base)\n",
    "                if ab_log1>ymin and ab_log1<ymax :\n",
    "                    List_points.append((r1,ab_log1))\n",
    "    for j2 in range(1, grid_step):\n",
    "        r2=ymin+j2*y_grid_step\n",
    "        print(j2, \" / \", grid_step, \"     \", end='\\r')\n",
    "        for k2 in range(0,angle_step):\n",
    "            theta2=(k2/angle_step)*2*3.141592653589*sqrt(-1)\n",
    "            z2=t**r2*exp(theta2)\n",
    "            g2=f.substitute(w=z2)\n",
    "            S2=g2.roots(u,ring=ComplexField(prec=10), multiplicities=False)\n",
    "            for l2 in S2:\n",
    "                ab_log2=log(abs(l2), base)\n",
    "                if ab_log2>xmin and ab_log2<xmax :\n",
    "                    List_points.append((ab_log2,r2))\n",
    "    return list_plot(List_points, size=2, aspect_ratio=1)"
   ]
  },
  {
   "cell_type": "code",
   "execution_count": 18,
   "metadata": {},
   "outputs": [
    {
     "name": "stdout",
     "output_type": "stream",
     "text": [
      "plotting the amoeba:\n",
      "199  /  200      \r"
     ]
    },
    {
     "data": {
      "image/png": "[encoded data removed]",
      "text/plain": [
       "Graphics object consisting of 1 graphics primitive"
      ]
     },
     "execution_count": 18,
     "metadata": {},
     "output_type": "execute_result"
    }
   ],
   "source": [
    "string = \"1+u**3+t**3*u+w+t**2*w**2+t*u*w\"\n",
    "plot_amoeba(string)"
   ]
  },
  {
   "cell_type": "code",
   "execution_count": 19,
   "metadata": {},
   "outputs": [
    {
     "name": "stdout",
     "output_type": "stream",
     "text": [
      "plotting tropical curve... \n",
      "\n",
      "4  /  5\r"
     ]
    },
    {
     "data": {
      "image/png": "[encoded data removed]",
      "text/plain": [
       "Graphics object consisting of 5 graphics primitives"
      ]
     },
     "execution_count": 19,
     "metadata": {},
     "output_type": "execute_result"
    }
   ],
   "source": [
    "plot_tropical_curve(string, maxmin=False)"
   ]
  },
  {
   "cell_type": "markdown",
   "metadata": {},
   "source": [
    "The plot of the amoeba above represents a genus 0 curve ( a Riemann sphere) with 6 punctures: the six points are those (taken with multiplicity) lying at the end of the tentables of the amoeba. These punctures are remove as we only condiered points over $(\\mathbb C^*)^2$. In coordinates they are $(x,0), (0,y), (\\infty, \\infty)$\n",
    "\n",
    "#### Theorem\n",
    "In the limit of the base of the logarithm in the amoeba $b \\to +\\infty$, the amoeba becomes the tropical curve"
   ]
  },
  {
   "cell_type": "code",
   "execution_count": 20,
   "metadata": {},
   "outputs": [
    {
     "name": "stdout",
     "output_type": "stream",
     "text": [
      "plotting the amoeba:\n",
      "199  /  200      \r"
     ]
    },
    {
     "data": {
      "image/png": "[encoded data removed]",
      "text/plain": [
       "Graphics object consisting of 1 graphics primitive"
      ]
     },
     "execution_count": 20,
     "metadata": {},
     "output_type": "execute_result"
    }
   ],
   "source": [
    "plot_amoeba(string, 100)"
   ]
  },
  {
   "cell_type": "markdown",
   "metadata": {},
   "source": [
    "## Fundamental theorem\n",
    "This theorem tells us how to connect the tropicalisation of the polynomial equationsand the tropicalisation of the solutions: for hypersurfaces\n",
    "\n",
    "$$V(trop(f)) = trop(V(f))$$\n",
    "\n",
    "While we have already encountered the left-hand side, also for ideals of functions, the right hand side is to be properly defined: check the next section.\n",
    "\n",
    "### Tropicalisation of ideals\n",
    "Let $I = <f_1, ..., f_n>$ be an ideal in a polynomial ring,\n",
    "$$trop(I) := < trop(g), g \\in I>$$\n",
    "\n",
    "Notice that it is in general not enough to only consider the tropicalisation of the generators of the ideal! If you do so, you end-up with a tropical pre-vareity that is in general larger than the actual tropicalisation.\n",
    "\n",
    "$$trop(V(I)) := \\cap _{f \\in trop(I)}V(f)$$\n",
    "\n",
    "The intersection is over all the elements of the ideal (infinite in general): can we make it finite? Yes! That is the concept of a *tropical basis*. Check the appendix for some more details.\n",
    "\n",
    "### Tropical prevarieties\n",
    "\n",
    "If you consider the tropical variety generated by the tropicalisation of the generators of $I$ you get something that is larger than the tropicalisation of $V(I)$. This is larger object is called tropical pre-variety.\n",
    "    \n",
    "#### Theorem (Kapranov et al.)\n",
    "$$trop(V(I)) := closure\\{(val(a_1), ..., val(a_n)), a_1, ..., a_n \\in V(I)\\},$$\n",
    "\n",
    "where the valuation is the Puiseux series one."
   ]
  },
  {
   "cell_type": "markdown",
   "metadata": {},
   "source": [
    "## Tropical compaticfication\n",
    "\n",
    "What are the most natural ways of compatifying a curve? Embed it into $\\mathbb P^2$ or in $\\mathbb P^1 \\times \\mathbb P^1$ by homogenising or bi-homogenising the polynomial defining the curve (homogeneous in each variable separately).\n",
    "\n",
    "There is also a tropical notion of compactification: just add the points corresponding to the edges of the Newton polygon of the curve! These points do correspond to the points containing at least one coordinate equal to zero."
   ]
  },
  {
   "cell_type": "markdown",
   "metadata": {},
   "source": [
    "## Tropical linear subspaces\n",
    "\n",
    "Given a $d \\times n$ matrix with $d < n$, some of the columns will be related y some linear relations.\n",
    "The linear relations, in the theory of matroids, are called *circuits*. Let $L$ be the set of all linear equations where the variables are the columns $x_i$, $i = 1, ..., n$.\n",
    "\n",
    "Let's define the tropicalised linear space\n",
    "$$trop(L) = \\cap_{l \\in L} V(trop(l))$$\n",
    "\n",
    "where we use the trivial valuation $val(m)=0, \\forall m \\in \\mathbb R$."
   ]
  },
  {
   "cell_type": "code",
   "execution_count": 21,
   "metadata": {},
   "outputs": [
    {
     "data": {
      "text/plain": [
       "[frozenset({0, 1, 2})]"
      ]
     },
     "execution_count": 21,
     "metadata": {},
     "output_type": "execute_result"
    }
   ],
   "source": [
    "A = Matrix(QQ, [[1, 0, 2], \n",
    "                [0, 1, -1]])\n",
    "M1 = Matroid(A)\n",
    "list(M1.circuits())  # this represents the linear relation between the columns of A"
   ]
  },
  {
   "cell_type": "code",
   "execution_count": 22,
   "metadata": {},
   "outputs": [
    {
     "data": {
      "text/plain": [
       "frozenset({0, 2})"
      ]
     },
     "execution_count": 22,
     "metadata": {},
     "output_type": "execute_result"
    }
   ],
   "source": [
    "M1.basis()  # as the rank is 2!"
   ]
  },
  {
   "cell_type": "code",
   "execution_count": 23,
   "metadata": {},
   "outputs": [
    {
     "data": {
      "text/plain": [
       "(A vertex at (0, 1, 1), A vertex at (1, 0, 1), A vertex at (1, 1, 0))"
      ]
     },
     "execution_count": 23,
     "metadata": {},
     "output_type": "execute_result"
    }
   ],
   "source": [
    "# build the polytope as the convex hull of the sums of basis elements\n",
    "polytope = M1.matroid_polytope()\n",
    "polytope.vertices()"
   ]
  },
  {
   "cell_type": "code",
   "execution_count": 24,
   "metadata": {},
   "outputs": [
    {
     "data": {
      "image/png": "[encoded data removed]",
      "text/plain": [
       "Graphics object consisting of 5 graphics primitives"
      ]
     },
     "execution_count": 24,
     "metadata": {},
     "output_type": "execute_result"
    }
   ],
   "source": [
    "# project it to 2D\n",
    "proj = polytope.schlegel_projection()\n",
    "proj.plot()"
   ]
  },
  {
   "cell_type": "markdown",
   "metadata": {},
   "source": [
    "### Observation\n",
    "The dual fan of this polytope corresponds to the rays defining the tropical line!!"
   ]
  },
  {
   "cell_type": "code",
   "execution_count": 25,
   "metadata": {},
   "outputs": [
    {
     "data": {
      "text/plain": [
       "[frozenset({0, 1}), frozenset({1, 2}), frozenset({0, 2})]"
      ]
     },
     "execution_count": 25,
     "metadata": {},
     "output_type": "execute_result"
    }
   ],
   "source": [
    "# Theese are all possible basis of the matroid\n",
    "# you need to check the minors of the matrix to get them\n",
    "list(M1.bases())"
   ]
  },
  {
   "cell_type": "markdown",
   "metadata": {},
   "source": [
    "The minors of the matrices, defining all possible bases, are the first step to define the Plücker coordinates. These coordinates are useful to describe spaces of matrices, as to each matrix you associate a unique vector: the vector of all the minors.\n",
    "\n",
    "Notice that a matrix $m \\times n$ (with $m < n$) tells you how to embed an $m$-dimensional subplane into an $n$-dimensional space. Hence, the moduli space of the matrices is exactly the **Grassmannian Gr(m,n)**!"
   ]
  },
  {
   "cell_type": "code",
   "execution_count": 26,
   "metadata": {},
   "outputs": [
    {
     "data": {
      "text/plain": [
       "[-x0 + x1 + 2*x2]"
      ]
     },
     "execution_count": 26,
     "metadata": {},
     "output_type": "execute_result"
    }
   ],
   "source": [
    "# plucker coordinates for the matrix\n",
    "plucker = A.minors(2)\n",
    "d = A.dimensions()[0]\n",
    "# subsets of length len(plucker) - 1\n",
    "subs = Subsets(list(range(len(plucker))), d+1).list()\n",
    "var(\",\".join([\"x\"+str(i) for i in range(d+1)]))\n",
    "# get the exact linear relations\n",
    "S = SymmetricGroup(list(range(d+1)))\n",
    "linear_relations = [sum([(-1)**(S(tuple(sub)).sign())*plucker[i]*eval(\"x\"+str(i)) for i in sub]) for sub in subs]\n",
    "linear_relations"
   ]
  },
  {
   "cell_type": "markdown",
   "metadata": {},
   "source": [
    "Use these relations as the basis to define the **tropical linear spaces**. These are larger than the tropicalisation of the linear spaces. Since we do not really care about the coefficeints, as we can use the *trivial valuation*, the notion of **circuits is enough**.\n",
    "\n",
    "### Connection with matriod theory\n",
    "\n",
    "Given all of the above, **for a generic matroid**, it is possible to consider the *tropical linear spaces* associated to each circuit. The circuits form a basis of the tropical Grassmannian.\n",
    "#### E.g.\n",
    "For a circuit $\\{1,2,4\\}$, the tropical linear space is $f = x_1\\oplus x_2\\oplus x_3$, and one can compute $V(f)$. \n",
    "\n",
    "#### Definition: tropical linear space\n",
    "Given all the circuits, one can eventually take the intersection:\n",
    "\n",
    "$$trop(L) = \\cap_{f \\in circuits}V(f)$$\n",
    "\n",
    "Observe that all the tropialised linear spaces are also tropical linear spaces."
   ]
  },
  {
   "cell_type": "code",
   "execution_count": 27,
   "metadata": {},
   "outputs": [
    {
     "name": "stdout",
     "output_type": "stream",
     "text": [
      "[frozenset({0, 1, 2}), frozenset({0, 1, 3}), frozenset({2, 3})]\n",
      "[[0, 1, 0, 1], [0, 1, 1, 0], [1, 0, 0, 1], [1, 0, 1, 0], [1, 1, 0, 0]]\n"
     ]
    },
    {
     "data": {
      "text/html": [
       "\n",
       "<iframe srcdoc=\"<!DOCTYPE html>\n",
       "<html>\n",
       "<head>\n",
       "<title></title>\n",
       "<meta charset=&quot;utf-8&quot;>\n",
       "<meta name=viewport content=&quot;width=device-width, user-scalable=no, minimum-scale=1.0, maximum-scale=1.0&quot;>\n",
       "<style>\n",
       "\n",
       "    body { margin: 0px; overflow: hidden; }\n",
       "\n",
       "    #menu-container { position: absolute; bottom: 30px; right: 40px; cursor: default; }\n",
       "\n",
       "    #menu-message { position: absolute; bottom: 0px; right: 0px; white-space: nowrap;\n",
       "                    display: none; background-color: #F5F5F5; padding: 10px; }\n",
       "\n",
       "    #menu-content { position: absolute; bottom: 0px; right: 0px;\n",
       "                    display: none; background-color: #F5F5F5; border-bottom: 1px solid black;\n",
       "                    border-right: 1px solid black; border-left: 1px solid black; }\n",
       "\n",
       "    #menu-content div { border-top: 1px solid black; padding: 10px; white-space: nowrap; }\n",
       "\n",
       "    #menu-content div:hover { background-color: #FEFEFE;; }\n",
       "  \n",
       "</style>\n",
       "</head>\n",
       "\n",
       "<body>\n",
       "\n",
       "<script src=&quot;/nbextensions/threejs/build/three.min.js&quot;></script>\n",
       "<script src=&quot;/nbextensions/threejs/examples/js/controls/OrbitControls.js&quot;></script>\n",
       "<script>\n",
       "  if ( !window.THREE ) document.write(' \\\n",
       "<script src=&quot;https://cdn.jsdelivr.net/gh/mrdoob/three.js@r110/build/three.min.js&quot;><\\/script> \\\n",
       "<script src=&quot;https://cdn.jsdelivr.net/gh/mrdoob/three.js@r110/examples/js/controls/OrbitControls.js&quot;><\\/script> \\\n",
       "            ');\n",
       "</script>\n",
       "        \n",
       "<script>\n",
       "\n",
       "    var scene = new THREE.Scene();\n",
       "\n",
       "    var renderer = new THREE.WebGLRenderer( { antialias: true, preserveDrawingBuffer: true } );\n",
       "    renderer.setPixelRatio( window.devicePixelRatio );\n",
       "    renderer.setSize( window.innerWidth, window.innerHeight );\n",
       "    renderer.setClearColor( 0xffffff, 1 );\n",
       "    document.body.appendChild( renderer.domElement );\n",
       "\n",
       "    var options = {&quot;aspectRatio&quot;: [1.0, 1.0, 1.0], &quot;axes&quot;: false, &quot;axesLabels&quot;: [&quot;x&quot;, &quot;y&quot;, &quot;z&quot;], &quot;decimals&quot;: 2, &quot;frame&quot;: true, &quot;projection&quot;: &quot;perspective&quot;};\n",
       "\n",
       "    // When animations are supported by the viewer, the value 'false'\n",
       "    // will be replaced with an option set in Python by the user\n",
       "    var animate = false; // options.animate;\n",
       "\n",
       "    var b = [{&quot;x&quot;:-0.8176082056502747, &quot;y&quot;:-0.8176082056502747, &quot;z&quot;:-1.0501894237635852}, {&quot;x&quot;:0.8775126971491567, &quot;y&quot;:0.8775126971491567, &quot;z&quot;:0.31624872668238185}]; // bounds\n",
       "\n",
       "    if ( b[0].x === b[1].x ) {\n",
       "        b[0].x -= 1;\n",
       "        b[1].x += 1;\n",
       "    }\n",
       "    if ( b[0].y === b[1].y ) {\n",
       "        b[0].y -= 1;\n",
       "        b[1].y += 1;\n",
       "    }\n",
       "    if ( b[0].z === b[1].z ) {\n",
       "        b[0].z -= 1;\n",
       "        b[1].z += 1;\n",
       "    }\n",
       "\n",
       "    var rRange = Math.sqrt( Math.pow( b[1].x - b[0].x, 2 )\n",
       "                            + Math.pow( b[1].y - b[0].y, 2 ) );\n",
       "    var xRange = b[1].x - b[0].x;\n",
       "    var yRange = b[1].y - b[0].y;\n",
       "    var zRange = b[1].z - b[0].z;\n",
       "\n",
       "    var ar = options.aspectRatio;\n",
       "    var a = [ ar[0], ar[1], ar[2] ]; // aspect multipliers\n",
       "    var autoAspect = 2.5;\n",
       "    if ( zRange > autoAspect * rRange && a[2] === 1 ) a[2] = autoAspect * rRange / zRange;\n",
       "\n",
       "    // Distance from (xMid,yMid,zMid) to any corner of the bounding box, after applying aspectRatio\n",
       "    var midToCorner = Math.sqrt( a[0]*a[0]*xRange*xRange + a[1]*a[1]*yRange*yRange + a[2]*a[2]*zRange*zRange ) / 2;\n",
       "\n",
       "    var xMid = ( b[0].x + b[1].x ) / 2;\n",
       "    var yMid = ( b[0].y + b[1].y ) / 2;\n",
       "    var zMid = ( b[0].z + b[1].z ) / 2;\n",
       "\n",
       "    var box = new THREE.Geometry();\n",
       "    box.vertices.push( new THREE.Vector3( a[0]*b[0].x, a[1]*b[0].y, a[2]*b[0].z ) );\n",
       "    box.vertices.push( new THREE.Vector3( a[0]*b[1].x, a[1]*b[1].y, a[2]*b[1].z ) );\n",
       "    var boxMesh = new THREE.Line( box );\n",
       "    if ( options.frame ) scene.add( new THREE.BoxHelper( boxMesh, 'black' ) );\n",
       "\n",
       "    if ( options.axesLabels ) {\n",
       "\n",
       "        var d = options.decimals; // decimals\n",
       "        var offsetRatio = 0.1;\n",
       "        var al = options.axesLabels;\n",
       "\n",
       "        var offset = offsetRatio * a[1]*( b[1].y - b[0].y );\n",
       "        var xm = xMid.toFixed(d);\n",
       "        if ( /^-0.?0*$/.test(xm) ) xm = xm.substr(1);\n",
       "        addLabel( al[0] + '=' + xm, a[0]*xMid, a[1]*b[1].y+offset, a[2]*b[0].z );\n",
       "        addLabel( ( b[0].x ).toFixed(d), a[0]*b[0].x, a[1]*b[1].y+offset, a[2]*b[0].z );\n",
       "        addLabel( ( b[1].x ).toFixed(d), a[0]*b[1].x, a[1]*b[1].y+offset, a[2]*b[0].z );\n",
       "\n",
       "        var offset = offsetRatio * a[0]*( b[1].x - b[0].x );\n",
       "        var ym = yMid.toFixed(d);\n",
       "        if ( /^-0.?0*$/.test(ym) ) ym = ym.substr(1);\n",
       "        addLabel( al[1] + '=' + ym, a[0]*b[1].x+offset, a[1]*yMid, a[2]*b[0].z );\n",
       "        addLabel( ( b[0].y ).toFixed(d), a[0]*b[1].x+offset, a[1]*b[0].y, a[2]*b[0].z );\n",
       "        addLabel( ( b[1].y ).toFixed(d), a[0]*b[1].x+offset, a[1]*b[1].y, a[2]*b[0].z );\n",
       "\n",
       "        var offset = offsetRatio * a[1]*( b[1].y - b[0].y );\n",
       "        var zm = zMid.toFixed(d);\n",
       "        if ( /^-0.?0*$/.test(zm) ) zm = zm.substr(1);\n",
       "        addLabel( al[2] + '=' + zm, a[0]*b[1].x, a[1]*b[0].y-offset, a[2]*zMid );\n",
       "        addLabel( ( b[0].z ).toFixed(d), a[0]*b[1].x, a[1]*b[0].y-offset, a[2]*b[0].z );\n",
       "        addLabel( ( b[1].z ).toFixed(d), a[0]*b[1].x, a[1]*b[0].y-offset, a[2]*b[1].z );\n",
       "\n",
       "    }\n",
       "\n",
       "    function addLabel( text, x, y, z, color='black', fontsize=14  ) {\n",
       "\n",
       "        var canvas = document.createElement( 'canvas' );\n",
       "        var pixelRatio = Math.round( window.devicePixelRatio );\n",
       "        canvas.width = 128 * pixelRatio;\n",
       "        canvas.height = 32 * pixelRatio; // powers of two\n",
       "        canvas.style.width = '128px';\n",
       "        canvas.style.height = '32px';\n",
       "\n",
       "        var context = canvas.getContext( '2d' );\n",
       "        context.scale( pixelRatio, pixelRatio );\n",
       "        context.fillStyle = color;\n",
       "        context.font = fontsize + 'px monospace';\n",
       "        context.textAlign = 'center';\n",
       "        context.textBaseline = 'middle';\n",
       "        context.fillText( text, canvas.width/2/pixelRatio, canvas.height/2/pixelRatio );\n",
       "\n",
       "        var texture = new THREE.Texture( canvas );\n",
       "        texture.needsUpdate = true;\n",
       "\n",
       "        var sprite = new THREE.Sprite( new THREE.SpriteMaterial( { map: texture } ) );\n",
       "        sprite.position.set( x, y, z );\n",
       "\n",
       "        // Set the initial scale based on plot size to accomodate orthographic projection.\n",
       "        // For other projections, the scale will get reset each frame based on camera distance.\n",
       "        var scale = midToCorner/2;\n",
       "        sprite.scale.set( scale, scale*.25, 1 ); // ratio of canvas width to height\n",
       "\n",
       "        scene.add( sprite );\n",
       "\n",
       "    }\n",
       "\n",
       "    if ( options.axes ) scene.add( new THREE.AxesHelper( Math.min( a[0]*b[1].x, a[1]*b[1].y, a[2]*b[1].z ) ) );\n",
       "\n",
       "    var camera = createCamera();\n",
       "    camera.up.set( 0, 0, 1 );\n",
       "    camera.position.set( a[0]*(xMid+xRange), a[1]*(yMid+yRange), a[2]*(zMid+zRange) );\n",
       "\n",
       "    function createCamera() {\n",
       "\n",
       "        var aspect = window.innerWidth / window.innerHeight;\n",
       "\n",
       "        if ( options.projection === 'orthographic' ) {\n",
       "            var camera = new THREE.OrthographicCamera( -1, 1, 1, -1, -1000, 1000 );\n",
       "            updateCameraAspect( camera, aspect );\n",
       "            return camera;\n",
       "        }\n",
       "\n",
       "        return new THREE.PerspectiveCamera( 45, aspect, 0.1, 1000 );\n",
       "\n",
       "    }\n",
       "\n",
       "    function updateCameraAspect( camera, aspect ) {\n",
       "\n",
       "        if ( camera.isPerspectiveCamera ) {\n",
       "            camera.aspect = aspect;\n",
       "        } else if ( camera.isOrthographicCamera ) {\n",
       "            // Fit the camera frustum to the bounding box's diagonal so that the entire plot fits\n",
       "            // within at the default zoom level and camera position.\n",
       "            if ( aspect > 1 ) { // Wide window\n",
       "                camera.top = midToCorner;\n",
       "                camera.right = midToCorner * aspect;\n",
       "            } else { // Tall or square window\n",
       "                camera.top = midToCorner / aspect;\n",
       "                camera.right = midToCorner;\n",
       "            }\n",
       "            camera.bottom = -camera.top;\n",
       "            camera.left = -camera.right;\n",
       "        }\n",
       "\n",
       "        camera.updateProjectionMatrix();\n",
       "\n",
       "    }\n",
       "\n",
       "    var lights = [{&quot;x&quot;:-5, &quot;y&quot;:3, &quot;z&quot;:0, &quot;color&quot;:&quot;#7f7f7f&quot;, &quot;parent&quot;:&quot;camera&quot;}];\n",
       "    for ( var i=0 ; i < lights.length ; i++ ) {\n",
       "        var light = new THREE.DirectionalLight( lights[i].color, 1 );\n",
       "        light.position.set( a[0]*lights[i].x, a[1]*lights[i].y, a[2]*lights[i].z );\n",
       "        if ( lights[i].parent === 'camera' ) {\n",
       "            light.target.position.set( a[0]*xMid, a[1]*yMid, a[2]*zMid );\n",
       "            scene.add( light.target );\n",
       "            camera.add( light );\n",
       "        } else scene.add( light );\n",
       "    }\n",
       "    scene.add( camera );\n",
       "\n",
       "    var ambient = {&quot;color&quot;:&quot;#7f7f7f&quot;};\n",
       "    scene.add( new THREE.AmbientLight( ambient.color, 1 ) );\n",
       "\n",
       "    var controls = new THREE.OrbitControls( camera, renderer.domElement );\n",
       "    controls.target.set( a[0]*xMid, a[1]*yMid, a[2]*zMid );\n",
       "    controls.addEventListener( 'change', function() { if ( !animate ) render(); } );\n",
       "\n",
       "    window.addEventListener( 'resize', function() {\n",
       "        \n",
       "        renderer.setSize( window.innerWidth, window.innerHeight );\n",
       "        updateCameraAspect( camera, window.innerWidth / window.innerHeight );\n",
       "        if ( !animate ) render();\n",
       "        \n",
       "    } );\n",
       "\n",
       "    var texts = [];\n",
       "    for ( var i=0 ; i < texts.length ; i++ )\n",
       "        addLabel( texts[i].text, a[0]*texts[i].x, a[1]*texts[i].y, a[2]*texts[i].z, texts[i].color );\n",
       "\n",
       "    var points = [{&quot;point&quot;: [0.016191833366591937, 0.8775126971491567, 0.010794555577727917], &quot;size&quot;: 5.0, &quot;color&quot;: &quot;#0000ff&quot;, &quot;opacity&quot;: 1.0}, {&quot;point&quot;: [-0.8176082056502747, 0.043712658132290305, 0.31624872668238185], &quot;size&quot;: 5.0, &quot;color&quot;: &quot;#0000ff&quot;, &quot;opacity&quot;: 1.0}, {&quot;point&quot;: [0.8775126971491567, 0.016191833366591937, 0.010794555577727943], &quot;size&quot;: 5.0, &quot;color&quot;: &quot;#0000ff&quot;, &quot;opacity&quot;: 1.0}, {&quot;point&quot;: [0.043712658132290305, -0.8176082056502747, 0.3162487266823818], &quot;size&quot;: 5.0, &quot;color&quot;: &quot;#0000ff&quot;, &quot;opacity&quot;: 1.0}, {&quot;point&quot;: [-0.19236311161415703, -0.19236311161415698, -1.0501894237635852], &quot;size&quot;: 5.0, &quot;color&quot;: &quot;#0000ff&quot;, &quot;opacity&quot;: 1.0}];\n",
       "    for ( var i=0 ; i < points.length ; i++ ) addPoint( points[i] );\n",
       "\n",
       "    function addPoint( json ) {\n",
       "\n",
       "        var geometry = new THREE.Geometry();\n",
       "        var v = json.point;\n",
       "        geometry.vertices.push( new THREE.Vector3( a[0]*v[0], a[1]*v[1], a[2]*v[2] ) );\n",
       "\n",
       "        var canvas = document.createElement( 'canvas' );\n",
       "        canvas.width = 128;\n",
       "        canvas.height = 128;\n",
       "\n",
       "        var context = canvas.getContext( '2d' );\n",
       "        context.arc( 64, 64, 64, 0, 2 * Math.PI );\n",
       "        context.fillStyle = json.color;\n",
       "        context.fill();\n",
       "\n",
       "        var texture = new THREE.Texture( canvas );\n",
       "        texture.needsUpdate = true;\n",
       "\n",
       "        var transparent = json.opacity < 1 ? true : false;\n",
       "        var size = camera.isOrthographicCamera ? json.size : json.size/100;\n",
       "        var material = new THREE.PointsMaterial( { size: size, map: texture,\n",
       "                                                   transparent: transparent, opacity: json.opacity,\n",
       "                                                   alphaTest: .1 } );\n",
       "\n",
       "        var c = new THREE.Vector3();\n",
       "        geometry.computeBoundingBox();\n",
       "        geometry.boundingBox.getCenter( c );\n",
       "        geometry.translate( -c.x, -c.y, -c.z );\n",
       "\n",
       "        var mesh = new THREE.Points( geometry, material );\n",
       "        mesh.position.set( c.x, c.y, c.z );\n",
       "        scene.add( mesh );\n",
       "\n",
       "    }\n",
       "\n",
       "    var lines = [{&quot;points&quot;: [[0.016191833366591937, 0.8775126971491567, 0.010794555577727917], [-0.8176082056502747, 0.043712658132290305, 0.31624872668238185]], &quot;color&quot;: &quot;#0000ff&quot;, &quot;opacity&quot;: 1.0, &quot;linewidth&quot;: 1.0}, {&quot;points&quot;: [[0.016191833366591937, 0.8775126971491567, 0.010794555577727917], [0.8775126971491567, 0.016191833366591937, 0.010794555577727943]], &quot;color&quot;: &quot;#0000ff&quot;, &quot;opacity&quot;: 1.0, &quot;linewidth&quot;: 1.0}, {&quot;points&quot;: [[0.016191833366591937, 0.8775126971491567, 0.010794555577727917], [-0.19236311161415703, -0.19236311161415698, -1.0501894237635852]], &quot;color&quot;: &quot;#0000ff&quot;, &quot;opacity&quot;: 1.0, &quot;linewidth&quot;: 1.0}, {&quot;points&quot;: [[-0.8176082056502747, 0.043712658132290305, 0.31624872668238185], [0.043712658132290305, -0.8176082056502747, 0.3162487266823818]], &quot;color&quot;: &quot;#0000ff&quot;, &quot;opacity&quot;: 1.0, &quot;linewidth&quot;: 1.0}, {&quot;points&quot;: [[-0.8176082056502747, 0.043712658132290305, 0.31624872668238185], [-0.19236311161415703, -0.19236311161415698, -1.0501894237635852]], &quot;color&quot;: &quot;#0000ff&quot;, &quot;opacity&quot;: 1.0, &quot;linewidth&quot;: 1.0}, {&quot;points&quot;: [[0.8775126971491567, 0.016191833366591937, 0.010794555577727943], [0.043712658132290305, -0.8176082056502747, 0.3162487266823818]], &quot;color&quot;: &quot;#0000ff&quot;, &quot;opacity&quot;: 1.0, &quot;linewidth&quot;: 1.0}, {&quot;points&quot;: [[0.8775126971491567, 0.016191833366591937, 0.010794555577727943], [-0.19236311161415703, -0.19236311161415698, -1.0501894237635852]], &quot;color&quot;: &quot;#0000ff&quot;, &quot;opacity&quot;: 1.0, &quot;linewidth&quot;: 1.0}, {&quot;points&quot;: [[0.043712658132290305, -0.8176082056502747, 0.3162487266823818], [-0.19236311161415703, -0.19236311161415698, -1.0501894237635852]], &quot;color&quot;: &quot;#0000ff&quot;, &quot;opacity&quot;: 1.0, &quot;linewidth&quot;: 1.0}];\n",
       "    for ( var i=0 ; i < lines.length ; i++ ) addLine( lines[i] );\n",
       "\n",
       "    function addLine( json ) {\n",
       "\n",
       "        var geometry = new THREE.Geometry();\n",
       "        for ( var i=0 ; i < json.points.length ; i++ ) {\n",
       "            var v = json.points[i];\n",
       "            geometry.vertices.push( new THREE.Vector3( a[0]*v[0], a[1]*v[1], a[2]*v[2] ) );\n",
       "        }\n",
       "\n",
       "        var transparent = json.opacity < 1 ? true : false;\n",
       "        var material = new THREE.LineBasicMaterial( { color: json.color, linewidth: json.linewidth,\n",
       "                                                      transparent: transparent, opacity: json.opacity } );\n",
       "\n",
       "        var c = new THREE.Vector3();\n",
       "        geometry.computeBoundingBox();\n",
       "        geometry.boundingBox.getCenter( c );\n",
       "        geometry.translate( -c.x, -c.y, -c.z );\n",
       "\n",
       "        var mesh = new THREE.Line( geometry, material );\n",
       "        mesh.position.set( c.x, c.y, c.z );\n",
       "        scene.add( mesh );\n",
       "\n",
       "    }\n",
       "\n",
       "    var surfaces = [{&quot;vertices&quot;: [], &quot;faces&quot;: [], &quot;color&quot;: &quot;#008000&quot;, &quot;opacity&quot;: 1.0}];\n",
       "    for ( var i=0 ; i < surfaces.length ; i++ ) addSurface( surfaces[i] );\n",
       "\n",
       "    function addSurface( json ) {\n",
       "\n",
       "        var useFaceColors = 'faceColors' in json ? true : false;\n",
       "\n",
       "        var geometry = new THREE.Geometry();\n",
       "        for ( var i=0 ; i < json.vertices.length ; i++ ) {\n",
       "            var v = json.vertices[i];\n",
       "            geometry.vertices.push( new THREE.Vector3( a[0]*v.x, a[1]*v.y, a[2]*v.z ) );\n",
       "        }\n",
       "        for ( var i=0 ; i < json.faces.length ; i++ ) {\n",
       "            var f = json.faces[i];\n",
       "            for ( var j=0 ; j < f.length - 2 ; j++ ) {\n",
       "                var face = new THREE.Face3( f[0], f[j+1], f[j+2] );\n",
       "                if ( useFaceColors ) face.color.set( json.faceColors[i] );\n",
       "                geometry.faces.push( face );\n",
       "            }\n",
       "        }\n",
       "        geometry.computeVertexNormals();\n",
       "\n",
       "        var side = json.singleSide ? THREE.FrontSide : THREE.DoubleSide;\n",
       "        var transparent = json.opacity < 1 ? true : false;\n",
       "\n",
       "        var material = new THREE.MeshPhongMaterial( { side: side,\n",
       "                                     color: useFaceColors ? 'white' : json.color,\n",
       "                                     vertexColors: useFaceColors ? THREE.FaceColors : THREE.NoColors,\n",
       "                                     transparent: transparent, opacity: json.opacity,\n",
       "                                     shininess: 20, flatShading: json.useFlatShading } );\n",
       "\n",
       "        var c = new THREE.Vector3();\n",
       "        geometry.computeBoundingBox();\n",
       "        geometry.boundingBox.getCenter( c );\n",
       "        geometry.translate( -c.x, -c.y, -c.z );\n",
       "\n",
       "        var mesh = new THREE.Mesh( geometry, material );\n",
       "        mesh.position.set( c.x, c.y, c.z );\n",
       "        if ( transparent && json.renderOrder ) mesh.renderOrder = json.renderOrder;\n",
       "        scene.add( mesh );\n",
       "\n",
       "        if ( json.showMeshGrid ) {\n",
       "\n",
       "            var geometry = new THREE.Geometry();\n",
       "\n",
       "            for ( var i=0 ; i < json.faces.length ; i++ ) {\n",
       "                var f = json.faces[i];\n",
       "                for ( var j=0 ; j < f.length ; j++ ) {\n",
       "                    var k = j === f.length-1 ? 0 : j+1;\n",
       "                    var v1 = json.vertices[f[j]];\n",
       "                    var v2 = json.vertices[f[k]];\n",
       "                    // vertices in opposite directions on neighboring faces\n",
       "                    var nudge = f[j] < f[k] ? .0005*zRange : -.0005*zRange;\n",
       "                    geometry.vertices.push( new THREE.Vector3( a[0]*v1.x, a[1]*v1.y, a[2]*(v1.z+nudge) ) );\n",
       "                    geometry.vertices.push( new THREE.Vector3( a[0]*v2.x, a[1]*v2.y, a[2]*(v2.z+nudge) ) );\n",
       "                }\n",
       "            }\n",
       "\n",
       "            var material = new THREE.LineBasicMaterial( { color: 'black', linewidth: 1 } );\n",
       "\n",
       "            var c = new THREE.Vector3();\n",
       "            geometry.computeBoundingBox();\n",
       "            geometry.boundingBox.getCenter( c );\n",
       "            geometry.translate( -c.x, -c.y, -c.z );\n",
       "\n",
       "            var mesh = new THREE.LineSegments( geometry, material );\n",
       "            mesh.position.set( c.x, c.y, c.z );\n",
       "            scene.add( mesh );\n",
       "\n",
       "        }\n",
       "\n",
       "    }\n",
       "\n",
       "    var scratch = new THREE.Vector3();\n",
       "\n",
       "    function render() {\n",
       "\n",
       "        if ( animate ) requestAnimationFrame( render );\n",
       "        renderer.render( scene, camera );\n",
       "\n",
       "        // Resize text based on distance from camera.\n",
       "        // Not neccessary for orthographic due to the nature of the projection (preserves sizes).\n",
       "        if ( !camera.isOrthographicCamera ) {\n",
       "            for ( var i=0 ; i < scene.children.length ; i++ ) {\n",
       "                if ( scene.children[i].type === 'Sprite' ) {\n",
       "                    var sprite = scene.children[i];\n",
       "                    var adjust = scratch.addVectors( sprite.position, scene.position )\n",
       "                                    .sub( camera.position ).length() / 5;\n",
       "                    sprite.scale.set( adjust, .25*adjust, 1 ); // ratio of canvas width to height\n",
       "                }\n",
       "            }\n",
       "        }\n",
       "    }\n",
       "    \n",
       "    render();\n",
       "    controls.update();\n",
       "    if ( !animate ) render();\n",
       "\n",
       "\n",
       "    // menu functions\n",
       "\n",
       "    function toggleMenu() {\n",
       "\n",
       "        var m = document.getElementById( 'menu-content' );\n",
       "        if ( m.style.display === 'block' ) m.style.display = 'none'\n",
       "        else m.style.display = 'block';\n",
       "\n",
       "    }\n",
       "\n",
       "\n",
       "    function saveAsPNG() {\n",
       "\n",
       "        var a = document.body.appendChild( document.createElement( 'a' ) );\n",
       "        a.href = renderer.domElement.toDataURL( 'image/png' );\n",
       "        a.download = 'screenshot';\n",
       "        a.click();\n",
       "\n",
       "    }\n",
       "\n",
       "    function saveAsHTML() {\n",
       "\n",
       "        toggleMenu(); // otherwise visible in output\n",
       "        event.stopPropagation();\n",
       "\n",
       "        var blob = new Blob( [ '<!DOCTYPE html>\\n' + document.documentElement.outerHTML ] );\n",
       "        var a = document.body.appendChild( document.createElement( 'a' ) );\n",
       "        a.href = window.URL.createObjectURL( blob );\n",
       "        a.download = 'graphic.html';\n",
       "        a.click();\n",
       "\n",
       "    }\n",
       "\n",
       "    function getViewpoint() {\n",
       "\n",
       "        function roundTo( x, n ) { return +x.toFixed(n); }\n",
       "\n",
       "        var v = camera.quaternion.inverse();\n",
       "        var r = Math.sqrt( v.x*v.x + v.y*v.y + v.z*v.z );\n",
       "        var axis = [ roundTo( v.x / r, 4 ), roundTo( v.y / r, 4 ), roundTo( v.z / r, 4 ) ];\n",
       "        var angle = roundTo( 2 * Math.atan2( r, v.w ) * 180 / Math.PI, 2 );\n",
       "\n",
       "        var textArea = document.createElement( 'textarea' );\n",
       "        textArea.textContent = JSON.stringify( axis ) + ',' + angle;\n",
       "        textArea.style.csstext = 'position: absolute; top: -100%';\n",
       "        document.body.append( textArea );\n",
       "        textArea.select();\n",
       "        document.execCommand( 'copy' );\n",
       "\n",
       "        var m = document.getElementById( 'menu-message' );\n",
       "        m.innerHTML = 'Viewpoint copied to clipboard';\n",
       "        m.style.display = 'block';\n",
       "        setTimeout( function() { m.style.display = 'none'; }, 2000 );\n",
       "\n",
       "    }\n",
       "\n",
       "</script>\n",
       "\n",
       "<div id=&quot;menu-container&quot; onclick=&quot;toggleMenu()&quot;>&#x24d8;\n",
       "<div id=&quot;menu-message&quot;></div>\n",
       "<div id=&quot;menu-content&quot;>\n",
       "<div onclick=&quot;saveAsPNG()&quot;>Save as PNG</div>\n",
       "<div onclick=&quot;saveAsHTML()&quot;>Save as HTML</div>\n",
       "<div onclick=&quot;getViewpoint()&quot;>Get Viewpoint</div>\n",
       "<div>Close Menu</div>\n",
       "</div></div>\n",
       "\n",
       "</body>\n",
       "</html>\n",
       "\"\n",
       "        width=\"100%\"\n",
       "        height=\"400\"\n",
       "        style=\"border: 0;\">\n",
       "</iframe>\n"
      ],
      "text/plain": [
       "Graphics3d Object"
      ]
     },
     "execution_count": 27,
     "metadata": {},
     "output_type": "execute_result"
    }
   ],
   "source": [
    "B = Matrix(QQ, [[1, -1, 1, -1], \n",
    "                [1, 1, 0, 0]])\n",
    "M2 = Matroid(B)\n",
    "print(list(M2.circuits()))  # the linear relations between the columns\n",
    "pol2 = M2.matroid_polytope()\n",
    "print(pol2.vertices_list())\n",
    "pol2.plot()"
   ]
  },
  {
   "cell_type": "markdown",
   "metadata": {},
   "source": [
    "The bijection between $Gr(r,m)$ and the $r$-dimensional subspaces of $\\mathbb Q^m$ induce a bijection at the level of the tropical Grassmannian $trop(Gr^0(r,m))$ -- remove the zeros -- and the set of the *uniform* tropicalised $r$-planes.\n",
    "\n",
    "#### Theorem (Sturmfeld)\n",
    "\n",
    "The tropical linear space is the dual fan of the *loopless* faces of the matroid polytope. \n",
    "\n",
    "*Loopless* face means that every element corresponding to the vertices belong to the tropical basis."
   ]
  },
  {
   "cell_type": "code",
   "execution_count": 28,
   "metadata": {},
   "outputs": [
    {
     "data": {
      "text/plain": [
       "(1, 5, 8, 5, 1)"
      ]
     },
     "execution_count": 28,
     "metadata": {},
     "output_type": "execute_result"
    }
   ],
   "source": [
    "pol2.f_vector()  # 5 vertices and 8 edges. indeed it looks like a pyramid"
   ]
  },
  {
   "cell_type": "code",
   "execution_count": 29,
   "metadata": {},
   "outputs": [
    {
     "name": "stdout",
     "output_type": "stream",
     "text": [
      "facet  0  is not loopless!\n",
      "facet  2  is not loopless!\n"
     ]
    }
   ],
   "source": [
    "# these are the top dim faces\n",
    "facets = pol2.facets()\n",
    "\n",
    "for j, fac in enumerate([np.sum([v.vector().list() for v in fac.vertices()],0) for fac in facets]):\n",
    "    if 0 in fac:\n",
    "        print(\"facet \",j, \" is not loopless!\")"
   ]
  },
  {
   "cell_type": "markdown",
   "metadata": {},
   "source": [
    "Indeed, we find only 3 loopless facets corresponding to the three rays of a tropical line.\n",
    "\n",
    "### Application to phylogenetic trees\n",
    "\n",
    "The uniform matroid $U(2,4)$ has a polytope that looks like the one-point-suspension of the square. \n",
    "\n",
    "This polytope can be split into two pyramids, each leading to a tropical line with three rays.\n",
    "\n",
    "When you glue back the two pyramids, you will find a phylogenetic tree with 4 leaves. Hence, all the possible decomposition of $U(2,4)$ do correspond to the moduli space of phylogenetic trees with 4 leaves.\n",
    "\n",
    "The results can be generalised to $U(2,n)$ for $n$ leaves.\n",
    "\n",
    "Hence, the tropical Grassmannian $trop(Gr^0(2,n))$ is the space of all the phylogenetic trees."
   ]
  },
  {
   "cell_type": "code",
   "execution_count": 30,
   "metadata": {},
   "outputs": [
    {
     "data": {
      "text/plain": [
       "(<0,1,2,4>, <1,2,3,4>)"
      ]
     },
     "execution_count": 30,
     "metadata": {},
     "output_type": "execute_result"
    }
   ],
   "source": [
    "# list of possible triangulations\n",
    "pol2.triangulate()\n",
    "\n",
    "# split the polytope into different triangles\n",
    "# to each loopless triangle, associate a ray of the tropical linear space\n",
    "# glue the rays along the faces that you glue together to recontruct the polytope\n",
    "# For the matroid U(2,4) you get the space of pylogenetic trees with 4 leaves!"
   ]
  },
  {
   "cell_type": "markdown",
   "metadata": {},
   "source": [
    "### Dressian: parameter space of tropical linear spaces\n",
    "\n",
    "The tropicalisation of the Plücker relations may not be the whole Grassmannian: such tropical prevariety is called *Dressian*. As usual $trop(Gr^0(r,m)) \\subset Dr(r,m)$.\n",
    "    \n",
    "The Dressian is the moduli space of the *tropical linear spaces* (and not tropicalised linear spaces!). Hence, each point on the Dressian represents a matroid characterised by $r$ and $m$ (hence, with fixed number of circuits)."
   ]
  },
  {
   "cell_type": "markdown",
   "metadata": {},
   "source": [
    "## Tropical intersection\n",
    "\n",
    "Can we intersect tropical curves? What is the degree of intersection (i.e. the number of points)?\n",
    "\n",
    "#### Tropical Bézout theorem\n",
    "Two tropical varieties $V(f)$ and $V(g)$ of degree $deg_f$ and $deg_g$ respectively intersect in $deg_f * deg_g$ points counting multiplicities.\n",
    "\n",
    "#### Stable intersection theorem\n",
    "There is always a $deg_f * deg_g$ number of points, counted with multiplicities. To prove this, move the curves far away, so that only the infintie rays intesect (i.e. the tentacles of the amoebas). Move them closely (homotopically) and by stability the points are not removed or generated."
   ]
  },
  {
   "cell_type": "code",
   "execution_count": 31,
   "metadata": {
    "scrolled": false
   },
   "outputs": [
    {
     "name": "stdout",
     "output_type": "stream",
     "text": [
      "plotting tropical curve... \n",
      "\n",
      "plotting tropical curve... \n",
      "\n",
      "1  /  2\r"
     ]
    },
    {
     "data": {
      "image/png": "[encoded data removed]",
      "text/plain": [
       "Graphics object consisting of 12 graphics primitives"
      ]
     },
     "execution_count": 31,
     "metadata": {},
     "output_type": "execute_result"
    }
   ],
   "source": [
    "plot_tropical_curve(\"t**(-2)*u**2 + u*w + t**(-3)*w**2 + t**(-1)*w + u + 1\") + plot_tropical_curve(\"u + w + t**(-2)\", color=\"red\")\n",
    "\n"
   ]
  },
  {
   "cell_type": "markdown",
   "metadata": {},
   "source": [
    "To check the degree, simply count the number of rays direcitons (with degeneracies): that is the degree"
   ]
  },
  {
   "cell_type": "code",
   "execution_count": 32,
   "metadata": {},
   "outputs": [
    {
     "name": "stdout",
     "output_type": "stream",
     "text": [
      "forget:  [5, 6]\n",
      "forget:  [5, 7]\n",
      "forget:  [6, 7]\n",
      "forget:  [5, 8]\n",
      "forget:  [7, 8]\n",
      "forget:  [5, 9]\n",
      "forget:  [6, 9]\n",
      "forget:  [6, 10]\n",
      "forget:  [7, 10]\n",
      "forget:  [8, 10]\n",
      "forget:  [9, 10]\n"
     ]
    },
    {
     "data": {
      "image/png": "[encoded data removed]",
      "text/plain": [
       "<Figure size 432x288 with 1 Axes>"
      ]
     },
     "metadata": {},
     "output_type": "display_data"
    }
   ],
   "source": [
    "# notice that the valuation is reversed (just the symmatric curve, no big deal)\n",
    "R3.<t,u,w> = QQ[]\n",
    "f3 = R3.ideal([(t**(2)*u**2 + u*w + t**(3)*w**2 + t**(1)*w + u + 1)*(u + w + t**(2))*(t+1)])\n",
    "plot_tropical_curve_from_intersection(f3);"
   ]
  },
  {
   "cell_type": "code",
   "execution_count": 33,
   "metadata": {},
   "outputs": [
    {
     "name": "stdout",
     "output_type": "stream",
     "text": [
      "forget:  [1, 2]\n",
      "forget:  [1, 3]\n",
      "forget:  [2, 3]\n"
     ]
    },
    {
     "data": {
      "image/png": "[encoded data removed]",
      "text/plain": [
       "<Figure size 432x288 with 1 Axes>"
      ]
     },
     "metadata": {},
     "output_type": "display_data"
    }
   ],
   "source": [
    "# if you are interested in finding the points of intersection and plotting them:\n",
    "f4 = R3.ideal([(t**(2)*u**2 + u*w + t**(3)*w**2 + t**(1)*w + u + 1)*(t+1),(u + w + t**(2))*(t+1)])\n",
    "plot_tropical_curve_from_intersection(f4);"
   ]
  },
  {
   "cell_type": "code",
   "execution_count": 34,
   "metadata": {},
   "outputs": [
    {
     "data": {
      "image/png": "[encoded data removed]",
      "text/plain": [
       "<Figure size 432x288 with 1 Axes>"
      ]
     },
     "metadata": {},
     "output_type": "display_data"
    }
   ],
   "source": [
    "# this is the dual polyhedron\n",
    "\n",
    "f3 = \"(t**(2)*u**2 + u*w + t**(3)*w**2 + t**(1)*w + u + 1)*(u + w + t**(2))\"\n",
    "plot_2d_refinement(tropical_polyhedron(f3));\n"
   ]
  },
  {
   "cell_type": "markdown",
   "metadata": {},
   "source": [
    "The information about the multiplicities of the intersection points can be found in the areas of each of the internal faces of the subdivided polytope, using the dual correspondence.\n",
    "\n",
    "In particular, the *area* of the quadrilaterals in the subdivision, if it is not $1$, means that there are non-transverse intersections.\n",
    "\n",
    "Here below the polytopes of the two curves separately."
   ]
  },
  {
   "cell_type": "code",
   "execution_count": 35,
   "metadata": {},
   "outputs": [
    {
     "data": {
      "image/png": "[encoded data removed]",
      "text/plain": [
       "<Figure size 432x288 with 1 Axes>"
      ]
     },
     "metadata": {},
     "output_type": "display_data"
    }
   ],
   "source": [
    "\n",
    "f5 = \"(t**(2)*u**2 + u*w + t**(3)*w**2 + t**(1)*w + u + 1)\" \n",
    "plot_2d_refinement(tropical_polyhedron(f5));"
   ]
  },
  {
   "cell_type": "code",
   "execution_count": 36,
   "metadata": {
    "scrolled": true
   },
   "outputs": [
    {
     "data": {
      "image/png": "[encoded data removed]",
      "text/plain": [
       "<Figure size 432x288 with 1 Axes>"
      ]
     },
     "metadata": {},
     "output_type": "display_data"
    }
   ],
   "source": [
    "f6 = \"(u + w + t**(2))\"\n",
    "plot_2d_refinement(tropical_polyhedron(f6));"
   ]
  },
  {
   "cell_type": "code",
   "execution_count": 37,
   "metadata": {},
   "outputs": [
    {
     "name": "stdout",
     "output_type": "stream",
     "text": [
      "forget:  [7, 8]\n",
      "forget:  [7, 9]\n",
      "forget:  [8, 9]\n",
      "forget:  [7, 10]\n",
      "forget:  [8, 10]\n",
      "forget:  [7, 11]\n",
      "forget:  [9, 11]\n",
      "forget:  [8, 12]\n",
      "forget:  [9, 12]\n",
      "forget:  [10, 11]\n",
      "forget:  [11, 12]\n"
     ]
    },
    {
     "data": {
      "image/png": "[encoded data removed]",
      "text/plain": [
       "<Figure size 432x288 with 1 Axes>"
      ]
     },
     "metadata": {},
     "output_type": "display_data"
    }
   ],
   "source": [
    "# transverse intersections\n",
    "f3 = R3.ideal([(t**(2)*u**2 + u*w + t**(3)*w**2 + t**(1)*w + u + 1)*(t**7*u + t**6*w + 1)*(t+1)])\n",
    "plot_tropical_curve_from_intersection(f3);"
   ]
  },
  {
   "cell_type": "code",
   "execution_count": 38,
   "metadata": {},
   "outputs": [
    {
     "name": "stdout",
     "output_type": "stream",
     "text": [
      "forget:  [2, 3]\n",
      "forget:  [2, 4]\n",
      "forget:  [3, 4]\n"
     ]
    },
    {
     "data": {
      "image/png": "[encoded data removed]",
      "text/plain": [
       "<Figure size 432x288 with 1 Axes>"
      ]
     },
     "metadata": {},
     "output_type": "display_data"
    }
   ],
   "source": [
    "# if you are interested in finding the points of intersection and plotting them:\n",
    "f4 = R3.ideal([(t**(2)*u**2 + u*w + t**(3)*w**2 + t**(1)*w + u + 1)*(t+1),(t**7*u + t**6*w + 1)*(t+1)])\n",
    "plot_tropical_curve_from_intersection(f4);"
   ]
  },
  {
   "cell_type": "code",
   "execution_count": 39,
   "metadata": {},
   "outputs": [
    {
     "data": {
      "image/png": "[encoded data removed]",
      "text/plain": [
       "<Figure size 432x288 with 1 Axes>"
      ]
     },
     "metadata": {},
     "output_type": "display_data"
    }
   ],
   "source": [
    "# this is the dual polyhedron\n",
    "\n",
    "f3 = \"(t**(2)*u**2 + u*w + t**(3)*w**2 + t**(1)*w + u + 1)*(t**7*u + t**6*w + 1)\"\n",
    "plot_2d_refinement(tropical_polyhedron(f3));"
   ]
  },
  {
   "cell_type": "markdown",
   "metadata": {},
   "source": [
    "The two parallelograms are of area $1$. This means that the intersection of the points associted dually to those parallelograms is transverse."
   ]
  },
  {
   "cell_type": "markdown",
   "metadata": {},
   "source": [
    "#### Observation: constant coeffcients\n",
    "\n",
    "If the valuation of the coefficients is always $0$, then the newton polytope is not subdivided and the tropical variety looks like a fan!"
   ]
  },
  {
   "cell_type": "code",
   "execution_count": 40,
   "metadata": {},
   "outputs": [
    {
     "name": "stdout",
     "output_type": "stream",
     "text": [
      "forget:  [1, 2]\n",
      "forget:  [1, 3]\n",
      "forget:  [2, 4]\n",
      "forget:  [3, 4]\n",
      "forget:  [1, 5]\n",
      "forget:  [2, 5]\n",
      "forget:  [3, 5]\n",
      "forget:  [4, 5]\n"
     ]
    },
    {
     "data": {
      "image/png": "[encoded data removed]",
      "text/plain": [
       "<Figure size 432x288 with 1 Axes>"
      ]
     },
     "metadata": {},
     "output_type": "display_data"
    },
    {
     "data": {
      "image/png": "[encoded data removed]",
      "text/plain": [
       "<Figure size 432x288 with 1 Axes>"
      ]
     },
     "metadata": {},
     "output_type": "display_data"
    }
   ],
   "source": [
    "# constant coefficients\n",
    "f7 = R3.ideal([(u**2 + u*w + w**2 + u**2*w**2 + u + 1)*(t+1)])\n",
    "plot_tropical_curve_from_intersection(f7)\n",
    "f7b = \"(u**2 + u*w + w**2 + u**2*w**2 + u + 1)\"\n",
    "plot_2d_refinement(tropical_polyhedron(f7b));"
   ]
  },
  {
   "cell_type": "markdown",
   "metadata": {},
   "source": [
    "### Smoothness of a curve\n",
    "\n",
    "A tropical curve is smooth if the triangulation is unimodular, i.e. the area of each triangle is 1/2. \n",
    "\n",
    "We have already encountered examples of smooth and non-smooth curves."
   ]
  },
  {
   "cell_type": "markdown",
   "metadata": {},
   "source": [
    "## Gromov-Witten invariants\n",
    "\n",
    "Gromov Witten invariants are integer numbers $N_{d,g}$ corresponding to the number of curves of degree $d$ and genus $g$ passing through $g + 3d -1$ points.\n",
    "\n",
    "It is possible to compute these numbers tropically. The procedure is to compute the **simple curves** (i.e. curves whose polytope contains only triangles or parallelograms) of genus $g$ (i.e. number of internal holes) and degree $d$ (recalling that the degree is the number of infinite rays) and weight them by the **contribution factor** (this is defined as the product of all normalised triangles areas of the dual polytope)"
   ]
  },
  {
   "cell_type": "markdown",
   "metadata": {},
   "source": [
    "## Structure theorem\n",
    "\n",
    "We have already noticed that tropical varieties look like polyhedral complexes. Now we see in details the properties they satisfy.\n",
    "\n",
    "We need some definitions first: given a polyhedral complex $C$, \n",
    " - it is **balanced** if each star is balanced. A *star* is the fan describing the neighourhood of a cell of $C$ and it is balanced if the sum of all the weighted $d-1$ cones is zero. The weights are the lattice lengths of their dual edges!\n",
    " - it is **pure** if all the top cells have all the same dimension\n",
    " - it is **connected through codimension 1** if all the cells that intersect have a codim 1 face in common (and not lower dimensional ones only)\n",
    " \n",
    "#### Theorem\n",
    "\n",
    "Let $X$ be an irreducible $d$-dimensional variety. Its tropicalisation $trop(X)$ is the support of a balanced, pure of dimension $d$, connected through codimension 1, rational polyhedral complex."
   ]
  },
  {
   "cell_type": "code",
   "execution_count": 41,
   "metadata": {},
   "outputs": [
    {
     "name": "stdout",
     "output_type": "stream",
     "text": [
      "forget:  [4, 5]\n",
      "forget:  [4, 6]\n",
      "forget:  [5, 7]\n",
      "forget:  [6, 7]\n",
      "forget:  [4, 8]\n",
      "forget:  [6, 8]\n",
      "forget:  [5, 9]\n",
      "forget:  [7, 9]\n",
      "forget:  [8, 9]\n"
     ]
    },
    {
     "data": {
      "image/png": "[encoded data removed]",
      "text/plain": [
       "<Figure size 432x288 with 1 Axes>"
      ]
     },
     "metadata": {},
     "output_type": "display_data"
    }
   ],
   "source": [
    "# You can really see the 2D polyhedral complex when plotting the curves\n",
    "R3.<t,u,w> = QQ[]\n",
    "f3 = R3.ideal([(t**(2)*u**2 + u*w + t**(3)*w**3 + t**4*u*w**2 + 1)*(t+1)])\n",
    "plot_tropical_curve_from_intersection(f3);"
   ]
  },
  {
   "cell_type": "markdown",
   "metadata": {},
   "source": [
    "## Convex tropical geometry\n",
    "\n",
    "A convex hull of $x_1,...,x_n$ in tropical geometry is a **tropical polytope** defined as \n",
    "$$\\{\\bigoplus_i a_i \\otimes x_i, a_i \\in \\mathbb R, \\bigoplus_i a_i=0\\}$$\n",
    "\n",
    "### Spectral theroy\n",
    "\n",
    "This tropical polytope is the tropical eigenspace of an $n \\times n$ matrix. In particular, for tropical spectral theory, matrices have only one eigenvalues -- and hence, only one eigenspace defined by the column vectors $x_i$'s of above.\n",
    "\n",
    "### Intersection of hyperplanes\n",
    "\n",
    "When you intersect $n$ tropical hyperplanes, the intersection is a tropical polytope and it corresponds to the **union of all the bounded cells**. Such cells are called *polytropes* and are defined by inequalities like $x_i -x_j < c_{ij}$."
   ]
  },
  {
   "cell_type": "code",
   "execution_count": 42,
   "metadata": {},
   "outputs": [
    {
     "name": "stdout",
     "output_type": "stream",
     "text": [
      "forget:  [6, 7]\n",
      "forget:  [6, 8]\n",
      "forget:  [7, 8]\n",
      "forget:  [6, 9]\n",
      "forget:  [7, 9]\n",
      "forget:  [6, 11]\n",
      "forget:  [7, 10]\n",
      "forget:  [6, 12]\n",
      "forget:  [8, 12]\n",
      "forget:  [7, 14]\n",
      "forget:  [8, 13]\n",
      "forget:  [8, 14]\n",
      "forget:  [9, 10]\n",
      "forget:  [10, 11]\n",
      "forget:  [11, 12]\n",
      "forget:  [10, 13]\n",
      "forget:  [12, 13]\n",
      "forget:  [13, 14]\n"
     ]
    },
    {
     "data": {
      "image/png": "[encoded data removed]",
      "text/plain": [
       "<Figure size 432x288 with 1 Axes>"
      ]
     },
     "metadata": {},
     "output_type": "display_data"
    }
   ],
   "source": [
    "# check all the bounded cells -- in alldimensions -- on the plot below. E.g. also the secgment (0,1) is part of it.\n",
    "# this would correspond to a tropical polytope\n",
    "f3 = R3.ideal([(t**(2)*u + w + 1)*(t**(3)*w + t**4*u + 1)*(u + w + t**5)*(t+1)])\n",
    "plot_tropical_curve_from_intersection(f3);"
   ]
  },
  {
   "cell_type": "markdown",
   "metadata": {},
   "source": [
    "## Tropical matrices\n",
    "\n",
    "A quick overview of tropical matrices. Since matrices are a compact way for doing sums and products of many numbers, te defintions are straightforward.\n",
    "\n",
    "Also, use `np.array` to define a matrix, as the SageMath class `matrix` requires a ring."
   ]
  },
  {
   "cell_type": "code",
   "execution_count": 43,
   "metadata": {},
   "outputs": [
    {
     "name": "stdout",
     "output_type": "stream",
     "text": [
      "[[1 2 0]\n",
      " [3 5 6]\n",
      " [0 1 7]] \n",
      "\n",
      "[[1 1]\n",
      " [3 2]]\n"
     ]
    }
   ],
   "source": [
    "# define a numpy matrix over the tropical semiring\n",
    "A = np.array([[T(1),T(2),T(0)],[T(3),T(5),T(6)],[T(0),T(1),T(7)]])\n",
    "B = np.array([[T(1), T(1)], [T(3), T(2)]])\n",
    "print(A,\"\\n\")\n",
    "print(B)"
   ]
  },
  {
   "cell_type": "code",
   "execution_count": 44,
   "metadata": {},
   "outputs": [],
   "source": [
    "# trace\n",
    "assert np.trace(A) == T(1) + T(5) + T(7)"
   ]
  },
  {
   "cell_type": "code",
   "execution_count": 45,
   "metadata": {},
   "outputs": [],
   "source": [
    "# determinant\n",
    "# need to implement as numpy version does not work\n",
    "\n",
    "def popcol(my_array, pc):\n",
    "    \"\"\"Column popping in numpy arrays\n",
    "    \n",
    "    Args: \n",
    "        my_array (NumPy.array): array \n",
    "        pc (int): column index to pop out\n",
    "    Returns: \n",
    "        Numpy.array: popped array \"\"\"\n",
    "    i = pc\n",
    "    pop = my_array[:, i]\n",
    "    new_array = np.hstack((my_array[:, :i], \n",
    "                           my_array[:, i+1:]))\n",
    "    return new_array\n",
    "\n",
    "\n",
    "def det(A):\n",
    "    if A.shape[0] > 1:\n",
    "        if A.shape[0] == A.shape[1]:\n",
    "            lista = [det(popcol(A[1:],j)) for j, n in enumerate(A[0])]\n",
    "            return T.sum(lista)  # T((-1)**j)*\n",
    "        else:\n",
    "            raise ValueError(\"The matrix is not square\")\n",
    "    else:\n",
    "        if A.shape[0] == A.shape[1]:\n",
    "            return A[0,0]\n",
    "        else:\n",
    "            raise ValueError(\"The matrix is not square\")\n"
   ]
  },
  {
   "cell_type": "code",
   "execution_count": 46,
   "metadata": {},
   "outputs": [
    {
     "name": "stdout",
     "output_type": "stream",
     "text": [
      "detA = 0 ; detB = 2\n"
     ]
    }
   ],
   "source": [
    "# determinants\n",
    "print(\"detA =\",det(A), \"; detB =\", det(B))"
   ]
  },
  {
   "cell_type": "markdown",
   "metadata": {},
   "source": [
    "### Duality of row and column hulls\n",
    "\n",
    "The tropical convex hull of the row space of a matrix $A$ is the same as the tropical convex hull of the column space! Even if the matrix is $m \\times n$, $m \\neq n$."
   ]
  },
  {
   "cell_type": "code",
   "execution_count": 47,
   "metadata": {},
   "outputs": [],
   "source": [
    "# slow, plot the tropical convex hull (with sampling)\n",
    "\n",
    "def plot_tropical_hull_3d_matrix(A):\n",
    "    \"\"\"This function computes the hull by brute\n",
    "    force and returns the figure\n",
    "\n",
    "    Args:\n",
    "        A (np.array): 3x3 array with each coefficient in\n",
    "            the tropical semiring.\n",
    "\n",
    "    Returns:\n",
    "        matplotlib.pyplot.Figure: the plot of the \n",
    "            tropical convex hull\n",
    "    \"\"\"\n",
    "    hull = []\n",
    "    ranges = np.linspace(0, 6, num=30)\n",
    "    for a in ranges:\n",
    "        for b in ranges:\n",
    "            for c in ranges:\n",
    "                if T(a) + T(b) + T(c) == T(0):\n",
    "                    vec = []\n",
    "                    for j in range(A.shape[0]):\n",
    "                        vec.append(T(a)*T(A[j, 0]) + T(b)*T(A[j, 1]) + T(c)*T(A[j, 2]))\n",
    "\n",
    "                    # set to zero the last coordinate\n",
    "                    vec = [item/vec[-1] for item in vec]\n",
    "                    vec = [float(a.lift()) for a in vec]\n",
    "                    #print(vec)\n",
    "                    hull.append(vec)\n",
    "    fig, ax = plt.subplots()\n",
    "    ax.set_aspect(1)\n",
    "    ax.scatter(*list(zip(*hull))[:2])\n",
    "    return fig\n"
   ]
  },
  {
   "cell_type": "code",
   "execution_count": 48,
   "metadata": {},
   "outputs": [
    {
     "data": {
      "image/png": "[encoded data removed]",
      "text/plain": [
       "<Figure size 432x288 with 1 Axes>"
      ]
     },
     "metadata": {},
     "output_type": "display_data"
    },
    {
     "data": {
      "image/png": "[encoded data removed]",
      "text/plain": [
       "<Figure size 432x288 with 1 Axes>"
      ]
     },
     "metadata": {},
     "output_type": "display_data"
    },
    {
     "data": {
      "image/png": "[encoded data removed]",
      "text/plain": [
       "<Figure size 432x288 with 1 Axes>"
      ]
     },
     "metadata": {},
     "output_type": "display_data"
    }
   ],
   "source": [
    "# the representation over the plane looks differnt, though the tropical polytope is teh same!\n",
    "plot_tropical_hull_3d_matrix(A)\n",
    "plot_tropical_hull_3d_matrix(A.T)\n",
    "C = np.array([[T(1),T(0),T(0)],[T(0),T(1),T(0)],[T(0),T(0),T(1)]])\n",
    "plot_tropical_hull_3d_matrix(C);\n"
   ]
  },
  {
   "cell_type": "markdown",
   "metadata": {},
   "source": [
    "Can we compute the rank of the matrix? There are different notions of rank: **the tropical rank** (the largest size of a non-singular submatrix) of the matrix is 1 plus the dimension of the tropical convex hull.\n",
    "\n",
    "So, from the example above we see that `C` has rank 1 while `A` as rank 2 (and not 3 because $detA=0$)."
   ]
  },
  {
   "cell_type": "markdown",
   "metadata": {},
   "source": [
    "## Appendix: Gröbner fan\n",
    "\n",
    "Let's call $I \\subset k[x_1, ... , x_n]$ be an ideal. \n",
    "\n",
    "Let $f \\in I$ and let us define the *initial form* of $f$:\n",
    "\n",
    "$$in_w(f) = t^{trop(f)}f(t^{w_1}x_1,...,t^{w_n}x_n)$$\n",
    "\n",
    "and the initial ideal:\n",
    "\n",
    "$$in_w(I) = <in_w(f), f \\in I>.$$\n",
    "\n",
    "A Gröbner basis is a set $\\{g_1,...g_m\\}$ such that $<in_w(g_1),...,in_w(g_m)> = I$.\n",
    "Notice that $w$ is a parameter (and it varies into the *valuation group*). Let's think for now as $w \\in \\mathbb Q^n$.\n",
    "\n",
    "Let's define the Gröbner complex:\n",
    "$$ C_I[w] = \\{ w' \\in \\mathbb R^n | in_w(I) = in_{w'}(I)\\}$$\n",
    "\n",
    "If we consider the trivial valuation when building the *initial ideals*, then we reduce to the **Gröbner fan** of $I$.\n",
    "\n",
    "Notice that since the *initial ideals* are homogeneous, we can quotient out by a special $w$: $\\mathbb 1 = (1,1,1,...,1)$. So $C_I[w]$ is a rational polyhedral complex (i.e. a bunch of polyhedra properly glued together)... but wait, this is exacly how a toric varity looks like! So, the Gröbner complex of the ideal (when removed the $\\mathbb 1$ ) is splitting the space into regions: each region is an equivalence class of the *initial ideals*.\n",
    "\n",
    "Basically, when varying $w$, you move through all the possible reduced Gröbner bases and we get a fan of Cones, each repressenting a reduced Gröbner bases.\n",
    "\n",
    "Any cone in the Gröbner fan is called a Gröbner cone. The relative interior of any Gröbner cone is an equivalence class. The equivalence class containing 0 is a subspace of $\\mathbb R^n$ called the **homogeneity space** of $I$. \n",
    "\n",
    "The Gröbner fan is a polyhedral fan. The support of the Gröbner fan i.e. the union of its cones is called the Gröbner region of $I$. \n",
    "\n",
    "The **lineality space** of a polyhedral cone is defined as the largest subspace contained in the cone. The common lineality space of all cones in the Gröbner fan equals the homogeneity space of I."
   ]
  },
  {
   "cell_type": "code",
   "execution_count": 49,
   "metadata": {},
   "outputs": [
    {
     "data": {
      "text/plain": [
       "[[x^2 - y^2 + 1], [-x^2 + y^2 - 1]]"
      ]
     },
     "execution_count": 49,
     "metadata": {},
     "output_type": "execute_result"
    }
   ],
   "source": [
    "x,y = QQ['x,y'].gens()\n",
    "I = QQ['x,y'].ideal(x^2 - y^2 + 1)\n",
    "g = I.groebner_fan()  # each maximal cone corresponds to a reduced Grobner basis\n",
    "g.reduced_groebner_bases()"
   ]
  },
  {
   "cell_type": "code",
   "execution_count": 50,
   "metadata": {},
   "outputs": [
    {
     "data": {
      "text/plain": [
       "[[-1, 0], [0, -1], [1, 1]]"
      ]
     },
     "execution_count": 50,
     "metadata": {},
     "output_type": "execute_result"
    }
   ],
   "source": [
    "g.polyhedralfan().rays()"
   ]
  },
  {
   "cell_type": "markdown",
   "metadata": {},
   "source": [
    "A tropical basis is a generating set $<f_1,...,f_m>$ of the ideal $I$ such that $trop(f_i)(w)$ has a unique minimum."
   ]
  },
  {
   "cell_type": "code",
   "execution_count": 51,
   "metadata": {},
   "outputs": [
    {
     "data": {
      "text/plain": [
       "[x^2 - y^2 + 1]"
      ]
     },
     "execution_count": 51,
     "metadata": {},
     "output_type": "execute_result"
    }
   ],
   "source": [
    "assert I.dimension() == 1  # the Krull dimensions of the ideal is 1, then it represents a curve\n",
    "# this is the basis of the tropical curve\n",
    "g.tropical_basis()  # this is the same as the defining ideal"
   ]
  },
  {
   "cell_type": "code",
   "execution_count": 52,
   "metadata": {},
   "outputs": [
    {
     "data": {
      "text/plain": [
       "[[-1, 0], [0, -1], [1, 1]]"
      ]
     },
     "execution_count": 52,
     "metadata": {},
     "output_type": "execute_result"
    }
   ],
   "source": [
    "fan = g.polyhedralfan()  # the rays of the curve, as expected\n",
    "fan.rays()"
   ]
  },
  {
   "cell_type": "code",
   "execution_count": 53,
   "metadata": {},
   "outputs": [
    {
     "data": {
      "text/plain": [
       "{'AMBIENT_DIM': ['2'],\n",
       " 'DIM': ['2'],\n",
       " 'LINEALITY_DIM': ['0'],\n",
       " 'RAYS': ['-1 0\\t# 0', '0 -1\\t# 1', '1 1\\t# 2'],\n",
       " 'N_RAYS': ['3'],\n",
       " 'LINEALITY_SPACE': [],\n",
       " 'ORTH_LINEALITY_SPACE': ['1 0', '0 1'],\n",
       " 'F_VECTOR': ['1 3 2'],\n",
       " 'SIMPLICIAL': ['1'],\n",
       " 'PURE': ['1'],\n",
       " 'CONES': ['{}\\t# Dimension 0',\n",
       "  '{0}\\t# Dimension 1',\n",
       "  '{1}',\n",
       "  '{2}',\n",
       "  '{0 2}\\t# Dimension 2',\n",
       "  '{1 2}'],\n",
       " 'MAXIMAL_CONES': ['{0 2}\\t# Dimension 2', '{1 2}']}"
      ]
     },
     "execution_count": 53,
     "metadata": {},
     "output_type": "execute_result"
    }
   ],
   "source": [
    "fan.fan_dict  # data on the fan"
   ]
  },
  {
   "cell_type": "code",
   "execution_count": 54,
   "metadata": {},
   "outputs": [
    {
     "data": {
      "text/plain": [
       "2"
      ]
     },
     "execution_count": 54,
     "metadata": {},
     "output_type": "execute_result"
    }
   ],
   "source": [
    "fan.dim()"
   ]
  },
  {
   "cell_type": "code",
   "execution_count": 55,
   "metadata": {},
   "outputs": [],
   "source": [
    "assert fan.ambient_dim() == I.ring().ngens()  # theorem for tropical varieties"
   ]
  },
  {
   "cell_type": "code",
   "execution_count": 56,
   "metadata": {},
   "outputs": [
    {
     "data": {
      "text/plain": [
       "0"
      ]
     },
     "execution_count": 56,
     "metadata": {},
     "output_type": "execute_result"
    }
   ],
   "source": [
    "fan.lineality_dim()"
   ]
  },
  {
   "cell_type": "code",
   "execution_count": 57,
   "metadata": {},
   "outputs": [
    {
     "name": "stdout",
     "output_type": "stream",
     "text": [
      "((0-d cone of Rational polyhedral fan in 2-d lattice N,), (1-d cone of Rational polyhedral fan in 2-d lattice N, 1-d cone of Rational polyhedral fan in 2-d lattice N, 1-d cone of Rational polyhedral fan in 2-d lattice N), (2-d cone of Rational polyhedral fan in 2-d lattice N, 2-d cone of Rational polyhedral fan in 2-d lattice N))\n"
     ]
    },
    {
     "data": {
      "image/png": "[encoded data removed]",
      "text/plain": [
       "Graphics object consisting of 14 graphics primitives"
      ]
     },
     "execution_count": 57,
     "metadata": {},
     "output_type": "execute_result"
    }
   ],
   "source": [
    "rat_fan = fan.to_RationalPolyhedralFan()\n",
    "print(rat_fan.cones())\n",
    "rat_fan.plot()"
   ]
  },
  {
   "cell_type": "markdown",
   "metadata": {},
   "source": [
    "In the next example we intersect two toric surfaces!"
   ]
  },
  {
   "cell_type": "code",
   "execution_count": 58,
   "metadata": {},
   "outputs": [
    {
     "name": "stdout",
     "output_type": "stream",
     "text": [
      "[[-1, 0, 0], [0, -1, 0], [0, 0, -1], [1, 1, 1]]\n",
      "{2: [[1, 2], [0, 3], [1, 3], [2, 3]]}\n"
     ]
    }
   ],
   "source": [
    "R.<x,y,z> = QQ[]\n",
    "I = R.ideal([(x+y+z)^3-1,(x+y+z)^3-x])\n",
    "gf = I.groebner_fan()\n",
    "pf = gf.tropical_intersection()  # interection of all the tropical hypersurfaces defined in the ideal\n",
    "print(pf.rays())\n",
    "print(pf.maximal_cones())"
   ]
  },
  {
   "cell_type": "code",
   "execution_count": 59,
   "metadata": {},
   "outputs": [
    {
     "data": {
      "text/html": [
       "\n",
       "<iframe srcdoc=\"<!DOCTYPE html>\n",
       "<html>\n",
       "<head>\n",
       "<title></title>\n",
       "<meta charset=&quot;utf-8&quot;>\n",
       "<meta name=viewport content=&quot;width=device-width, user-scalable=no, minimum-scale=1.0, maximum-scale=1.0&quot;>\n",
       "<style>\n",
       "\n",
       "    body { margin: 0px; overflow: hidden; }\n",
       "\n",
       "    #menu-container { position: absolute; bottom: 30px; right: 40px; cursor: default; }\n",
       "\n",
       "    #menu-message { position: absolute; bottom: 0px; right: 0px; white-space: nowrap;\n",
       "                    display: none; background-color: #F5F5F5; padding: 10px; }\n",
       "\n",
       "    #menu-content { position: absolute; bottom: 0px; right: 0px;\n",
       "                    display: none; background-color: #F5F5F5; border-bottom: 1px solid black;\n",
       "                    border-right: 1px solid black; border-left: 1px solid black; }\n",
       "\n",
       "    #menu-content div { border-top: 1px solid black; padding: 10px; white-space: nowrap; }\n",
       "\n",
       "    #menu-content div:hover { background-color: #FEFEFE;; }\n",
       "  \n",
       "</style>\n",
       "</head>\n",
       "\n",
       "<body>\n",
       "\n",
       "<script src=&quot;/nbextensions/threejs/build/three.min.js&quot;></script>\n",
       "<script src=&quot;/nbextensions/threejs/examples/js/controls/OrbitControls.js&quot;></script>\n",
       "<script>\n",
       "  if ( !window.THREE ) document.write(' \\\n",
       "<script src=&quot;https://cdn.jsdelivr.net/gh/mrdoob/three.js@r110/build/three.min.js&quot;><\\/script> \\\n",
       "<script src=&quot;https://cdn.jsdelivr.net/gh/mrdoob/three.js@r110/examples/js/controls/OrbitControls.js&quot;><\\/script> \\\n",
       "            ');\n",
       "</script>\n",
       "        \n",
       "<script>\n",
       "\n",
       "    var scene = new THREE.Scene();\n",
       "\n",
       "    var renderer = new THREE.WebGLRenderer( { antialias: true, preserveDrawingBuffer: true } );\n",
       "    renderer.setPixelRatio( window.devicePixelRatio );\n",
       "    renderer.setSize( window.innerWidth, window.innerHeight );\n",
       "    renderer.setClearColor( 0xffffff, 1 );\n",
       "    document.body.appendChild( renderer.domElement );\n",
       "\n",
       "    var options = {&quot;aspectRatio&quot;: [1.0, 1.0, 1.0], &quot;axes&quot;: false, &quot;axesLabels&quot;: false, &quot;decimals&quot;: 2, &quot;frame&quot;: false, &quot;projection&quot;: &quot;perspective&quot;};\n",
       "\n",
       "    // When animations are supported by the viewer, the value 'false'\n",
       "    // will be replaced with an option set in Python by the user\n",
       "    var animate = false; // options.animate;\n",
       "\n",
       "    var b = [{&quot;x&quot;:-2.455255888325765, &quot;y&quot;:-2.455255888325765, &quot;z&quot;:-2.455255888325765}, {&quot;x&quot;:2.0, &quot;y&quot;:2.0, &quot;z&quot;:2.0}]; // bounds\n",
       "\n",
       "    if ( b[0].x === b[1].x ) {\n",
       "        b[0].x -= 1;\n",
       "        b[1].x += 1;\n",
       "    }\n",
       "    if ( b[0].y === b[1].y ) {\n",
       "        b[0].y -= 1;\n",
       "        b[1].y += 1;\n",
       "    }\n",
       "    if ( b[0].z === b[1].z ) {\n",
       "        b[0].z -= 1;\n",
       "        b[1].z += 1;\n",
       "    }\n",
       "\n",
       "    var rRange = Math.sqrt( Math.pow( b[1].x - b[0].x, 2 )\n",
       "                            + Math.pow( b[1].y - b[0].y, 2 ) );\n",
       "    var xRange = b[1].x - b[0].x;\n",
       "    var yRange = b[1].y - b[0].y;\n",
       "    var zRange = b[1].z - b[0].z;\n",
       "\n",
       "    var ar = options.aspectRatio;\n",
       "    var a = [ ar[0], ar[1], ar[2] ]; // aspect multipliers\n",
       "    var autoAspect = 2.5;\n",
       "    if ( zRange > autoAspect * rRange && a[2] === 1 ) a[2] = autoAspect * rRange / zRange;\n",
       "\n",
       "    // Distance from (xMid,yMid,zMid) to any corner of the bounding box, after applying aspectRatio\n",
       "    var midToCorner = Math.sqrt( a[0]*a[0]*xRange*xRange + a[1]*a[1]*yRange*yRange + a[2]*a[2]*zRange*zRange ) / 2;\n",
       "\n",
       "    var xMid = ( b[0].x + b[1].x ) / 2;\n",
       "    var yMid = ( b[0].y + b[1].y ) / 2;\n",
       "    var zMid = ( b[0].z + b[1].z ) / 2;\n",
       "\n",
       "    var box = new THREE.Geometry();\n",
       "    box.vertices.push( new THREE.Vector3( a[0]*b[0].x, a[1]*b[0].y, a[2]*b[0].z ) );\n",
       "    box.vertices.push( new THREE.Vector3( a[0]*b[1].x, a[1]*b[1].y, a[2]*b[1].z ) );\n",
       "    var boxMesh = new THREE.Line( box );\n",
       "    if ( options.frame ) scene.add( new THREE.BoxHelper( boxMesh, 'black' ) );\n",
       "\n",
       "    if ( options.axesLabels ) {\n",
       "\n",
       "        var d = options.decimals; // decimals\n",
       "        var offsetRatio = 0.1;\n",
       "        var al = options.axesLabels;\n",
       "\n",
       "        var offset = offsetRatio * a[1]*( b[1].y - b[0].y );\n",
       "        var xm = xMid.toFixed(d);\n",
       "        if ( /^-0.?0*$/.test(xm) ) xm = xm.substr(1);\n",
       "        addLabel( al[0] + '=' + xm, a[0]*xMid, a[1]*b[1].y+offset, a[2]*b[0].z );\n",
       "        addLabel( ( b[0].x ).toFixed(d), a[0]*b[0].x, a[1]*b[1].y+offset, a[2]*b[0].z );\n",
       "        addLabel( ( b[1].x ).toFixed(d), a[0]*b[1].x, a[1]*b[1].y+offset, a[2]*b[0].z );\n",
       "\n",
       "        var offset = offsetRatio * a[0]*( b[1].x - b[0].x );\n",
       "        var ym = yMid.toFixed(d);\n",
       "        if ( /^-0.?0*$/.test(ym) ) ym = ym.substr(1);\n",
       "        addLabel( al[1] + '=' + ym, a[0]*b[1].x+offset, a[1]*yMid, a[2]*b[0].z );\n",
       "        addLabel( ( b[0].y ).toFixed(d), a[0]*b[1].x+offset, a[1]*b[0].y, a[2]*b[0].z );\n",
       "        addLabel( ( b[1].y ).toFixed(d), a[0]*b[1].x+offset, a[1]*b[1].y, a[2]*b[0].z );\n",
       "\n",
       "        var offset = offsetRatio * a[1]*( b[1].y - b[0].y );\n",
       "        var zm = zMid.toFixed(d);\n",
       "        if ( /^-0.?0*$/.test(zm) ) zm = zm.substr(1);\n",
       "        addLabel( al[2] + '=' + zm, a[0]*b[1].x, a[1]*b[0].y-offset, a[2]*zMid );\n",
       "        addLabel( ( b[0].z ).toFixed(d), a[0]*b[1].x, a[1]*b[0].y-offset, a[2]*b[0].z );\n",
       "        addLabel( ( b[1].z ).toFixed(d), a[0]*b[1].x, a[1]*b[0].y-offset, a[2]*b[1].z );\n",
       "\n",
       "    }\n",
       "\n",
       "    function addLabel( text, x, y, z, color='black', fontsize=14  ) {\n",
       "\n",
       "        var canvas = document.createElement( 'canvas' );\n",
       "        var pixelRatio = Math.round( window.devicePixelRatio );\n",
       "        canvas.width = 128 * pixelRatio;\n",
       "        canvas.height = 32 * pixelRatio; // powers of two\n",
       "        canvas.style.width = '128px';\n",
       "        canvas.style.height = '32px';\n",
       "\n",
       "        var context = canvas.getContext( '2d' );\n",
       "        context.scale( pixelRatio, pixelRatio );\n",
       "        context.fillStyle = color;\n",
       "        context.font = fontsize + 'px monospace';\n",
       "        context.textAlign = 'center';\n",
       "        context.textBaseline = 'middle';\n",
       "        context.fillText( text, canvas.width/2/pixelRatio, canvas.height/2/pixelRatio );\n",
       "\n",
       "        var texture = new THREE.Texture( canvas );\n",
       "        texture.needsUpdate = true;\n",
       "\n",
       "        var sprite = new THREE.Sprite( new THREE.SpriteMaterial( { map: texture } ) );\n",
       "        sprite.position.set( x, y, z );\n",
       "\n",
       "        // Set the initial scale based on plot size to accomodate orthographic projection.\n",
       "        // For other projections, the scale will get reset each frame based on camera distance.\n",
       "        var scale = midToCorner/2;\n",
       "        sprite.scale.set( scale, scale*.25, 1 ); // ratio of canvas width to height\n",
       "\n",
       "        scene.add( sprite );\n",
       "\n",
       "    }\n",
       "\n",
       "    if ( options.axes ) scene.add( new THREE.AxesHelper( Math.min( a[0]*b[1].x, a[1]*b[1].y, a[2]*b[1].z ) ) );\n",
       "\n",
       "    var camera = createCamera();\n",
       "    camera.up.set( 0, 0, 1 );\n",
       "    camera.position.set( a[0]*(xMid+xRange), a[1]*(yMid+yRange), a[2]*(zMid+zRange) );\n",
       "\n",
       "    function createCamera() {\n",
       "\n",
       "        var aspect = window.innerWidth / window.innerHeight;\n",
       "\n",
       "        if ( options.projection === 'orthographic' ) {\n",
       "            var camera = new THREE.OrthographicCamera( -1, 1, 1, -1, -1000, 1000 );\n",
       "            updateCameraAspect( camera, aspect );\n",
       "            return camera;\n",
       "        }\n",
       "\n",
       "        return new THREE.PerspectiveCamera( 45, aspect, 0.1, 1000 );\n",
       "\n",
       "    }\n",
       "\n",
       "    function updateCameraAspect( camera, aspect ) {\n",
       "\n",
       "        if ( camera.isPerspectiveCamera ) {\n",
       "            camera.aspect = aspect;\n",
       "        } else if ( camera.isOrthographicCamera ) {\n",
       "            // Fit the camera frustum to the bounding box's diagonal so that the entire plot fits\n",
       "            // within at the default zoom level and camera position.\n",
       "            if ( aspect > 1 ) { // Wide window\n",
       "                camera.top = midToCorner;\n",
       "                camera.right = midToCorner * aspect;\n",
       "            } else { // Tall or square window\n",
       "                camera.top = midToCorner / aspect;\n",
       "                camera.right = midToCorner;\n",
       "            }\n",
       "            camera.bottom = -camera.top;\n",
       "            camera.left = -camera.right;\n",
       "        }\n",
       "\n",
       "        camera.updateProjectionMatrix();\n",
       "\n",
       "    }\n",
       "\n",
       "    var lights = [{&quot;x&quot;:-5, &quot;y&quot;:3, &quot;z&quot;:0, &quot;color&quot;:&quot;#7f7f7f&quot;, &quot;parent&quot;:&quot;camera&quot;}];\n",
       "    for ( var i=0 ; i < lights.length ; i++ ) {\n",
       "        var light = new THREE.DirectionalLight( lights[i].color, 1 );\n",
       "        light.position.set( a[0]*lights[i].x, a[1]*lights[i].y, a[2]*lights[i].z );\n",
       "        if ( lights[i].parent === 'camera' ) {\n",
       "            light.target.position.set( a[0]*xMid, a[1]*yMid, a[2]*zMid );\n",
       "            scene.add( light.target );\n",
       "            camera.add( light );\n",
       "        } else scene.add( light );\n",
       "    }\n",
       "    scene.add( camera );\n",
       "\n",
       "    var ambient = {&quot;color&quot;:&quot;#7f7f7f&quot;};\n",
       "    scene.add( new THREE.AmbientLight( ambient.color, 1 ) );\n",
       "\n",
       "    var controls = new THREE.OrbitControls( camera, renderer.domElement );\n",
       "    controls.target.set( a[0]*xMid, a[1]*yMid, a[2]*zMid );\n",
       "    controls.addEventListener( 'change', function() { if ( !animate ) render(); } );\n",
       "\n",
       "    window.addEventListener( 'resize', function() {\n",
       "        \n",
       "        renderer.setSize( window.innerWidth, window.innerHeight );\n",
       "        updateCameraAspect( camera, window.innerWidth / window.innerHeight );\n",
       "        if ( !animate ) render();\n",
       "        \n",
       "    } );\n",
       "\n",
       "    var texts = [{&quot;text&quot;: &quot;u_0&quot;, &quot;x&quot;: -2.455255888325765, &quot;y&quot;: 0.0, &quot;z&quot;: 0.0, &quot;color&quot;: &quot;#000000&quot;}, {&quot;text&quot;: &quot;u_1&quot;, &quot;x&quot;: 0.0, &quot;y&quot;: -2.455255888325765, &quot;z&quot;: 0.0, &quot;color&quot;: &quot;#000000&quot;}, {&quot;text&quot;: &quot;u_2&quot;, &quot;x&quot;: 0.0, &quot;y&quot;: 0.0, &quot;z&quot;: -2.455255888325765, &quot;color&quot;: &quot;#000000&quot;}, {&quot;text&quot;: &quot;u_3&quot;, &quot;x&quot;: 1.4175426480542945, &quot;y&quot;: 1.4175426480542945, &quot;z&quot;: 1.4175426480542945, &quot;color&quot;: &quot;#000000&quot;}, {&quot;text&quot;: &quot;\\\\sigma_0&quot;, &quot;x&quot;: 0.0, &quot;y&quot;: -0.7440169358562924, &quot;z&quot;: -0.7440169358562924, &quot;color&quot;: &quot;#000000&quot;}, {&quot;text&quot;: &quot;\\\\sigma_1&quot;, &quot;x&quot;: -0.31445855765802133, &quot;y&quot;: 0.42955837819827103, &quot;z&quot;: 0.42955837819827103, &quot;color&quot;: &quot;#000000&quot;}, {&quot;text&quot;: &quot;\\\\sigma_2&quot;, &quot;x&quot;: 0.42955837819827103, &quot;y&quot;: -0.31445855765802133, &quot;z&quot;: 0.42955837819827103, &quot;color&quot;: &quot;#000000&quot;}, {&quot;text&quot;: &quot;\\\\sigma_3&quot;, &quot;x&quot;: 0.42955837819827103, &quot;y&quot;: 0.42955837819827103, &quot;z&quot;: -0.31445855765802133, &quot;color&quot;: &quot;#000000&quot;}];\n",
       "    for ( var i=0 ; i < texts.length ; i++ )\n",
       "        addLabel( texts[i].text, a[0]*texts[i].x, a[1]*texts[i].y, a[2]*texts[i].z, texts[i].color );\n",
       "\n",
       "    var points = [{&quot;point&quot;: [-2.0, -1.0, 0.0], &quot;size&quot;: 10.0, &quot;color&quot;: &quot;#000000&quot;, &quot;opacity&quot;: 1.0}, {&quot;point&quot;: [-2.0, 0.0, -1.0], &quot;size&quot;: 10.0, &quot;color&quot;: &quot;#000000&quot;, &quot;opacity&quot;: 1.0}, {&quot;point&quot;: [-2.0, 0.0, 0.0], &quot;size&quot;: 10.0, &quot;color&quot;: &quot;#000000&quot;, &quot;opacity&quot;: 1.0}, {&quot;point&quot;: [-2.0, 0.0, 1.0], &quot;size&quot;: 10.0, &quot;color&quot;: &quot;#000000&quot;, &quot;opacity&quot;: 1.0}, {&quot;point&quot;: [-2.0, 1.0, 0.0], &quot;size&quot;: 10.0, &quot;color&quot;: &quot;#000000&quot;, &quot;opacity&quot;: 1.0}, {&quot;point&quot;: [-1.0, -2.0, 0.0], &quot;size&quot;: 10.0, &quot;color&quot;: &quot;#000000&quot;, &quot;opacity&quot;: 1.0}, {&quot;point&quot;: [-1.0, -1.0, -1.0], &quot;size&quot;: 10.0, &quot;color&quot;: &quot;#000000&quot;, &quot;opacity&quot;: 1.0}, {&quot;point&quot;: [-1.0, -1.0, 0.0], &quot;size&quot;: 10.0, &quot;color&quot;: &quot;#000000&quot;, &quot;opacity&quot;: 1.0}, {&quot;point&quot;: [-1.0, -1.0, 1.0], &quot;size&quot;: 10.0, &quot;color&quot;: &quot;#000000&quot;, &quot;opacity&quot;: 1.0}, {&quot;point&quot;: [-1.0, 0.0, -2.0], &quot;size&quot;: 10.0, &quot;color&quot;: &quot;#000000&quot;, &quot;opacity&quot;: 1.0}, {&quot;point&quot;: [-1.0, 0.0, -1.0], &quot;size&quot;: 10.0, &quot;color&quot;: &quot;#000000&quot;, &quot;opacity&quot;: 1.0}, {&quot;point&quot;: [-1.0, 0.0, 0.0], &quot;size&quot;: 10.0, &quot;color&quot;: &quot;#000000&quot;, &quot;opacity&quot;: 1.0}, {&quot;point&quot;: [-1.0, 0.0, 1.0], &quot;size&quot;: 10.0, &quot;color&quot;: &quot;#000000&quot;, &quot;opacity&quot;: 1.0}, {&quot;point&quot;: [-1.0, 0.0, 2.0], &quot;size&quot;: 10.0, &quot;color&quot;: &quot;#000000&quot;, &quot;opacity&quot;: 1.0}, {&quot;point&quot;: [-1.0, 1.0, -1.0], &quot;size&quot;: 10.0, &quot;color&quot;: &quot;#000000&quot;, &quot;opacity&quot;: 1.0}, {&quot;point&quot;: [-1.0, 1.0, 0.0], &quot;size&quot;: 10.0, &quot;color&quot;: &quot;#000000&quot;, &quot;opacity&quot;: 1.0}, {&quot;point&quot;: [-1.0, 1.0, 1.0], &quot;size&quot;: 10.0, &quot;color&quot;: &quot;#000000&quot;, &quot;opacity&quot;: 1.0}, {&quot;point&quot;: [-1.0, 2.0, 0.0], &quot;size&quot;: 10.0, &quot;color&quot;: &quot;#000000&quot;, &quot;opacity&quot;: 1.0}, {&quot;point&quot;: [0.0, -2.0, -1.0], &quot;size&quot;: 10.0, &quot;color&quot;: &quot;#000000&quot;, &quot;opacity&quot;: 1.0}, {&quot;point&quot;: [0.0, -2.0, 0.0], &quot;size&quot;: 10.0, &quot;color&quot;: &quot;#000000&quot;, &quot;opacity&quot;: 1.0}, {&quot;point&quot;: [0.0, -2.0, 1.0], &quot;size&quot;: 10.0, &quot;color&quot;: &quot;#000000&quot;, &quot;opacity&quot;: 1.0}, {&quot;point&quot;: [0.0, -1.0, -2.0], &quot;size&quot;: 10.0, &quot;color&quot;: &quot;#000000&quot;, &quot;opacity&quot;: 1.0}, {&quot;point&quot;: [0.0, -1.0, -1.0], &quot;size&quot;: 10.0, &quot;color&quot;: &quot;#000000&quot;, &quot;opacity&quot;: 1.0}, {&quot;point&quot;: [0.0, -1.0, 0.0], &quot;size&quot;: 10.0, &quot;color&quot;: &quot;#000000&quot;, &quot;opacity&quot;: 1.0}, {&quot;point&quot;: [0.0, -1.0, 1.0], &quot;size&quot;: 10.0, &quot;color&quot;: &quot;#000000&quot;, &quot;opacity&quot;: 1.0}, {&quot;point&quot;: [0.0, -1.0, 2.0], &quot;size&quot;: 10.0, &quot;color&quot;: &quot;#000000&quot;, &quot;opacity&quot;: 1.0}, {&quot;point&quot;: [0.0, 0.0, -2.0], &quot;size&quot;: 10.0, &quot;color&quot;: &quot;#000000&quot;, &quot;opacity&quot;: 1.0}, {&quot;point&quot;: [0.0, 0.0, -1.0], &quot;size&quot;: 10.0, &quot;color&quot;: &quot;#000000&quot;, &quot;opacity&quot;: 1.0}, {&quot;point&quot;: [0.0, 0.0, 0.0], &quot;size&quot;: 10.0, &quot;color&quot;: &quot;#000000&quot;, &quot;opacity&quot;: 1.0}, {&quot;point&quot;: [0.0, 0.0, 1.0], &quot;size&quot;: 10.0, &quot;color&quot;: &quot;#000000&quot;, &quot;opacity&quot;: 1.0}, {&quot;point&quot;: [0.0, 0.0, 2.0], &quot;size&quot;: 10.0, &quot;color&quot;: &quot;#000000&quot;, &quot;opacity&quot;: 1.0}, {&quot;point&quot;: [0.0, 1.0, -2.0], &quot;size&quot;: 10.0, &quot;color&quot;: &quot;#000000&quot;, &quot;opacity&quot;: 1.0}, {&quot;point&quot;: [0.0, 1.0, -1.0], &quot;size&quot;: 10.0, &quot;color&quot;: &quot;#000000&quot;, &quot;opacity&quot;: 1.0}, {&quot;point&quot;: [0.0, 1.0, 0.0], &quot;size&quot;: 10.0, &quot;color&quot;: &quot;#000000&quot;, &quot;opacity&quot;: 1.0}, {&quot;point&quot;: [0.0, 1.0, 1.0], &quot;size&quot;: 10.0, &quot;color&quot;: &quot;#000000&quot;, &quot;opacity&quot;: 1.0}, {&quot;point&quot;: [0.0, 1.0, 2.0], &quot;size&quot;: 10.0, &quot;color&quot;: &quot;#000000&quot;, &quot;opacity&quot;: 1.0}, {&quot;point&quot;: [0.0, 2.0, -1.0], &quot;size&quot;: 10.0, &quot;color&quot;: &quot;#000000&quot;, &quot;opacity&quot;: 1.0}, {&quot;point&quot;: [0.0, 2.0, 0.0], &quot;size&quot;: 10.0, &quot;color&quot;: &quot;#000000&quot;, &quot;opacity&quot;: 1.0}, {&quot;point&quot;: [0.0, 2.0, 1.0], &quot;size&quot;: 10.0, &quot;color&quot;: &quot;#000000&quot;, &quot;opacity&quot;: 1.0}, {&quot;point&quot;: [1.0, -2.0, 0.0], &quot;size&quot;: 10.0, &quot;color&quot;: &quot;#000000&quot;, &quot;opacity&quot;: 1.0}, {&quot;point&quot;: [1.0, -1.0, -1.0], &quot;size&quot;: 10.0, &quot;color&quot;: &quot;#000000&quot;, &quot;opacity&quot;: 1.0}, {&quot;point&quot;: [1.0, -1.0, 0.0], &quot;size&quot;: 10.0, &quot;color&quot;: &quot;#000000&quot;, &quot;opacity&quot;: 1.0}, {&quot;point&quot;: [1.0, -1.0, 1.0], &quot;size&quot;: 10.0, &quot;color&quot;: &quot;#000000&quot;, &quot;opacity&quot;: 1.0}, {&quot;point&quot;: [1.0, 0.0, -2.0], &quot;size&quot;: 10.0, &quot;color&quot;: &quot;#000000&quot;, &quot;opacity&quot;: 1.0}, {&quot;point&quot;: [1.0, 0.0, -1.0], &quot;size&quot;: 10.0, &quot;color&quot;: &quot;#000000&quot;, &quot;opacity&quot;: 1.0}, {&quot;point&quot;: [1.0, 0.0, 0.0], &quot;size&quot;: 10.0, &quot;color&quot;: &quot;#000000&quot;, &quot;opacity&quot;: 1.0}, {&quot;point&quot;: [1.0, 0.0, 1.0], &quot;size&quot;: 10.0, &quot;color&quot;: &quot;#000000&quot;, &quot;opacity&quot;: 1.0}, {&quot;point&quot;: [1.0, 0.0, 2.0], &quot;size&quot;: 10.0, &quot;color&quot;: &quot;#000000&quot;, &quot;opacity&quot;: 1.0}, {&quot;point&quot;: [1.0, 1.0, -1.0], &quot;size&quot;: 10.0, &quot;color&quot;: &quot;#000000&quot;, &quot;opacity&quot;: 1.0}, {&quot;point&quot;: [1.0, 1.0, 0.0], &quot;size&quot;: 10.0, &quot;color&quot;: &quot;#000000&quot;, &quot;opacity&quot;: 1.0}, {&quot;point&quot;: [1.0, 1.0, 1.0], &quot;size&quot;: 10.0, &quot;color&quot;: &quot;#000000&quot;, &quot;opacity&quot;: 1.0}, {&quot;point&quot;: [1.0, 2.0, 0.0], &quot;size&quot;: 10.0, &quot;color&quot;: &quot;#000000&quot;, &quot;opacity&quot;: 1.0}, {&quot;point&quot;: [2.0, -1.0, 0.0], &quot;size&quot;: 10.0, &quot;color&quot;: &quot;#000000&quot;, &quot;opacity&quot;: 1.0}, {&quot;point&quot;: [2.0, 0.0, -1.0], &quot;size&quot;: 10.0, &quot;color&quot;: &quot;#000000&quot;, &quot;opacity&quot;: 1.0}, {&quot;point&quot;: [2.0, 0.0, 0.0], &quot;size&quot;: 10.0, &quot;color&quot;: &quot;#000000&quot;, &quot;opacity&quot;: 1.0}, {&quot;point&quot;: [2.0, 0.0, 1.0], &quot;size&quot;: 10.0, &quot;color&quot;: &quot;#000000&quot;, &quot;opacity&quot;: 1.0}, {&quot;point&quot;: [2.0, 1.0, 0.0], &quot;size&quot;: 10.0, &quot;color&quot;: &quot;#000000&quot;, &quot;opacity&quot;: 1.0}];\n",
       "    for ( var i=0 ; i < points.length ; i++ ) addPoint( points[i] );\n",
       "\n",
       "    function addPoint( json ) {\n",
       "\n",
       "        var geometry = new THREE.Geometry();\n",
       "        var v = json.point;\n",
       "        geometry.vertices.push( new THREE.Vector3( a[0]*v[0], a[1]*v[1], a[2]*v[2] ) );\n",
       "\n",
       "        var canvas = document.createElement( 'canvas' );\n",
       "        canvas.width = 128;\n",
       "        canvas.height = 128;\n",
       "\n",
       "        var context = canvas.getContext( '2d' );\n",
       "        context.arc( 64, 64, 64, 0, 2 * Math.PI );\n",
       "        context.fillStyle = json.color;\n",
       "        context.fill();\n",
       "\n",
       "        var texture = new THREE.Texture( canvas );\n",
       "        texture.needsUpdate = true;\n",
       "\n",
       "        var transparent = json.opacity < 1 ? true : false;\n",
       "        var size = camera.isOrthographicCamera ? json.size : json.size/100;\n",
       "        var material = new THREE.PointsMaterial( { size: size, map: texture,\n",
       "                                                   transparent: transparent, opacity: json.opacity,\n",
       "                                                   alphaTest: .1 } );\n",
       "\n",
       "        var c = new THREE.Vector3();\n",
       "        geometry.computeBoundingBox();\n",
       "        geometry.boundingBox.getCenter( c );\n",
       "        geometry.translate( -c.x, -c.y, -c.z );\n",
       "\n",
       "        var mesh = new THREE.Points( geometry, material );\n",
       "        mesh.position.set( c.x, c.y, c.z );\n",
       "        scene.add( mesh );\n",
       "\n",
       "    }\n",
       "\n",
       "    var lines = [{&quot;points&quot;: [[0.0, 0.0, 0.0], [-2.232050807568877, 0.0, 0.0]], &quot;color&quot;: &quot;#800080&quot;, &quot;opacity&quot;: 1.0, &quot;linewidth&quot;: 3.0}, {&quot;points&quot;: [[0.0, 0.0, 0.0], [0.0, -2.232050807568877, 0.0]], &quot;color&quot;: &quot;#800080&quot;, &quot;opacity&quot;: 1.0, &quot;linewidth&quot;: 3.0}, {&quot;points&quot;: [[0.0, 0.0, 0.0], [0.0, 0.0, -2.232050807568877]], &quot;color&quot;: &quot;#800080&quot;, &quot;opacity&quot;: 1.0, &quot;linewidth&quot;: 3.0}, {&quot;points&quot;: [[0.0, 0.0, 0.0], [1.288675134594813, 1.288675134594813, 1.288675134594813]], &quot;color&quot;: &quot;#800080&quot;, &quot;opacity&quot;: 1.0, &quot;linewidth&quot;: 3.0}];\n",
       "    for ( var i=0 ; i < lines.length ; i++ ) addLine( lines[i] );\n",
       "\n",
       "    function addLine( json ) {\n",
       "\n",
       "        var geometry = new THREE.Geometry();\n",
       "        for ( var i=0 ; i < json.points.length ; i++ ) {\n",
       "            var v = json.points[i];\n",
       "            geometry.vertices.push( new THREE.Vector3( a[0]*v[0], a[1]*v[1], a[2]*v[2] ) );\n",
       "        }\n",
       "\n",
       "        var transparent = json.opacity < 1 ? true : false;\n",
       "        var material = new THREE.LineBasicMaterial( { color: json.color, linewidth: json.linewidth,\n",
       "                                                      transparent: transparent, opacity: json.opacity } );\n",
       "\n",
       "        var c = new THREE.Vector3();\n",
       "        geometry.computeBoundingBox();\n",
       "        geometry.boundingBox.getCenter( c );\n",
       "        geometry.translate( -c.x, -c.y, -c.z );\n",
       "\n",
       "        var mesh = new THREE.Line( geometry, material );\n",
       "        mesh.position.set( c.x, c.y, c.z );\n",
       "        scene.add( mesh );\n",
       "\n",
       "    }\n",
       "\n",
       "    var surfaces = [{&quot;vertices&quot;: [{&quot;x&quot;: -0.73, &quot;y&quot;: 0.0, &quot;z&quot;: 4.469960816887839e-17}, {&quot;x&quot;: -0.73, &quot;y&quot;: 0.009270509831248424, &quot;z&quot;: 0.02853169548885465}, {&quot;x&quot;: -0.73, &quot;y&quot;: 0.03, &quot;z&quot;: 4.469960816887839e-17}, {&quot;x&quot;: -0.73, &quot;y&quot;: -0.02427050983124842, &quot;z&quot;: 0.01763355756877424}, {&quot;x&quot;: -0.73, &quot;y&quot;: -0.024270509831248427, &quot;z&quot;: -0.017633557568774143}, {&quot;x&quot;: -0.73, &quot;y&quot;: 0.009270509831248417, &quot;z&quot;: -0.028531695488854564}, {&quot;x&quot;: 1.7470624777336386e-18, &quot;y&quot;: 0.009270509831248424, &quot;z&quot;: 0.028531695488854605}, {&quot;x&quot;: 0.0, &quot;y&quot;: 0.03, &quot;z&quot;: 0.0}, {&quot;x&quot;: 1.079743991708995e-18, &quot;y&quot;: -0.02427050983124842, &quot;z&quot;: 0.017633557568774196}, {&quot;x&quot;: -1.0797439917089947e-18, &quot;y&quot;: -0.024270509831248427, &quot;z&quot;: -0.01763355756877419}, {&quot;x&quot;: -1.7470624777336386e-18, &quot;y&quot;: 0.009270509831248417, &quot;z&quot;: -0.02853169548885461}, {&quot;x&quot;: 0.0, &quot;y&quot;: 0.0, &quot;z&quot;: 0.0}], &quot;faces&quot;: [[0, 1, 2], [0, 3, 1], [0, 4, 3], [0, 5, 4], [0, 2, 5], [2, 1, 6, 7], [1, 3, 8, 6], [3, 4, 9, 8], [4, 5, 10, 9], [5, 2, 7, 10], [7, 6, 11], [6, 8, 11], [8, 9, 11], [9, 10, 11], [10, 7, 11]], &quot;color&quot;: &quot;#0000ff&quot;, &quot;opacity&quot;: 1.0}, {&quot;vertices&quot;: [{&quot;x&quot;: -1.0, &quot;y&quot;: 0.0, &quot;z&quot;: 6.123233995736766e-17}, {&quot;x&quot;: -0.73, &quot;y&quot;: 0.05611408216728602, &quot;z&quot;: 0.07036483342212273}, {&quot;x&quot;: -0.73, &quot;y&quot;: 0.09, &quot;z&quot;: 4.469960816887839e-17}, {&quot;x&quot;: -0.73, &quot;y&quot;: -0.02002688405606829, &quot;z&quot;: 0.08774351209636416}, {&quot;x&quot;: -0.73, &quot;y&quot;: -0.08108719811121771, &quot;z&quot;: 0.03904953652058028}, {&quot;x&quot;: -0.73, &quot;y&quot;: -0.08108719811121771, &quot;z&quot;: -0.03904953652058018}, {&quot;x&quot;: -0.73, &quot;y&quot;: -0.02002688405606831, &quot;z&quot;: -0.08774351209636408}, {&quot;x&quot;: -0.73, &quot;y&quot;: 0.056114082167286, &quot;z&quot;: -0.07036483342212264}, {&quot;x&quot;: -0.73, &quot;y&quot;: 0.0, &quot;z&quot;: 4.469960816887839e-17}], &quot;faces&quot;: [[0, 1, 2], [0, 3, 1], [0, 4, 3], [0, 5, 4], [0, 6, 5], [0, 7, 6], [0, 2, 7], [2, 1, 8], [1, 3, 8], [3, 4, 8], [4, 5, 8], [5, 6, 8], [6, 7, 8], [7, 2, 8]], &quot;color&quot;: &quot;#0000ff&quot;, &quot;opacity&quot;: 1.0}, {&quot;vertices&quot;: [{&quot;x&quot;: 0.0, &quot;y&quot;: -0.73, &quot;z&quot;: 4.469960816887839e-17}, {&quot;x&quot;: 0.028531695488854605, &quot;y&quot;: -0.73, &quot;z&quot;: 0.009270509831248469}, {&quot;x&quot;: 0.0, &quot;y&quot;: -0.73, &quot;z&quot;: 0.030000000000000044}, {&quot;x&quot;: 0.017633557568774196, &quot;y&quot;: -0.73, &quot;z&quot;: -0.024270509831248375}, {&quot;x&quot;: -0.01763355756877419, &quot;y&quot;: -0.73, &quot;z&quot;: -0.024270509831248382}, {&quot;x&quot;: -0.02853169548885461, &quot;y&quot;: -0.73, &quot;z&quot;: 0.009270509831248462}, {&quot;x&quot;: 0.028531695488854605, &quot;y&quot;: 5.676550095651226e-19, &quot;z&quot;: 0.009270509831248424}, {&quot;x&quot;: 0.0, &quot;y&quot;: 1.8369701987210296e-18, &quot;z&quot;: 0.03}, {&quot;x&quot;: 0.017633557568774196, &quot;y&quot;: -1.4861401089256373e-18, &quot;z&quot;: -0.02427050983124842}, {&quot;x&quot;: -0.01763355756877419, &quot;y&quot;: -1.4861401089256377e-18, &quot;z&quot;: -0.024270509831248427}, {&quot;x&quot;: -0.02853169548885461, &quot;y&quot;: 5.676550095651222e-19, &quot;z&quot;: 0.009270509831248417}, {&quot;x&quot;: 0.0, &quot;y&quot;: 0.0, &quot;z&quot;: 0.0}], &quot;faces&quot;: [[0, 1, 2], [0, 3, 1], [0, 4, 3], [0, 5, 4], [0, 2, 5], [2, 1, 6, 7], [1, 3, 8, 6], [3, 4, 9, 8], [4, 5, 10, 9], [5, 2, 7, 10], [7, 6, 11], [6, 8, 11], [8, 9, 11], [9, 10, 11], [10, 7, 11]], &quot;color&quot;: &quot;#0000ff&quot;, &quot;opacity&quot;: 1.0}, {&quot;vertices&quot;: [{&quot;x&quot;: 0.0, &quot;y&quot;: -1.0, &quot;z&quot;: 6.123233995736766e-17}, {&quot;x&quot;: 0.07036483342212269, &quot;y&quot;: -0.73, &quot;z&quot;: 0.05611408216728606}, {&quot;x&quot;: 0.0, &quot;y&quot;: -0.73, &quot;z&quot;: 0.09000000000000004}, {&quot;x&quot;: 0.08774351209636412, &quot;y&quot;: -0.73, &quot;z&quot;: -0.020026884056068246}, {&quot;x&quot;: 0.03904953652058024, &quot;y&quot;: -0.73, &quot;z&quot;: -0.08108719811121767}, {&quot;x&quot;: -0.03904953652058022, &quot;y&quot;: -0.73, &quot;z&quot;: -0.08108719811121767}, {&quot;x&quot;: -0.08774351209636412, &quot;y&quot;: -0.73, &quot;z&quot;: -0.020026884056068266}, {&quot;x&quot;: -0.07036483342212269, &quot;y&quot;: -0.73, &quot;z&quot;: 0.05611408216728604}, {&quot;x&quot;: 0.0, &quot;y&quot;: -0.73, &quot;z&quot;: 4.469960816887839e-17}], &quot;faces&quot;: [[0, 1, 2], [0, 3, 1], [0, 4, 3], [0, 5, 4], [0, 6, 5], [0, 7, 6], [0, 2, 7], [2, 1, 8], [1, 3, 8], [3, 4, 8], [4, 5, 8], [5, 6, 8], [6, 7, 8], [7, 2, 8]], &quot;color&quot;: &quot;#0000ff&quot;, &quot;opacity&quot;: 1.0}, {&quot;vertices&quot;: [{&quot;x&quot;: 0.0, &quot;y&quot;: 0.0, &quot;z&quot;: -0.73}, {&quot;x&quot;: -0.028531695488854605, &quot;y&quot;: -0.009270509831248424, &quot;z&quot;: -0.73}, {&quot;x&quot;: 0.0, &quot;y&quot;: -0.03, &quot;z&quot;: -0.73}, {&quot;x&quot;: -0.017633557568774196, &quot;y&quot;: 0.02427050983124842, &quot;z&quot;: -0.73}, {&quot;x&quot;: 0.01763355756877419, &quot;y&quot;: 0.024270509831248427, &quot;z&quot;: -0.73}, {&quot;x&quot;: 0.02853169548885461, &quot;y&quot;: -0.009270509831248417, &quot;z&quot;: -0.73}, {&quot;x&quot;: -0.028531695488854605, &quot;y&quot;: -0.009270509831248424, &quot;z&quot;: 0.0}, {&quot;x&quot;: 0.0, &quot;y&quot;: -0.03, &quot;z&quot;: 0.0}, {&quot;x&quot;: -0.017633557568774196, &quot;y&quot;: 0.02427050983124842, &quot;z&quot;: 0.0}, {&quot;x&quot;: 0.01763355756877419, &quot;y&quot;: 0.024270509831248427, &quot;z&quot;: 0.0}, {&quot;x&quot;: 0.02853169548885461, &quot;y&quot;: -0.009270509831248417, &quot;z&quot;: 0.0}, {&quot;x&quot;: 0.0, &quot;y&quot;: 0.0, &quot;z&quot;: 0.0}], &quot;faces&quot;: [[0, 1, 2], [0, 3, 1], [0, 4, 3], [0, 5, 4], [0, 2, 5], [2, 1, 6, 7], [1, 3, 8, 6], [3, 4, 9, 8], [4, 5, 10, 9], [5, 2, 7, 10], [7, 6, 11], [6, 8, 11], [8, 9, 11], [9, 10, 11], [10, 7, 11]], &quot;color&quot;: &quot;#0000ff&quot;, &quot;opacity&quot;: 1.0}, {&quot;vertices&quot;: [{&quot;x&quot;: 0.0, &quot;y&quot;: 0.0, &quot;z&quot;: -1.0}, {&quot;x&quot;: -0.07036483342212269, &quot;y&quot;: -0.05611408216728602, &quot;z&quot;: -0.73}, {&quot;x&quot;: 0.0, &quot;y&quot;: -0.09, &quot;z&quot;: -0.73}, {&quot;x&quot;: -0.08774351209636412, &quot;y&quot;: 0.02002688405606829, &quot;z&quot;: -0.73}, {&quot;x&quot;: -0.03904953652058024, &quot;y&quot;: 0.08108719811121771, &quot;z&quot;: -0.73}, {&quot;x&quot;: 0.03904953652058022, &quot;y&quot;: 0.08108719811121771, &quot;z&quot;: -0.73}, {&quot;x&quot;: 0.08774351209636412, &quot;y&quot;: 0.02002688405606831, &quot;z&quot;: -0.73}, {&quot;x&quot;: 0.07036483342212269, &quot;y&quot;: -0.056114082167286, &quot;z&quot;: -0.73}, {&quot;x&quot;: 0.0, &quot;y&quot;: 0.0, &quot;z&quot;: -0.73}], &quot;faces&quot;: [[0, 1, 2], [0, 3, 1], [0, 4, 3], [0, 5, 4], [0, 6, 5], [0, 7, 6], [0, 2, 7], [2, 1, 8], [1, 3, 8], [3, 4, 8], [4, 5, 8], [5, 6, 8], [6, 7, 8], [7, 2, 8]], &quot;color&quot;: &quot;#0000ff&quot;, &quot;opacity&quot;: 1.0}, {&quot;vertices&quot;: [{&quot;x&quot;: 0.844115427318801, &quot;y&quot;: 0.844115427318801, &quot;z&quot;: 0.8441154273188011}, {&quot;x&quot;: 0.8646585768563655, &quot;y&quot;: 0.8453973911987593, &quot;z&quot;: 0.822290313901278}, {&quot;x&quot;: 0.8377756813566454, &quot;y&quot;: 0.8677756813566453, &quot;z&quot;: 0.8267949192431123}, {&quot;x&quot;: 0.8631515379311432, &quot;y&quot;: 0.8212474705311206, &quot;z&quot;: 0.8479472734941392}, {&quot;x&quot;: 0.8353372411532665, &quot;y&quot;: 0.8287002888907922, &quot;z&quot;: 0.8683087519123444}, {&quot;x&quot;: 0.8196540992965843, &quot;y&quot;: 0.8574563046166873, &quot;z&quot;: 0.8552358780431314}, {&quot;x&quot;: 0.020543149537564587, &quot;y&quot;: 0.0012819638799584044, &quot;z&quot;: -0.02182511341752299}, {&quot;x&quot;: -0.006339745962155611, &quot;y&quot;: 0.023660254037844386, &quot;z&quot;: -0.01732050807568877}, {&quot;x&quot;: 0.019036110612342214, &quot;y&quot;: -0.0228679567876804, &quot;z&quot;: 0.00383184617533819}, {&quot;x&quot;: -0.00877818616553452, &quot;y&quot;: -0.015415138428008759, &quot;z&quot;: 0.02419332459354328}, {&quot;x&quot;: -0.02446132802221666, &quot;y&quot;: 0.013340877297886364, &quot;z&quot;: 0.011120450724330292}, {&quot;x&quot;: 0.0, &quot;y&quot;: 0.0, &quot;z&quot;: 0.0}], &quot;faces&quot;: [[0, 1, 2], [0, 3, 1], [0, 4, 3], [0, 5, 4], [0, 2, 5], [2, 1, 6, 7], [1, 3, 8, 6], [3, 4, 9, 8], [4, 5, 10, 9], [5, 2, 7, 10], [7, 6, 11], [6, 8, 11], [8, 9, 11], [9, 10, 11], [10, 7, 11]], &quot;color&quot;: &quot;#0000ff&quot;, &quot;opacity&quot;: 1.0}, {&quot;vertices&quot;: [{&quot;x&quot;: 0.9999999999999999, &quot;y&quot;: 0.9999999999999999, &quot;z&quot;: 1.0}, {&quot;x&quot;: 0.8877521209273979, &quot;y&quot;: 0.8735013696725612, &quot;z&quot;: 0.771092791356444}, {&quot;x&quot;: 0.8250961894323341, &quot;y&quot;: 0.9150961894323342, &quot;z&quot;: 0.7921539030917347}, {&quot;x&quot;: 0.9175487321088565, &quot;y&quot;: 0.809778335956424, &quot;z&quot;: 0.8050192138911225}, {&quot;x&quot;: 0.8920485670169714, &quot;y&quot;: 0.7719118323851735, &quot;z&quot;: 0.868385882554258}, {&quot;x&quot;: 0.8304537700745042, &quot;y&quot;: 0.7884161084838667, &quot;z&quot;: 0.9134764033980323}, {&quot;x&quot;: 0.7791464796840133, &quot;y&quot;: 0.8468631077243092, &quot;z&quot;: 0.9063366945480805}, {&quot;x&quot;: 0.7767621319875294, &quot;y&quot;: 0.9032410475769381, &quot;z&quot;: 0.8523431023919354}, {&quot;x&quot;: 0.844115427318801, &quot;y&quot;: 0.844115427318801, &quot;z&quot;: 0.8441154273188011}], &quot;faces&quot;: [[0, 1, 2], [0, 3, 1], [0, 4, 3], [0, 5, 4], [0, 6, 5], [0, 7, 6], [0, 2, 7], [2, 1, 8], [1, 3, 8], [3, 4, 8], [4, 5, 8], [5, 6, 8], [6, 7, 8], [7, 2, 8]], &quot;color&quot;: &quot;#0000ff&quot;, &quot;opacity&quot;: 1.0}, {&quot;vertices&quot;: [{&quot;x&quot;: 0.0, &quot;y&quot;: -2.232050807568877, &quot;z&quot;: 0.0}, {&quot;x&quot;: 0.0, &quot;y&quot;: -2.2315457615600205, &quot;z&quot;: -0.04747969705446852}, {&quot;x&quot;: 0.0, &quot;y&quot;: -2.229944105063071, &quot;z&quot;: -0.09695409152448135}, {&quot;x&quot;: 0.0, &quot;y&quot;: -2.2271071673740837, &quot;z&quot;: -0.14847381115827224}, {&quot;x&quot;: 0.0, &quot;y&quot;: -2.2228842357485967, &quot;z&quot;: -0.20208038506805423}, {&quot;x&quot;: 0.0, &quot;y&quot;: -2.2171125403655387, &quot;z&quot;: -0.25780378376343477}, {&quot;x&quot;: 0.0, &quot;y&quot;: -2.209617566778808, &quot;z&quot;: -0.3156596523969725}, {&quot;x&quot;: 0.0, &quot;y&quot;: -2.200213784610563, &quot;z&quot;: -0.3756462559091205}, {&quot;x&quot;: 0.0, &quot;y&quot;: -2.1887058890623536, &quot;z&quot;: -0.4377411778124706}, {&quot;x&quot;: 0.0, &quot;y&quot;: -2.17489065523818, &quot;z&quot;: -0.501897843516503}, {&quot;x&quot;: 0.0, &quot;y&quot;: -2.1585595018763883, &quot;z&quot;: -0.5680419741779968}, {&quot;x&quot;: 0.0, &quot;y&quot;: -2.1395018481167907, &quot;z&quot;: -0.6360681170076946}, {&quot;x&quot;: 0.0, &quot;y&quot;: -2.1175093215407554, &quot;z&quot;: -0.7058364405135851}, {&quot;x&quot;: 0.0, &quot;y&quot;: -2.092380835424871, &quot;z&quot;: -0.7771700245863806}, {&quot;x&quot;: 0.0, &quot;y&quot;: -2.0639284964417435, &quot;z&quot;: -0.8498529102995415}, {&quot;x&quot;: 0.0, &quot;y&quot;: -2.031984231204041, &quot;z&quot;: -0.9236291960018368}, {&quot;x&quot;: 0.0, &quot;y&quot;: -1.9964069339829245, &quot;z&quot;: -0.9982034669914621}, {&quot;x&quot;: 0.0, &quot;y&quot;: -1.95708984486123, &quot;z&quot;: -1.0732428181497067}, {&quot;x&quot;: 0.0, &quot;y&quot;: -1.9139677773212835, &quot;z&quot;: -1.14838066639277}, {&quot;x&quot;: 0.0, &quot;y&quot;: -1.8670237397784637, &quot;z&quot;: -1.2232224501996831}, {&quot;x&quot;: 0.0, &quot;y&quot;: -1.8162944515528185, &quot;z&quot;: -1.2973531796805844}, {&quot;x&quot;: 0.0, &quot;y&quot;: -1.761874254251113, &quot;z&quot;: -1.3703466421953099}, {&quot;x&quot;: 0.0, &quot;y&quot;: -1.7039169747451375, &quot;z&quot;: -1.441775901707424}, {&quot;x&quot;: 0.0, &quot;y&quot;: -1.642635409117973, &quot;z&quot;: -1.5112245763885348}, {&quot;x&quot;: 0.0, &quot;y&quot;: -1.578298261984863, &quot;z&quot;: -1.578298261984863}, {&quot;x&quot;: 0.0, &quot;y&quot;: -1.511224576388535, &quot;z&quot;: -1.6426354091179727}, {&quot;x&quot;: 0.0, &quot;y&quot;: -1.441775901707424, &quot;z&quot;: -1.7039169747451375}, {&quot;x&quot;: 0.0, &quot;y&quot;: -1.3703466421953103, &quot;z&quot;: -1.7618742542511128}, {&quot;x&quot;: 0.0, &quot;y&quot;: -1.2973531796805846, &quot;z&quot;: -1.8162944515528183}, {&quot;x&quot;: 0.0, &quot;y&quot;: -1.2232224501996833, &quot;z&quot;: -1.8670237397784635}, {&quot;x&quot;: 0.0, &quot;y&quot;: -1.1483806663927703, &quot;z&quot;: -1.9139677773212835}, {&quot;x&quot;: 0.0, &quot;y&quot;: -1.073242818149707, &quot;z&quot;: -1.9570898448612297}, {&quot;x&quot;: 0.0, &quot;y&quot;: -0.9982034669914625, &quot;z&quot;: -1.9964069339829245}, {&quot;x&quot;: 0.0, &quot;y&quot;: -0.9236291960018368, &quot;z&quot;: -2.031984231204041}, {&quot;x&quot;: 0.0, &quot;y&quot;: -0.8498529102995416, &quot;z&quot;: -2.0639284964417435}, {&quot;x&quot;: 0.0, &quot;y&quot;: -0.7771700245863806, &quot;z&quot;: -2.092380835424871}, {&quot;x&quot;: 0.0, &quot;y&quot;: -0.7058364405135852, &quot;z&quot;: -2.117509321540755}, {&quot;x&quot;: 0.0, &quot;y&quot;: -0.6360681170076946, &quot;z&quot;: -2.1395018481167907}, {&quot;x&quot;: 0.0, &quot;y&quot;: -0.5680419741779972, &quot;z&quot;: -2.1585595018763883}, {&quot;x&quot;: 0.0, &quot;y&quot;: -0.5018978435165031, &quot;z&quot;: -2.17489065523818}, {&quot;x&quot;: 0.0, &quot;y&quot;: -0.4377411778124709, &quot;z&quot;: -2.1887058890623536}, {&quot;x&quot;: 0.0, &quot;y&quot;: -0.37564625590912054, &quot;z&quot;: -2.200213784610563}, {&quot;x&quot;: 0.0, &quot;y&quot;: -0.31565965239697275, &quot;z&quot;: -2.2096175667788076}, {&quot;x&quot;: 0.0, &quot;y&quot;: -0.25780378376343477, &quot;z&quot;: -2.2171125403655383}, {&quot;x&quot;: 0.0, &quot;y&quot;: -0.2020803850680542, &quot;z&quot;: -2.2228842357485967}, {&quot;x&quot;: 0.0, &quot;y&quot;: -0.1484738111582726, &quot;z&quot;: -2.2271071673740837}, {&quot;x&quot;: 0.0, &quot;y&quot;: -0.09695409152448156, &quot;z&quot;: -2.229944105063071}, {&quot;x&quot;: 0.0, &quot;y&quot;: -0.047479697054468625, &quot;z&quot;: -2.2315457615600205}, {&quot;x&quot;: 0.0, &quot;y&quot;: 0.0, &quot;z&quot;: -2.232050807568877}, {&quot;x&quot;: 0.0, &quot;y&quot;: 0.0, &quot;z&quot;: 0.0}], &quot;faces&quot;: [[0, 1, 2, 3, 4, 5, 6, 7, 8, 9, 10, 11, 12, 13, 14, 15, 16, 17, 18, 19, 20, 21, 22, 23, 24, 25, 26, 27, 28, 29, 30, 31, 32, 33, 34, 35, 36, 37, 38, 39, 40, 41, 42, 43, 44, 45, 46, 47, 48, 49]], &quot;color&quot;: &quot;#ff0000&quot;, &quot;opacity&quot;: 0.4}, {&quot;vertices&quot;: [{&quot;x&quot;: -2.232050807568877, &quot;y&quot;: 0.0, &quot;z&quot;: 0.0}, {&quot;x&quot;: -2.23187155997404, &quot;y&quot;: 0.02000184176422377, &quot;z&quot;: 0.02000184176422377}, {&quot;x&quot;: -2.2312976647167155, &quot;y&quot;: 0.04099718891953407, &quot;z&quot;: 0.04099718891953407}, {&quot;x&quot;: -2.2302690919232884, &quot;y&quot;: 0.06304992141370477, &quot;z&quot;: 0.06304992141370477}, {&quot;x&quot;: -2.228717179557869, &quot;y&quot;: 0.08622801491537808, &quot;z&quot;: 0.08622801491537808}, {&quot;x&quot;: -2.226563381624552, &quot;y&quot;: 0.11060360567702221, &quot;z&quot;: 0.11060360567702221}, {&quot;x&quot;: -2.2237178460700773, &quot;y&quot;: 0.13625297912033477, &quot;z&quot;: 0.13625297912033477}, {&quot;x&quot;: -2.2200778068741194, &quot;y&quot;: 0.16325645315557663, &quot;z&quot;: 0.16325645315557663}, {&quot;x&quot;: -2.215525777261634, &quot;y&quot;: 0.19169811926321698, &quot;z&quot;: 0.19169811926321698}, {&quot;x&quot;: -2.209927535730072, &quot;y&quot;: 0.22166539467279237, &quot;z&quot;: 0.22166539467279237}, {&quot;x&quot;: -2.2031299046789057, &quot;y&quot;: 0.2532483274163845, &quot;z&quot;: 0.2532483274163845}, {&quot;x&quot;: -2.1949583342180463, &quot;y&quot;: 0.2865385825814875, &quot;z&quot;: 0.2865385825814875}, {&quot;x&quot;: -2.1852143229647387, &quot;y&quot;: 0.32162802293848425, &quot;z&quot;: 0.32162802293848425}, {&quot;x&quot;: -2.1736727354898333, &quot;y&quot;: 0.3586067808596346, &quot;z&quot;: 0.3586067808596346}, {&quot;x&quot;: -2.1600791151163934, &quot;y&quot;: 0.3975607022876232, &quot;z&quot;: 0.3975607022876232}, {&quot;x&quot;: -2.144147143832699, &quot;y&quot;: 0.43856802959344593, &quot;z&quot;: 0.43856802959344593}, {&quot;x&quot;: -2.1255564708867642, &quot;y&quot;: 0.48169518195653654, &quot;z&quot;: 0.48169518195653654}, {&quot;x&quot;: -2.1039512201291544, &quot;y&quot;: 0.5269914946590317, &quot;z&quot;: 0.5269914946590317}, {&quot;x&quot;: -2.078939593363294, &quot;y&quot;: 0.5744827998797435, &quot;z&quot;: 0.5744827998797435}, {&quot;x&quot;: -2.0500951090738466, &quot;y&quot;: 0.6241637811185341, &quot;z&quot;: 0.6241637811185341}, {&quot;x&quot;: -2.016960142823799, &quot;y&quot;: 0.6759891233699974, &quot;z&quot;: 0.6759891233699974}, {&quot;x&quot;: -1.9790525476951117, &quot;y&quot;: 0.7298636246006386, &quot;z&quot;: 0.7298636246006386}, {&quot;x&quot;: -1.9358761979428782, &quot;y&quot;: 0.7856316419948673, &quot;z&quot;: 0.7856316419948673}, {&quot;x&quot;: -1.8869362692262537, &quot;y&quot;: 0.8430665227155517, &quot;z&quot;: 0.8430665227155517}, {&quot;x&quot;: -1.8317598836927325, &quot;y&quot;: 0.9018610026115063, &quot;z&quot;: 0.9018610026115063}, {&quot;x&quot;: -1.7699223421168588, &quot;y&quot;: 0.9616199120350124, &quot;z&quot;: 0.9616199120350124}, {&quot;x&quot;: -1.7010784861054242, &quot;y&quot;: 1.021856837252204, &quot;z&quot;: 1.021856837252204}, {&quot;x&quot;: -1.6249977728752483, &quot;y&quot;: 1.0819965447540396, &quot;z&quot;: 1.0819965447540396}, {&quot;x&quot;: -1.5416004769712413, &quot;y&quot;: 1.1413848555528754, &quot;z&quot;: 1.1413848555528754}, {&quot;x&quot;: -1.4509912453891598, &quot;y&quot;: 1.1993071360941894, &quot;z&quot;: 1.1993071360941894}, {&quot;x&quot;: -1.3534853305418562, &quot;y&quot;: 1.2550155910539276, &quot;z&quot;: 1.2550155910539276}, {&quot;x&quot;: -1.2496225821385423, &quot;y&quot;: 1.3077641625649248, &quot;z&quot;: 1.3077641625649248}, {&quot;x&quot;: -1.1401650184601373, &quot;y&quot;: 1.3568482852273263, &quot;z&quot;: 1.3568482852273263}, {&quot;x&quot;: -1.0260756387086167, &quot;y&quot;: 1.4016453886803146, &quot;z&quot;: 1.4016453886803146}, {&quot;x&quot;: -0.908478865122402, &quot;y&quot;: 1.441651303054034, &quot;z&quot;: 1.441651303054034}, {&quot;x&quot;: -0.7886060484036859, &quot;y&quot;: 1.4765079254765279, &quot;z&quot;: 1.4765079254765279}, {&quot;x&quot;: -0.6677320587317732, &quot;y&quot;: 1.506018709264713, &quot;z&quot;: 1.506018709264713}, {&quot;x&quot;: -0.5471104096128159, &quot;y&quot;: 1.5301504839822415, &quot;z&quot;: 1.5301504839822415}, {&quot;x&quot;: -0.4279142568426267, &quot;y&quot;: 1.5490223039646167, &quot;z&quot;: 1.5490223039646167}, {&quot;x&quot;: -0.31118909114991117, &quot;y&quot;: 1.5628838979780568, &quot;z&quot;: 1.5628838979780568}, {&quot;x&quot;: -0.19782051825599054, &quot;y&quot;: 1.5720874419264674, &quot;z&quot;: 1.5720874419264674}, {&quot;x&quot;: -0.08851788947713535, &quot;y&quot;: 1.57705665573742, &quot;z&quot;: 1.57705665573742}, {&quot;x&quot;: 0.016187676682000125, &quot;y&quot;: 1.5782567545701358, &quot;z&quot;: 1.5782567545701358}, {&quot;x&quot;: 0.11593379531227563, &quot;y&quot;: 1.5761678468160314, &quot;z&quot;: 1.5761678468160314}, {&quot;x&quot;: 0.21050936402086212, &quot;y&quot;: 1.5712632839897345, &quot;z&quot;: 1.5712632839897345}, {&quot;x&quot;: 0.29983260088239894, &quot;y&quot;: 1.563993481287082, &quot;z&quot;: 1.563993481287082}, {&quot;x&quot;: 0.38392747671021277, &quot;y&quot;: 1.5547749837509939, &quot;z&quot;: 1.5547749837509939}, {&quot;x&quot;: 0.4629007089937208, &quot;y&quot;: 1.5439840901353206, &quot;z&quot;: 1.5439840901353206}, {&quot;x&quot;: 0.5369207355465101, &quot;y&quot;: 1.5319541330126483, &quot;z&quot;: 1.5319541330126483}, {&quot;x&quot;: 0.606199440699339, &quot;y&quot;: 1.5189754846054437, &quot;z&quot;: 1.5189754846054437}, {&quot;x&quot;: 0.6709769147043203, &quot;y&quot;: 1.5052974436141762, &quot;z&quot;: 1.5052974436141762}, {&quot;x&quot;: 0.7315091907864968, &quot;y&quot;: 1.4911313006177158, &quot;z&quot;: 1.4911313006177158}, {&quot;x&quot;: 0.7880587016133872, &quot;y&quot;: 1.4766540370683139, &quot;z&quot;: 1.4766540370683139}, {&quot;x&quot;: 0.8408870960401359, &quot;y&quot;: 1.4620122604277408, &quot;z&quot;: 1.4620122604277408}, {&quot;x&quot;: 0.8902500263557959, &quot;y&quot;: 1.4473261032231783, &quot;z&quot;: 1.4473261032231783}, {&quot;x&quot;: 0.9363935295475306, &quot;y&quot;: 1.4326929129074373, &quot;z&quot;: 1.4326929129074373}, {&quot;x&quot;: 0.9795516635147367, &quot;y&quot;: 1.4181906335317527, &quot;z&quot;: 1.4181906335317527}, {&quot;x&quot;: 1.019945107074601, &quot;y&quot;: 1.4038808329276842, &quot;z&quot;: 1.4038808329276842}, {&quot;x&quot;: 1.057780482379033, &quot;y&quot;: 1.3898113646583226, &quot;z&quot;: 1.3898113646583226}, {&quot;x&quot;: 1.0932502050680557, &quot;y&quot;: 1.3760186765970024, &quot;z&quot;: 1.3760186765970024}, {&quot;x&quot;: 1.1265327086843064, &quot;y&quot;: 1.3625297912033476, &quot;z&quot;: 1.3625297912033476}, {&quot;x&quot;: 1.1577929247267547, &quot;y&quot;: 1.3493639892596705, &quot;z&quot;: 1.3493639892596705}, {&quot;x&quot;: 1.1871829283191184, &quot;y&quot;: 1.3365342311883597, &quot;z&quot;: 1.3365342311883597}, {&quot;x&quot;: 1.2148426823860385, &quot;y&quot;: 1.3240483496877997, &quot;z&quot;: 1.3240483496877997}, {&quot;x&quot;: 1.2409008312489573, &quot;y&quot;: 1.31191004542509, &quot;z&quot;: 1.31191004542509}, {&quot;x&quot;: 1.2654755084939562, &quot;y&quot;: 1.300119714674545, &quot;z&quot;: 1.300119714674545}, {&quot;x&quot;: 1.2886751345948129, &quot;y&quot;: 1.2886751345948129, &quot;z&quot;: 1.2886751345948129}, {&quot;x&quot;: 0.0, &quot;y&quot;: 0.0, &quot;z&quot;: 0.0}], &quot;faces&quot;: [[0, 1, 2, 3, 4, 5, 6, 7, 8, 9, 10, 11, 12, 13, 14, 15, 16, 17, 18, 19, 20, 21, 22, 23, 24, 25, 26, 27, 28, 29, 30, 31, 32, 33, 34, 35, 36, 37, 38, 39, 40, 41, 42, 43, 44, 45, 46, 47, 48, 49, 50, 51, 52, 53, 54, 55, 56, 57, 58, 59, 60, 61, 62, 63, 64, 65, 66, 67]], &quot;color&quot;: &quot;#7fff00&quot;, &quot;opacity&quot;: 0.4}, {&quot;vertices&quot;: [{&quot;x&quot;: 0.0, &quot;y&quot;: -2.232050807568877, &quot;z&quot;: 0.0}, {&quot;x&quot;: 0.02000184176422377, &quot;y&quot;: -2.23187155997404, &quot;z&quot;: 0.02000184176422377}, {&quot;x&quot;: 0.04099718891953407, &quot;y&quot;: -2.2312976647167155, &quot;z&quot;: 0.04099718891953407}, {&quot;x&quot;: 0.06304992141370476, &quot;y&quot;: -2.230269091923288, &quot;z&quot;: 0.06304992141370476}, {&quot;x&quot;: 0.08622801491537808, &quot;y&quot;: -2.228717179557869, &quot;z&quot;: 0.08622801491537808}, {&quot;x&quot;: 0.11060360567702218, &quot;y&quot;: -2.2265633816245516, &quot;z&quot;: 0.11060360567702218}, {&quot;x&quot;: 0.13625297912033477, &quot;y&quot;: -2.2237178460700773, &quot;z&quot;: 0.13625297912033477}, {&quot;x&quot;: 0.1632564531555766, &quot;y&quot;: -2.220077806874119, &quot;z&quot;: 0.1632564531555766}, {&quot;x&quot;: 0.19169811926321692, &quot;y&quot;: -2.215525777261634, &quot;z&quot;: 0.19169811926321692}, {&quot;x&quot;: 0.2216653946727923, &quot;y&quot;: -2.2099275357300714, &quot;z&quot;: 0.2216653946727923}, {&quot;x&quot;: 0.25324832741638453, &quot;y&quot;: -2.203129904678906, &quot;z&quot;: 0.25324832741638453}, {&quot;x&quot;: 0.2865385825814875, &quot;y&quot;: -2.1949583342180463, &quot;z&quot;: 0.2865385825814875}, {&quot;x&quot;: 0.3216280229384842, &quot;y&quot;: -2.1852143229647383, &quot;z&quot;: 0.3216280229384842}, {&quot;x&quot;: 0.35860678085963466, &quot;y&quot;: -2.1736727354898338, &quot;z&quot;: 0.35860678085963466}, {&quot;x&quot;: 0.39756070228762314, &quot;y&quot;: -2.160079115116393, &quot;z&quot;: 0.39756070228762314}, {&quot;x&quot;: 0.43856802959344593, &quot;y&quot;: -2.144147143832699, &quot;z&quot;: 0.43856802959344593}, {&quot;x&quot;: 0.48169518195653654, &quot;y&quot;: -2.1255564708867642, &quot;z&quot;: 0.48169518195653654}, {&quot;x&quot;: 0.5269914946590317, &quot;y&quot;: -2.1039512201291544, &quot;z&quot;: 0.5269914946590317}, {&quot;x&quot;: 0.5744827998797435, &quot;y&quot;: -2.078939593363294, &quot;z&quot;: 0.5744827998797435}, {&quot;x&quot;: 0.6241637811185342, &quot;y&quot;: -2.0500951090738466, &quot;z&quot;: 0.6241637811185342}, {&quot;x&quot;: 0.6759891233699975, &quot;y&quot;: -2.0169601428237995, &quot;z&quot;: 0.6759891233699975}, {&quot;x&quot;: 0.7298636246006386, &quot;y&quot;: -1.9790525476951117, &quot;z&quot;: 0.7298636246006386}, {&quot;x&quot;: 0.7856316419948673, &quot;y&quot;: -1.9358761979428782, &quot;z&quot;: 0.7856316419948673}, {&quot;x&quot;: 0.8430665227155517, &quot;y&quot;: -1.8869362692262537, &quot;z&quot;: 0.8430665227155517}, {&quot;x&quot;: 0.9018610026115063, &quot;y&quot;: -1.8317598836927325, &quot;z&quot;: 0.9018610026115063}, {&quot;x&quot;: 0.9616199120350124, &quot;y&quot;: -1.7699223421168588, &quot;z&quot;: 0.9616199120350124}, {&quot;x&quot;: 1.021856837252204, &quot;y&quot;: -1.7010784861054242, &quot;z&quot;: 1.021856837252204}, {&quot;x&quot;: 1.0819965447540396, &quot;y&quot;: -1.6249977728752483, &quot;z&quot;: 1.0819965447540396}, {&quot;x&quot;: 1.1413848555528754, &quot;y&quot;: -1.5416004769712413, &quot;z&quot;: 1.1413848555528754}, {&quot;x&quot;: 1.1993071360941894, &quot;y&quot;: -1.4509912453891598, &quot;z&quot;: 1.1993071360941894}, {&quot;x&quot;: 1.2550155910539276, &quot;y&quot;: -1.3534853305418562, &quot;z&quot;: 1.2550155910539276}, {&quot;x&quot;: 1.3077641625649248, &quot;y&quot;: -1.2496225821385423, &quot;z&quot;: 1.3077641625649248}, {&quot;x&quot;: 1.3568482852273263, &quot;y&quot;: -1.1401650184601373, &quot;z&quot;: 1.3568482852273263}, {&quot;x&quot;: 1.4016453886803146, &quot;y&quot;: -1.0260756387086167, &quot;z&quot;: 1.4016453886803146}, {&quot;x&quot;: 1.441651303054034, &quot;y&quot;: -0.908478865122402, &quot;z&quot;: 1.441651303054034}, {&quot;x&quot;: 1.4765079254765279, &quot;y&quot;: -0.7886060484036859, &quot;z&quot;: 1.4765079254765279}, {&quot;x&quot;: 1.506018709264713, &quot;y&quot;: -0.6677320587317732, &quot;z&quot;: 1.506018709264713}, {&quot;x&quot;: 1.5301504839822415, &quot;y&quot;: -0.5471104096128159, &quot;z&quot;: 1.5301504839822415}, {&quot;x&quot;: 1.5490223039646167, &quot;y&quot;: -0.4279142568426267, &quot;z&quot;: 1.5490223039646167}, {&quot;x&quot;: 1.5628838979780568, &quot;y&quot;: -0.31118909114991117, &quot;z&quot;: 1.5628838979780568}, {&quot;x&quot;: 1.5720874419264674, &quot;y&quot;: -0.19782051825599054, &quot;z&quot;: 1.5720874419264674}, {&quot;x&quot;: 1.57705665573742, &quot;y&quot;: -0.08851788947713535, &quot;z&quot;: 1.57705665573742}, {&quot;x&quot;: 1.5782567545701358, &quot;y&quot;: 0.016187676682000125, &quot;z&quot;: 1.5782567545701358}, {&quot;x&quot;: 1.5761678468160314, &quot;y&quot;: 0.11593379531227563, &quot;z&quot;: 1.5761678468160314}, {&quot;x&quot;: 1.5712632839897345, &quot;y&quot;: 0.21050936402086212, &quot;z&quot;: 1.5712632839897345}, {&quot;x&quot;: 1.563993481287082, &quot;y&quot;: 0.29983260088239894, &quot;z&quot;: 1.563993481287082}, {&quot;x&quot;: 1.5547749837509939, &quot;y&quot;: 0.38392747671021277, &quot;z&quot;: 1.5547749837509939}, {&quot;x&quot;: 1.5439840901353206, &quot;y&quot;: 0.4629007089937208, &quot;z&quot;: 1.5439840901353206}, {&quot;x&quot;: 1.5319541330126483, &quot;y&quot;: 0.5369207355465101, &quot;z&quot;: 1.5319541330126483}, {&quot;x&quot;: 1.5189754846054437, &quot;y&quot;: 0.606199440699339, &quot;z&quot;: 1.5189754846054437}, {&quot;x&quot;: 1.5052974436141764, &quot;y&quot;: 0.6709769147043203, &quot;z&quot;: 1.5052974436141764}, {&quot;x&quot;: 1.4911313006177158, &quot;y&quot;: 0.7315091907864968, &quot;z&quot;: 1.4911313006177158}, {&quot;x&quot;: 1.4766540370683139, &quot;y&quot;: 0.7880587016133872, &quot;z&quot;: 1.4766540370683139}, {&quot;x&quot;: 1.4620122604277408, &quot;y&quot;: 0.8408870960401359, &quot;z&quot;: 1.4620122604277408}, {&quot;x&quot;: 1.4473261032231783, &quot;y&quot;: 0.8902500263557959, &quot;z&quot;: 1.4473261032231783}, {&quot;x&quot;: 1.4326929129074373, &quot;y&quot;: 0.9363935295475306, &quot;z&quot;: 1.4326929129074373}, {&quot;x&quot;: 1.4181906335317527, &quot;y&quot;: 0.9795516635147367, &quot;z&quot;: 1.4181906335317527}, {&quot;x&quot;: 1.4038808329276842, &quot;y&quot;: 1.019945107074601, &quot;z&quot;: 1.4038808329276842}, {&quot;x&quot;: 1.3898113646583226, &quot;y&quot;: 1.057780482379033, &quot;z&quot;: 1.3898113646583226}, {&quot;x&quot;: 1.3760186765970024, &quot;y&quot;: 1.0932502050680557, &quot;z&quot;: 1.3760186765970024}, {&quot;x&quot;: 1.3625297912033476, &quot;y&quot;: 1.1265327086843064, &quot;z&quot;: 1.3625297912033476}, {&quot;x&quot;: 1.3493639892596705, &quot;y&quot;: 1.1577929247267547, &quot;z&quot;: 1.3493639892596705}, {&quot;x&quot;: 1.3365342311883597, &quot;y&quot;: 1.1871829283191184, &quot;z&quot;: 1.3365342311883597}, {&quot;x&quot;: 1.3240483496877997, &quot;y&quot;: 1.2148426823860385, &quot;z&quot;: 1.3240483496877997}, {&quot;x&quot;: 1.31191004542509, &quot;y&quot;: 1.2409008312489573, &quot;z&quot;: 1.31191004542509}, {&quot;x&quot;: 1.300119714674545, &quot;y&quot;: 1.2654755084939562, &quot;z&quot;: 1.300119714674545}, {&quot;x&quot;: 1.2886751345948129, &quot;y&quot;: 1.2886751345948129, &quot;z&quot;: 1.2886751345948129}, {&quot;x&quot;: 0.0, &quot;y&quot;: 0.0, &quot;z&quot;: 0.0}], &quot;faces&quot;: [[0, 1, 2, 3, 4, 5, 6, 7, 8, 9, 10, 11, 12, 13, 14, 15, 16, 17, 18, 19, 20, 21, 22, 23, 24, 25, 26, 27, 28, 29, 30, 31, 32, 33, 34, 35, 36, 37, 38, 39, 40, 41, 42, 43, 44, 45, 46, 47, 48, 49, 50, 51, 52, 53, 54, 55, 56, 57, 58, 59, 60, 61, 62, 63, 64, 65, 66, 67]], &quot;color&quot;: &quot;#00ffff&quot;, &quot;opacity&quot;: 0.4}, {&quot;vertices&quot;: [{&quot;x&quot;: 0.0, &quot;y&quot;: 0.0, &quot;z&quot;: -2.232050807568877}, {&quot;x&quot;: 0.02000184176422377, &quot;y&quot;: 0.02000184176422377, &quot;z&quot;: -2.23187155997404}, {&quot;x&quot;: 0.04099718891953407, &quot;y&quot;: 0.04099718891953407, &quot;z&quot;: -2.2312976647167155}, {&quot;x&quot;: 0.06304992141370477, &quot;y&quot;: 0.06304992141370477, &quot;z&quot;: -2.2302690919232884}, {&quot;x&quot;: 0.08622801491537808, &quot;y&quot;: 0.08622801491537808, &quot;z&quot;: -2.228717179557869}, {&quot;x&quot;: 0.11060360567702221, &quot;y&quot;: 0.11060360567702221, &quot;z&quot;: -2.226563381624552}, {&quot;x&quot;: 0.13625297912033477, &quot;y&quot;: 0.13625297912033477, &quot;z&quot;: -2.2237178460700773}, {&quot;x&quot;: 0.16325645315557663, &quot;y&quot;: 0.16325645315557663, &quot;z&quot;: -2.2200778068741194}, {&quot;x&quot;: 0.19169811926321698, &quot;y&quot;: 0.19169811926321698, &quot;z&quot;: -2.215525777261634}, {&quot;x&quot;: 0.22166539467279237, &quot;y&quot;: 0.22166539467279237, &quot;z&quot;: -2.209927535730072}, {&quot;x&quot;: 0.2532483274163845, &quot;y&quot;: 0.2532483274163845, &quot;z&quot;: -2.2031299046789057}, {&quot;x&quot;: 0.2865385825814875, &quot;y&quot;: 0.2865385825814875, &quot;z&quot;: -2.1949583342180463}, {&quot;x&quot;: 0.32162802293848425, &quot;y&quot;: 0.32162802293848425, &quot;z&quot;: -2.1852143229647387}, {&quot;x&quot;: 0.3586067808596346, &quot;y&quot;: 0.3586067808596346, &quot;z&quot;: -2.1736727354898333}, {&quot;x&quot;: 0.3975607022876232, &quot;y&quot;: 0.3975607022876232, &quot;z&quot;: -2.1600791151163934}, {&quot;x&quot;: 0.43856802959344593, &quot;y&quot;: 0.43856802959344593, &quot;z&quot;: -2.144147143832699}, {&quot;x&quot;: 0.48169518195653654, &quot;y&quot;: 0.48169518195653654, &quot;z&quot;: -2.1255564708867642}, {&quot;x&quot;: 0.5269914946590317, &quot;y&quot;: 0.5269914946590317, &quot;z&quot;: -2.1039512201291544}, {&quot;x&quot;: 0.5744827998797435, &quot;y&quot;: 0.5744827998797435, &quot;z&quot;: -2.078939593363294}, {&quot;x&quot;: 0.6241637811185341, &quot;y&quot;: 0.6241637811185341, &quot;z&quot;: -2.0500951090738466}, {&quot;x&quot;: 0.6759891233699974, &quot;y&quot;: 0.6759891233699974, &quot;z&quot;: -2.016960142823799}, {&quot;x&quot;: 0.7298636246006386, &quot;y&quot;: 0.7298636246006386, &quot;z&quot;: -1.9790525476951117}, {&quot;x&quot;: 0.7856316419948673, &quot;y&quot;: 0.7856316419948673, &quot;z&quot;: -1.9358761979428782}, {&quot;x&quot;: 0.8430665227155517, &quot;y&quot;: 0.8430665227155517, &quot;z&quot;: -1.8869362692262537}, {&quot;x&quot;: 0.9018610026115063, &quot;y&quot;: 0.9018610026115063, &quot;z&quot;: -1.8317598836927325}, {&quot;x&quot;: 0.9616199120350124, &quot;y&quot;: 0.9616199120350124, &quot;z&quot;: -1.7699223421168588}, {&quot;x&quot;: 1.021856837252204, &quot;y&quot;: 1.021856837252204, &quot;z&quot;: -1.7010784861054242}, {&quot;x&quot;: 1.0819965447540396, &quot;y&quot;: 1.0819965447540396, &quot;z&quot;: -1.6249977728752483}, {&quot;x&quot;: 1.1413848555528754, &quot;y&quot;: 1.1413848555528754, &quot;z&quot;: -1.5416004769712413}, {&quot;x&quot;: 1.1993071360941894, &quot;y&quot;: 1.1993071360941894, &quot;z&quot;: -1.4509912453891598}, {&quot;x&quot;: 1.2550155910539276, &quot;y&quot;: 1.2550155910539276, &quot;z&quot;: -1.3534853305418562}, {&quot;x&quot;: 1.3077641625649248, &quot;y&quot;: 1.3077641625649248, &quot;z&quot;: -1.2496225821385423}, {&quot;x&quot;: 1.3568482852273263, &quot;y&quot;: 1.3568482852273263, &quot;z&quot;: -1.1401650184601373}, {&quot;x&quot;: 1.4016453886803146, &quot;y&quot;: 1.4016453886803146, &quot;z&quot;: -1.0260756387086167}, {&quot;x&quot;: 1.441651303054034, &quot;y&quot;: 1.441651303054034, &quot;z&quot;: -0.908478865122402}, {&quot;x&quot;: 1.4765079254765279, &quot;y&quot;: 1.4765079254765279, &quot;z&quot;: -0.7886060484036859}, {&quot;x&quot;: 1.506018709264713, &quot;y&quot;: 1.506018709264713, &quot;z&quot;: -0.6677320587317732}, {&quot;x&quot;: 1.5301504839822415, &quot;y&quot;: 1.5301504839822415, &quot;z&quot;: -0.5471104096128159}, {&quot;x&quot;: 1.5490223039646167, &quot;y&quot;: 1.5490223039646167, &quot;z&quot;: -0.4279142568426267}, {&quot;x&quot;: 1.5628838979780568, &quot;y&quot;: 1.5628838979780568, &quot;z&quot;: -0.31118909114991117}, {&quot;x&quot;: 1.5720874419264674, &quot;y&quot;: 1.5720874419264674, &quot;z&quot;: -0.19782051825599054}, {&quot;x&quot;: 1.57705665573742, &quot;y&quot;: 1.57705665573742, &quot;z&quot;: -0.08851788947713535}, {&quot;x&quot;: 1.5782567545701358, &quot;y&quot;: 1.5782567545701358, &quot;z&quot;: 0.016187676682000125}, {&quot;x&quot;: 1.5761678468160314, &quot;y&quot;: 1.5761678468160314, &quot;z&quot;: 0.11593379531227563}, {&quot;x&quot;: 1.5712632839897345, &quot;y&quot;: 1.5712632839897345, &quot;z&quot;: 0.21050936402086212}, {&quot;x&quot;: 1.563993481287082, &quot;y&quot;: 1.563993481287082, &quot;z&quot;: 0.29983260088239894}, {&quot;x&quot;: 1.5547749837509939, &quot;y&quot;: 1.5547749837509939, &quot;z&quot;: 0.38392747671021277}, {&quot;x&quot;: 1.5439840901353206, &quot;y&quot;: 1.5439840901353206, &quot;z&quot;: 0.4629007089937208}, {&quot;x&quot;: 1.5319541330126483, &quot;y&quot;: 1.5319541330126483, &quot;z&quot;: 0.5369207355465101}, {&quot;x&quot;: 1.5189754846054437, &quot;y&quot;: 1.5189754846054437, &quot;z&quot;: 0.606199440699339}, {&quot;x&quot;: 1.5052974436141762, &quot;y&quot;: 1.5052974436141762, &quot;z&quot;: 0.6709769147043203}, {&quot;x&quot;: 1.4911313006177158, &quot;y&quot;: 1.4911313006177158, &quot;z&quot;: 0.7315091907864968}, {&quot;x&quot;: 1.4766540370683139, &quot;y&quot;: 1.4766540370683139, &quot;z&quot;: 0.7880587016133872}, {&quot;x&quot;: 1.4620122604277408, &quot;y&quot;: 1.4620122604277408, &quot;z&quot;: 0.8408870960401359}, {&quot;x&quot;: 1.4473261032231783, &quot;y&quot;: 1.4473261032231783, &quot;z&quot;: 0.8902500263557959}, {&quot;x&quot;: 1.4326929129074373, &quot;y&quot;: 1.4326929129074373, &quot;z&quot;: 0.9363935295475306}, {&quot;x&quot;: 1.4181906335317527, &quot;y&quot;: 1.4181906335317527, &quot;z&quot;: 0.9795516635147367}, {&quot;x&quot;: 1.4038808329276842, &quot;y&quot;: 1.4038808329276842, &quot;z&quot;: 1.019945107074601}, {&quot;x&quot;: 1.3898113646583226, &quot;y&quot;: 1.3898113646583226, &quot;z&quot;: 1.057780482379033}, {&quot;x&quot;: 1.3760186765970024, &quot;y&quot;: 1.3760186765970024, &quot;z&quot;: 1.0932502050680557}, {&quot;x&quot;: 1.3625297912033476, &quot;y&quot;: 1.3625297912033476, &quot;z&quot;: 1.1265327086843064}, {&quot;x&quot;: 1.3493639892596705, &quot;y&quot;: 1.3493639892596705, &quot;z&quot;: 1.1577929247267547}, {&quot;x&quot;: 1.3365342311883597, &quot;y&quot;: 1.3365342311883597, &quot;z&quot;: 1.1871829283191184}, {&quot;x&quot;: 1.3240483496877997, &quot;y&quot;: 1.3240483496877997, &quot;z&quot;: 1.2148426823860385}, {&quot;x&quot;: 1.31191004542509, &quot;y&quot;: 1.31191004542509, &quot;z&quot;: 1.2409008312489573}, {&quot;x&quot;: 1.300119714674545, &quot;y&quot;: 1.300119714674545, &quot;z&quot;: 1.2654755084939562}, {&quot;x&quot;: 1.2886751345948129, &quot;y&quot;: 1.2886751345948129, &quot;z&quot;: 1.2886751345948129}, {&quot;x&quot;: 0.0, &quot;y&quot;: 0.0, &quot;z&quot;: 0.0}], &quot;faces&quot;: [[0, 1, 2, 3, 4, 5, 6, 7, 8, 9, 10, 11, 12, 13, 14, 15, 16, 17, 18, 19, 20, 21, 22, 23, 24, 25, 26, 27, 28, 29, 30, 31, 32, 33, 34, 35, 36, 37, 38, 39, 40, 41, 42, 43, 44, 45, 46, 47, 48, 49, 50, 51, 52, 53, 54, 55, 56, 57, 58, 59, 60, 61, 62, 63, 64, 65, 66, 67]], &quot;color&quot;: &quot;#7f00ff&quot;, &quot;opacity&quot;: 0.4}];\n",
       "    for ( var i=0 ; i < surfaces.length ; i++ ) addSurface( surfaces[i] );\n",
       "\n",
       "    function addSurface( json ) {\n",
       "\n",
       "        var useFaceColors = 'faceColors' in json ? true : false;\n",
       "\n",
       "        var geometry = new THREE.Geometry();\n",
       "        for ( var i=0 ; i < json.vertices.length ; i++ ) {\n",
       "            var v = json.vertices[i];\n",
       "            geometry.vertices.push( new THREE.Vector3( a[0]*v.x, a[1]*v.y, a[2]*v.z ) );\n",
       "        }\n",
       "        for ( var i=0 ; i < json.faces.length ; i++ ) {\n",
       "            var f = json.faces[i];\n",
       "            for ( var j=0 ; j < f.length - 2 ; j++ ) {\n",
       "                var face = new THREE.Face3( f[0], f[j+1], f[j+2] );\n",
       "                if ( useFaceColors ) face.color.set( json.faceColors[i] );\n",
       "                geometry.faces.push( face );\n",
       "            }\n",
       "        }\n",
       "        geometry.computeVertexNormals();\n",
       "\n",
       "        var side = json.singleSide ? THREE.FrontSide : THREE.DoubleSide;\n",
       "        var transparent = json.opacity < 1 ? true : false;\n",
       "\n",
       "        var material = new THREE.MeshPhongMaterial( { side: side,\n",
       "                                     color: useFaceColors ? 'white' : json.color,\n",
       "                                     vertexColors: useFaceColors ? THREE.FaceColors : THREE.NoColors,\n",
       "                                     transparent: transparent, opacity: json.opacity,\n",
       "                                     shininess: 20, flatShading: json.useFlatShading } );\n",
       "\n",
       "        var c = new THREE.Vector3();\n",
       "        geometry.computeBoundingBox();\n",
       "        geometry.boundingBox.getCenter( c );\n",
       "        geometry.translate( -c.x, -c.y, -c.z );\n",
       "\n",
       "        var mesh = new THREE.Mesh( geometry, material );\n",
       "        mesh.position.set( c.x, c.y, c.z );\n",
       "        if ( transparent && json.renderOrder ) mesh.renderOrder = json.renderOrder;\n",
       "        scene.add( mesh );\n",
       "\n",
       "        if ( json.showMeshGrid ) {\n",
       "\n",
       "            var geometry = new THREE.Geometry();\n",
       "\n",
       "            for ( var i=0 ; i < json.faces.length ; i++ ) {\n",
       "                var f = json.faces[i];\n",
       "                for ( var j=0 ; j < f.length ; j++ ) {\n",
       "                    var k = j === f.length-1 ? 0 : j+1;\n",
       "                    var v1 = json.vertices[f[j]];\n",
       "                    var v2 = json.vertices[f[k]];\n",
       "                    // vertices in opposite directions on neighboring faces\n",
       "                    var nudge = f[j] < f[k] ? .0005*zRange : -.0005*zRange;\n",
       "                    geometry.vertices.push( new THREE.Vector3( a[0]*v1.x, a[1]*v1.y, a[2]*(v1.z+nudge) ) );\n",
       "                    geometry.vertices.push( new THREE.Vector3( a[0]*v2.x, a[1]*v2.y, a[2]*(v2.z+nudge) ) );\n",
       "                }\n",
       "            }\n",
       "\n",
       "            var material = new THREE.LineBasicMaterial( { color: 'black', linewidth: 1 } );\n",
       "\n",
       "            var c = new THREE.Vector3();\n",
       "            geometry.computeBoundingBox();\n",
       "            geometry.boundingBox.getCenter( c );\n",
       "            geometry.translate( -c.x, -c.y, -c.z );\n",
       "\n",
       "            var mesh = new THREE.LineSegments( geometry, material );\n",
       "            mesh.position.set( c.x, c.y, c.z );\n",
       "            scene.add( mesh );\n",
       "\n",
       "        }\n",
       "\n",
       "    }\n",
       "\n",
       "    var scratch = new THREE.Vector3();\n",
       "\n",
       "    function render() {\n",
       "\n",
       "        if ( animate ) requestAnimationFrame( render );\n",
       "        renderer.render( scene, camera );\n",
       "\n",
       "        // Resize text based on distance from camera.\n",
       "        // Not neccessary for orthographic due to the nature of the projection (preserves sizes).\n",
       "        if ( !camera.isOrthographicCamera ) {\n",
       "            for ( var i=0 ; i < scene.children.length ; i++ ) {\n",
       "                if ( scene.children[i].type === 'Sprite' ) {\n",
       "                    var sprite = scene.children[i];\n",
       "                    var adjust = scratch.addVectors( sprite.position, scene.position )\n",
       "                                    .sub( camera.position ).length() / 5;\n",
       "                    sprite.scale.set( adjust, .25*adjust, 1 ); // ratio of canvas width to height\n",
       "                }\n",
       "            }\n",
       "        }\n",
       "    }\n",
       "    \n",
       "    render();\n",
       "    controls.update();\n",
       "    if ( !animate ) render();\n",
       "\n",
       "\n",
       "    // menu functions\n",
       "\n",
       "    function toggleMenu() {\n",
       "\n",
       "        var m = document.getElementById( 'menu-content' );\n",
       "        if ( m.style.display === 'block' ) m.style.display = 'none'\n",
       "        else m.style.display = 'block';\n",
       "\n",
       "    }\n",
       "\n",
       "\n",
       "    function saveAsPNG() {\n",
       "\n",
       "        var a = document.body.appendChild( document.createElement( 'a' ) );\n",
       "        a.href = renderer.domElement.toDataURL( 'image/png' );\n",
       "        a.download = 'screenshot';\n",
       "        a.click();\n",
       "\n",
       "    }\n",
       "\n",
       "    function saveAsHTML() {\n",
       "\n",
       "        toggleMenu(); // otherwise visible in output\n",
       "        event.stopPropagation();\n",
       "\n",
       "        var blob = new Blob( [ '<!DOCTYPE html>\\n' + document.documentElement.outerHTML ] );\n",
       "        var a = document.body.appendChild( document.createElement( 'a' ) );\n",
       "        a.href = window.URL.createObjectURL( blob );\n",
       "        a.download = 'graphic.html';\n",
       "        a.click();\n",
       "\n",
       "    }\n",
       "\n",
       "    function getViewpoint() {\n",
       "\n",
       "        function roundTo( x, n ) { return +x.toFixed(n); }\n",
       "\n",
       "        var v = camera.quaternion.inverse();\n",
       "        var r = Math.sqrt( v.x*v.x + v.y*v.y + v.z*v.z );\n",
       "        var axis = [ roundTo( v.x / r, 4 ), roundTo( v.y / r, 4 ), roundTo( v.z / r, 4 ) ];\n",
       "        var angle = roundTo( 2 * Math.atan2( r, v.w ) * 180 / Math.PI, 2 );\n",
       "\n",
       "        var textArea = document.createElement( 'textarea' );\n",
       "        textArea.textContent = JSON.stringify( axis ) + ',' + angle;\n",
       "        textArea.style.csstext = 'position: absolute; top: -100%';\n",
       "        document.body.append( textArea );\n",
       "        textArea.select();\n",
       "        document.execCommand( 'copy' );\n",
       "\n",
       "        var m = document.getElementById( 'menu-message' );\n",
       "        m.innerHTML = 'Viewpoint copied to clipboard';\n",
       "        m.style.display = 'block';\n",
       "        setTimeout( function() { m.style.display = 'none'; }, 2000 );\n",
       "\n",
       "    }\n",
       "\n",
       "</script>\n",
       "\n",
       "<div id=&quot;menu-container&quot; onclick=&quot;toggleMenu()&quot;>&#x24d8;\n",
       "<div id=&quot;menu-message&quot;></div>\n",
       "<div id=&quot;menu-content&quot;>\n",
       "<div onclick=&quot;saveAsPNG()&quot;>Save as PNG</div>\n",
       "<div onclick=&quot;saveAsHTML()&quot;>Save as HTML</div>\n",
       "<div onclick=&quot;getViewpoint()&quot;>Get Viewpoint</div>\n",
       "<div>Close Menu</div>\n",
       "</div></div>\n",
       "\n",
       "</body>\n",
       "</html>\n",
       "\"\n",
       "        width=\"100%\"\n",
       "        height=\"400\"\n",
       "        style=\"border: 0;\">\n",
       "</iframe>\n"
      ],
      "text/plain": [
       "Graphics3d Object"
      ]
     },
     "execution_count": 59,
     "metadata": {},
     "output_type": "execute_result"
    }
   ],
   "source": [
    "rpf = pf.to_RationalPolyhedralFan()\n",
    "rpf.plot()"
   ]
  },
  {
   "cell_type": "code",
   "execution_count": 60,
   "metadata": {},
   "outputs": [
    {
     "data": {
      "image/png": "[encoded data removed]",
      "text/plain": [
       "Graph on 4 vertices"
      ]
     },
     "execution_count": 60,
     "metadata": {},
     "output_type": "execute_result"
    }
   ],
   "source": [
    "rpf.vertex_graph()"
   ]
  },
  {
   "cell_type": "code",
   "execution_count": 61,
   "metadata": {},
   "outputs": [
    {
     "data": {
      "image/png": "[encoded data removed]",
      "text/plain": [
       "Graphics object consisting of 4 graphics primitives"
      ]
     },
     "execution_count": 61,
     "metadata": {},
     "output_type": "execute_result"
    }
   ],
   "source": [
    "gf.render()"
   ]
  },
  {
   "cell_type": "markdown",
   "metadata": {},
   "source": [
    "### Fundamental theorem of tropical geometry\n",
    "\n",
    "We already saw that the tropicalisation of a variety $X = V(I)$ is defined as:\n",
    "$$trop(X) := \\cap_{f \\in I}V(trop(f))$$\n",
    "    \n",
    "The intersection is over infinitely many elements of the ideal. Can we make it finite? Yes, it is enough to intersect over the **tropical basis**.\n",
    "\n",
    "It also holds that:\n",
    "$$trop(X) = val(X) := \\{val(y) \\in \\mathbb Q^n, y \\in X\\}$$"
   ]
  },
  {
   "cell_type": "code",
   "execution_count": 62,
   "metadata": {},
   "outputs": [
    {
     "data": {
      "text/plain": [
       "[x^3 + 3*x^2*y + 3*x*y^2 + y^3 + 3*x^2*z + 6*x*y*z + 3*y^2*z + 3*x*z^2 + 3*y*z^2 + z^3 - 1,\n",
       " x^3 + 3*x^2*y + 3*x*y^2 + y^3 + 3*x^2*z + 6*x*y*z + 3*y^2*z + 3*x*z^2 + 3*y*z^2 + z^3 - x,\n",
       " x - 1,\n",
       " x^2*y + 1/3*y^3 + y^2*z + y*z^2 + 1/3*z^3 + y^2 + 2*y*z + z^2 + z]"
      ]
     },
     "execution_count": 62,
     "metadata": {},
     "output_type": "execute_result"
    }
   ],
   "source": [
    "# the tropical basis of the ideal I. Its intersection will give us the tropicalisation of V(I)\n",
    "gf.tropical_basis()"
   ]
  },
  {
   "cell_type": "markdown",
   "metadata": {},
   "source": [
    "#### Observation\n",
    "\n",
    "Here we can see clearly that if we tropicalised the generators of `I` we would obtain some large prevariety than the actual tropicalisation of the variety.\n",
    "\n",
    "The tropical generators to obtain the correct tropical variety are those in the tropical basis."
   ]
  },
  {
   "cell_type": "code",
   "execution_count": null,
   "metadata": {},
   "outputs": [],
   "source": []
  }
 ],
 "metadata": {
  "kernelspec": {
   "display_name": "SageMath 9.1",
   "language": "sage",
   "name": "sagemath"
  },
  "language_info": {
   "codemirror_mode": {
    "name": "ipython",
    "version": 3
   },
   "file_extension": ".py",
   "mimetype": "text/x-python",
   "name": "python",
   "nbconvert_exporter": "python",
   "pygments_lexer": "ipython3",
   "version": "3.7.3"
  }
 },
 "nbformat": 4,
 "nbformat_minor": 1
}
